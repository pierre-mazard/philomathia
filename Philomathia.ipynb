{
  "cells": [
    {
      "cell_type": "markdown",
      "metadata": {
        "colab_type": "text",
        "id": "view-in-github"
      },
      "source": [
        "<a href=\"https://colab.research.google.com/github/pierre-mazard/philomathia/blob/main/Philomathia.ipynb\" target=\"_parent\"><img src=\"https://colab.research.google.com/assets/colab-badge.svg\" alt=\"Open In Colab\"/></a>"
      ]
    },
    {
      "cell_type": "markdown",
      "metadata": {
        "id": "mYr0YGpbJpWY"
      },
      "source": [
        "# Philomathia\n"
      ]
    },
    {
      "cell_type": "markdown",
      "metadata": {
        "id": "DDnH8RevvQ2-"
      },
      "source": [
        "Sommaire :\n",
        "* Algèbre linéaire\n",
        "* Probabilités et Statistique\n",
        "* Calcul de dérivée\n",
        "* Aller plus loin..."
      ]
    },
    {
      "cell_type": "markdown",
      "metadata": {
        "id": "mqYa4P1AYLF8"
      },
      "source": [
        "**Pourquoi Python pour les mathématiques ?**\n",
        "\n",
        "Le langage Python est un langage généraliste, offrant des bibliothèques puissantes en calcul numérique (NumPy, SciPy, SymPy, Matplotlib,...), facilitant les opérations mathématiques plus ou moins complexes, l'analyse statistique et la visualisation des données. Son interactivité via des environnements comme Jupyter Notebook favorise un processus de développement itératif.\n",
        "La communauté active de développeurs et les nombreuses ressources en ligne font de Python un outil incontournable."
      ]
    },
    {
      "cell_type": "markdown",
      "metadata": {
        "id": "hdEXFBsImr5q"
      },
      "source": [
        "**Pourquoi ce projet ?**\n",
        "\n",
        "Dans ce projet, nous allons aborder des notions de mathématiques basiques nécessaires à la prochaine Unit, le Machine Learning. Pas de panique, nous n'allons rien inventer, nous allons simplement utiliser Python afin de manipuler des vecteurs, des matrices, des probabilités, des graphes faire des simulations et d'autres calculs sympatiques !\n",
        "\n",
        "\\\n",
        "\n",
        "**Il n'est bien sûr pas question d'apprendre par coeur les notions apprises dans ce sujet, mais de s'en servir comme un guide pour d'éventuels futurs questionnements.**\n",
        "\n",
        "\\\n",
        "\n",
        "**Merci de lire et de répondre attentivement aux questions ci-dessous. Appuyez-vous sur les ressources de la base de connaissances.**"
      ]
    },
    {
      "cell_type": "markdown",
      "metadata": {
        "id": "s_6BNQr_fGrq"
      },
      "source": [
        "# Librairies utilisées"
      ]
    },
    {
      "cell_type": "code",
      "execution_count": 2,
      "metadata": {
        "id": "2WjXfJYMi0aA"
      },
      "outputs": [],
      "source": [
        "import numpy as np\n",
        "import pandas as pd\n",
        "import sympy as sp\n",
        "from fractions import Fraction\n",
        "\n",
        "import matplotlib.pyplot as plt\n",
        "\n",
        "from sklearn.datasets import load_wine"
      ]
    },
    {
      "cell_type": "markdown",
      "metadata": {
        "id": "tMJvSpupa59E"
      },
      "source": [
        "# Algèbre linéaire\n",
        "Vous devrez exclusivement utiliser la librairie `numpy` dans la section suivante."
      ]
    },
    {
      "cell_type": "markdown",
      "metadata": {
        "id": "ralGJ7YaHXLm"
      },
      "source": [
        "## **Job 0**\n",
        "\n",
        "1. Créez le vecteur ligne $v = (4, 1, 9)$\n",
        "2. Additionnez, multipliez et divisez le vecteur $v$ par $2$  \n",
        "\n"
      ]
    },
    {
      "cell_type": "code",
      "execution_count": 3,
      "metadata": {
        "id": "_JUmL7sQMsCV"
      },
      "outputs": [
        {
          "data": {
            "text/plain": [
              "(array([4, 1, 9]), (3,))"
            ]
          },
          "execution_count": 3,
          "metadata": {},
          "output_type": "execute_result"
        }
      ],
      "source": [
        "v = np.array([4,1,9])\n",
        "v, v.shape"
      ]
    },
    {
      "cell_type": "code",
      "execution_count": 4,
      "metadata": {},
      "outputs": [
        {
          "data": {
            "text/plain": [
              "(array([ 6,  3, 11]), (3,))"
            ]
          },
          "execution_count": 4,
          "metadata": {},
          "output_type": "execute_result"
        }
      ],
      "source": [
        "v_add = v + 2\n",
        "v_add, v_add.shape"
      ]
    },
    {
      "cell_type": "code",
      "execution_count": 5,
      "metadata": {},
      "outputs": [
        {
          "data": {
            "text/plain": [
              "(array([ 8,  2, 18]), (3,))"
            ]
          },
          "execution_count": 5,
          "metadata": {},
          "output_type": "execute_result"
        }
      ],
      "source": [
        "v_mul = v * 2\n",
        "v_mul, v_mul.shape"
      ]
    },
    {
      "cell_type": "code",
      "execution_count": 6,
      "metadata": {},
      "outputs": [
        {
          "data": {
            "text/plain": [
              "(array([2. , 0.5, 4.5]), (3,))"
            ]
          },
          "execution_count": 6,
          "metadata": {},
          "output_type": "execute_result"
        }
      ],
      "source": [
        "v_div = v / 2\n",
        "v_div, v_div.shape"
      ]
    },
    {
      "cell_type": "markdown",
      "metadata": {
        "id": "aheDJxhm1vNL"
      },
      "source": [
        "--------------------------------------------------------------------------------\n"
      ]
    },
    {
      "cell_type": "markdown",
      "metadata": {
        "id": "ZkcCZMIdMw5I"
      },
      "source": [
        "## **Job 1**\n",
        "Additionnez le vecteur $v$ avec le vecteur $w$, définie comme suit $w = (-1, -1, 0)$"
      ]
    },
    {
      "cell_type": "code",
      "execution_count": 7,
      "metadata": {
        "id": "Uf29sdXcM58l"
      },
      "outputs": [
        {
          "data": {
            "text/plain": [
              "(array([3, 0, 9]), (3,))"
            ]
          },
          "execution_count": 7,
          "metadata": {},
          "output_type": "execute_result"
        }
      ],
      "source": [
        "w = np.array([-1,-1,0])\n",
        "v_add_w = v + w\n",
        "\n",
        "v_add_w, v_add_w.shape"
      ]
    },
    {
      "cell_type": "markdown",
      "metadata": {
        "id": "ITMFuM1BgG6H"
      },
      "source": [
        "-----------------------------------------------------------------"
      ]
    },
    {
      "cell_type": "markdown",
      "metadata": {
        "id": "yIMtWbHTNgme"
      },
      "source": [
        "## **Job 2**\n",
        "Soient les matrices $M$ et $N$ définies comme suit :\n",
        "$$M = \\begin{pmatrix}\n",
        "1 & 2  \\\\\n",
        "5 & 6\n",
        "\\end{pmatrix},\\space N = \\begin{pmatrix}\n",
        "1 & 1 & -1  \\\\\n",
        "0 & 0 & 1\n",
        "\\end{pmatrix} $$\n",
        "\n",
        "1. Créez les matrices $M$ et $N$. Quelles sont les dimensions de chacune ? Sont-elles des matrices carrées ?\n",
        "2. Est-il possible d'additionner $M$ et $N$ ? Justifiez. Si oui, calculez l'addition.\n",
        "3. Est-il possible de faire le produit matriciel de M par N ? Justifiez. Si oui, calculez le produit.\n",
        "\n"
      ]
    },
    {
      "cell_type": "code",
      "execution_count": 8,
      "metadata": {
        "id": "smbJ7DPBfQxT"
      },
      "outputs": [],
      "source": [
        "M = np.array(([1, 2], [5, 6]))\n",
        "N = np.array(([1, 1, -1], [0, 0, 1]))"
      ]
    },
    {
      "cell_type": "code",
      "execution_count": 9,
      "metadata": {},
      "outputs": [
        {
          "data": {
            "text/plain": [
              "(array([[1, 2],\n",
              "        [5, 6]]),\n",
              " (2, 2))"
            ]
          },
          "execution_count": 9,
          "metadata": {},
          "output_type": "execute_result"
        }
      ],
      "source": [
        "M, M.shape"
      ]
    },
    {
      "cell_type": "code",
      "execution_count": 10,
      "metadata": {},
      "outputs": [
        {
          "data": {
            "text/plain": [
              "(array([[ 1,  1, -1],\n",
              "        [ 0,  0,  1]]),\n",
              " (2, 3))"
            ]
          },
          "execution_count": 10,
          "metadata": {},
          "output_type": "execute_result"
        }
      ],
      "source": [
        "N, N.shape"
      ]
    },
    {
      "cell_type": "markdown",
      "metadata": {},
      "source": [
        "(M) est une matrices carrée car elle est de dimension n * n. \n",
        "\n",
        "(N) n'est pas une matrice carrée car elle n'est pas de dimension n * n. "
      ]
    },
    {
      "cell_type": "markdown",
      "metadata": {},
      "source": [
        "Pour additionner deux matrices, il faut qu'elles aient la même dimension. (M) et (N) ont des dimensions différentes (M dim(2, 2)) et (N dim(2, 3), il n'est pas possible de les additionner. "
      ]
    },
    {
      "cell_type": "markdown",
      "metadata": {},
      "source": [
        "Pour faire le produit de deux matrices (A) et (B), le nombre de colones de (A) doit être égal au nombre de lignes de (B).\n",
        "Ici (M) à deux lignes et (B) deux colones, on peut donc les multiplier."
      ]
    },
    {
      "cell_type": "code",
      "execution_count": 11,
      "metadata": {},
      "outputs": [
        {
          "data": {
            "text/plain": [
              "(array([[1, 1, 1],\n",
              "        [5, 5, 1]]),\n",
              " (2, 3))"
            ]
          },
          "execution_count": 11,
          "metadata": {},
          "output_type": "execute_result"
        }
      ],
      "source": [
        "produit_MN = np.dot(M, N)\n",
        "produit_MN, produit_MN.shape"
      ]
    },
    {
      "cell_type": "markdown",
      "metadata": {
        "id": "bPsxeP6rfapL"
      },
      "source": [
        "-----------------------------------"
      ]
    },
    {
      "cell_type": "markdown",
      "metadata": {
        "id": "W5Vfaozbt7_a"
      },
      "source": [
        "## **Job 3**\n",
        "Soit la matrice suivante :\n",
        "$$A = \\begin{pmatrix}\n",
        "1 & 2 & 3 & 4 \\\\\n",
        "5 & 6 & 7 & 8 \\\\\n",
        "9 & 10 & 11 & 12 \\\\\n",
        "13 & 14 & 15 & 16\n",
        "\\end{pmatrix} $$\n",
        "\n",
        "1. Créez et affichez la matrice A\n",
        "\n",
        "2. Créez une copie $C$ de la matrice $A$\n",
        "\n",
        "3. Créez une copie superficielle $B$ de la matrice $A$, sans copier sa référence\n",
        "\n",
        "4. Affichez la valeur se trouvant à la ligne 2 et à la colonne 3\n",
        "\n",
        "5. Affichez tous les éléments de la $2^{ème}$ ligne\n",
        "\n",
        "6. Affichez tous les éléments de la $1^{ème}$ colonne\n",
        "\n",
        "7. Affichez la diagonale de $A$\n",
        "\n",
        "8. Multipliez la matrice $A$ par $\\frac{1}{2}$"
      ]
    },
    {
      "cell_type": "code",
      "execution_count": 12,
      "metadata": {
        "id": "OLlKmDT1gPsr"
      },
      "outputs": [
        {
          "data": {
            "text/plain": [
              "(array([[ 1,  2,  3,  4],\n",
              "        [ 5,  6,  7,  8],\n",
              "        [ 9, 10, 11, 12],\n",
              "        [13, 14, 15, 16]]),\n",
              " (4, 4))"
            ]
          },
          "execution_count": 12,
          "metadata": {},
          "output_type": "execute_result"
        }
      ],
      "source": [
        "A = np.array(([1, 2, 3, 4], [5, 6, 7, 8], [9, 10, 11, 12], [13, 14, 15, 16]))\n",
        "A, A.shape"
      ]
    },
    {
      "cell_type": "code",
      "execution_count": 13,
      "metadata": {},
      "outputs": [
        {
          "data": {
            "text/plain": [
              "(array([[ 1,  2,  3,  4],\n",
              "        [ 5,  6,  7,  8],\n",
              "        [ 9, 10, 11, 12],\n",
              "        [13, 14, 15, 16]]),\n",
              " (4, 4))"
            ]
          },
          "execution_count": 13,
          "metadata": {},
          "output_type": "execute_result"
        }
      ],
      "source": [
        "C = A.copy()\n",
        "C, C.shape"
      ]
    },
    {
      "cell_type": "code",
      "execution_count": 14,
      "metadata": {},
      "outputs": [
        {
          "data": {
            "text/plain": [
              "(array([[ 1,  2,  3,  4],\n",
              "        [ 5,  6,  7,  8],\n",
              "        [ 9, 10, 11, 12],\n",
              "        [13, 14, 15, 16]]),\n",
              " (4, 4))"
            ]
          },
          "execution_count": 14,
          "metadata": {},
          "output_type": "execute_result"
        }
      ],
      "source": [
        "B = A.view()\n",
        "B, B.shape"
      ]
    },
    {
      "cell_type": "code",
      "execution_count": 15,
      "metadata": {},
      "outputs": [
        {
          "data": {
            "text/plain": [
              "7"
            ]
          },
          "execution_count": 15,
          "metadata": {},
          "output_type": "execute_result"
        }
      ],
      "source": [
        "valeur_1_2 = A[1, 2]\n",
        "valeur_1_2"
      ]
    },
    {
      "cell_type": "code",
      "execution_count": 16,
      "metadata": {},
      "outputs": [
        {
          "data": {
            "text/plain": [
              "array([5, 6, 7, 8])"
            ]
          },
          "execution_count": 16,
          "metadata": {},
          "output_type": "execute_result"
        }
      ],
      "source": [
        "ligne_2 = A[1, :]\n",
        "ligne_2"
      ]
    },
    {
      "cell_type": "code",
      "execution_count": 17,
      "metadata": {},
      "outputs": [
        {
          "data": {
            "text/plain": [
              "array([ 1,  5,  9, 13])"
            ]
          },
          "execution_count": 17,
          "metadata": {},
          "output_type": "execute_result"
        }
      ],
      "source": [
        "colonne_1 = A[:, 0]\n",
        "colonne_1"
      ]
    },
    {
      "cell_type": "code",
      "execution_count": 18,
      "metadata": {},
      "outputs": [
        {
          "data": {
            "text/plain": [
              "array([ 1,  6, 11, 16])"
            ]
          },
          "execution_count": 18,
          "metadata": {},
          "output_type": "execute_result"
        }
      ],
      "source": [
        "diagonale = np.diag(A)\n",
        "diagonale"
      ]
    },
    {
      "cell_type": "code",
      "execution_count": 19,
      "metadata": {},
      "outputs": [
        {
          "data": {
            "text/plain": [
              "array([[0.5, 1. , 1.5, 2. ],\n",
              "       [2.5, 3. , 3.5, 4. ],\n",
              "       [4.5, 5. , 5.5, 6. ],\n",
              "       [6.5, 7. , 7.5, 8. ]])"
            ]
          },
          "execution_count": 19,
          "metadata": {},
          "output_type": "execute_result"
        }
      ],
      "source": [
        "A_multiplie = A * 0.5\n",
        "A_multiplie"
      ]
    },
    {
      "cell_type": "markdown",
      "metadata": {
        "id": "7Tv1qDFOo0ID"
      },
      "source": [
        "## **Job 4**\n",
        "Considérons les matrices $A$ et $A_{bis}$ définies comme ci-dessous :\n",
        "\n",
        "$$ A = \\begin{pmatrix}\n",
        "1 & 5 & 3  \\\\\n",
        "2 & 4 & 7\n",
        "\\end{pmatrix}, \\space A_{bis} = \\begin{pmatrix}\n",
        "1 & 2  \\\\\n",
        "5 & 4 \\\\\n",
        "3 & 7\n",
        "\\end{pmatrix}$$\n",
        "\n",
        "1. Quelles sont les dimensions de $A$ et de $A_{bis}$ ?\n",
        "2. Qu'est ce que vous voyez en observant ces deux matrices ?\n",
        "3. Quelle opération mathématique permet d'obtenir $A_{bis}$ comme résultat à partir de $A$ ?\n",
        "4. Quelle fonction Python permet de faire ce type d'opération ?\n",
        "5. A l'aide de l'opération précédente, transformez les vecteurs et les matrices ci-dessous. Affichez leurs dimensions avant et après l'opération :\n",
        "  * $\\begin{pmatrix}\n",
        "7  \\\\\n",
        "4 \\\\\n",
        "1\n",
        "\\end{pmatrix}$\n",
        "\n",
        "  * $\\begin{pmatrix}\n",
        "9 & 0 & 3 \\\\\n",
        "\\end{pmatrix}$\n",
        "\n",
        "  * $\\begin{pmatrix}\n",
        "2 & 4 & 1 \\\\\n",
        "0 & 5 & 2 \\\\\n",
        "3 & 1 & 6\n",
        "\\end{pmatrix}$\n",
        "\n",
        "  * $\\begin{pmatrix}\n",
        "  7 & 2 & 5 & 1 \\\\\n",
        "3 & 6 & 0 & 2 \\\\\n",
        "\\end{pmatrix}$\n"
      ]
    },
    {
      "cell_type": "markdown",
      "metadata": {},
      "source": [
        "La matrice (A) est de dimension 2 par 3.\n",
        "\n",
        "La matrice (Abis) est de dimension 3 par 2.\n",
        "\n",
        "La matrice Abis est la transposée de la matrice A : (A^T = Abis). Abis est obtenue en échangeant les lignes et les colonnes de A.  \n",
        "\n",
        "L'opération mathématique permetant d'obtenir Abis à partir de A est la transposition : (A^T)ij = Aij"
      ]
    },
    {
      "cell_type": "code",
      "execution_count": 20,
      "metadata": {},
      "outputs": [
        {
          "data": {
            "text/plain": [
              "array([[1, 2],\n",
              "       [5, 4],\n",
              "       [3, 7]])"
            ]
          },
          "execution_count": 20,
          "metadata": {},
          "output_type": "execute_result"
        }
      ],
      "source": [
        "A = np.array(([1, 5, 3], [2, 4, 7]))\n",
        "Abis = A.T \n",
        "Abis"
      ]
    },
    {
      "cell_type": "code",
      "execution_count": 21,
      "metadata": {
        "id": "o1Hj2crXfRe9"
      },
      "outputs": [
        {
          "data": {
            "text/plain": [
              "(array([[7],\n",
              "        [4],\n",
              "        [1]]),\n",
              " (3, 1),\n",
              " array([[7, 4, 1]]),\n",
              " (1, 3))"
            ]
          },
          "execution_count": 21,
          "metadata": {},
          "output_type": "execute_result"
        }
      ],
      "source": [
        "A = np.array(([7], [4], [1]))\n",
        "Abis = A.T\n",
        "\n",
        "A, A.shape, Abis, Abis.shape\n"
      ]
    },
    {
      "cell_type": "code",
      "execution_count": 22,
      "metadata": {},
      "outputs": [
        {
          "data": {
            "text/plain": [
              "(array([9, 0, 3]),\n",
              " (3,),\n",
              " array([[9],\n",
              "        [0],\n",
              "        [3]]),\n",
              " (3, 1))"
            ]
          },
          "execution_count": 22,
          "metadata": {},
          "output_type": "execute_result"
        }
      ],
      "source": [
        "A = np.array([9, 0, 3])\n",
        "Abis = A.reshape(3, 1)\n",
        "\n",
        "A, A.shape, Abis, Abis.shape"
      ]
    },
    {
      "cell_type": "code",
      "execution_count": 23,
      "metadata": {},
      "outputs": [
        {
          "data": {
            "text/plain": [
              "(array([[2, 4, 1],\n",
              "        [0, 5, 2],\n",
              "        [3, 1, 6]]),\n",
              " (3, 3),\n",
              " array([[2, 0, 3],\n",
              "        [4, 5, 1],\n",
              "        [1, 2, 6]]),\n",
              " (3, 3))"
            ]
          },
          "execution_count": 23,
          "metadata": {},
          "output_type": "execute_result"
        }
      ],
      "source": [
        "A = np.array(([2, 4, 1], [0, 5, 2], [3, 1, 6]))\n",
        "Abis = A.T\n",
        "\n",
        "A, A.shape, Abis, Abis.shape"
      ]
    },
    {
      "cell_type": "code",
      "execution_count": 24,
      "metadata": {},
      "outputs": [
        {
          "data": {
            "text/plain": [
              "(array([[7, 2, 5, 1],\n",
              "        [3, 6, 0, 2]]),\n",
              " (2, 4),\n",
              " array([[7, 3],\n",
              "        [2, 6],\n",
              "        [5, 0],\n",
              "        [1, 2]]),\n",
              " (4, 2))"
            ]
          },
          "execution_count": 24,
          "metadata": {},
          "output_type": "execute_result"
        }
      ],
      "source": [
        "A = np.array(([7, 2, 5, 1], [3, 6, 0, 2]))\n",
        "Abis = A.T\n",
        "\n",
        "A, A.shape, Abis, Abis.shape"
      ]
    },
    {
      "cell_type": "markdown",
      "metadata": {
        "id": "DNws-5WUo2Ab"
      },
      "source": [
        "------------------------------------------"
      ]
    },
    {
      "cell_type": "markdown",
      "metadata": {
        "id": "Il-yWHePVIqI"
      },
      "source": [
        "## **Job 5**\n",
        "On considère la matrice $A$ de dimension 3 $\\times 4$ définie comme :\n",
        "\n",
        "$$ A = \\begin{pmatrix}\n",
        "4 & 6 & -2 & 3 \\\\\n",
        "2 & -1 & 0 & 1 \\\\\n",
        "-7 & 0 & 1 & 12\n",
        "\\end{pmatrix} $$\n",
        "\n",
        "1. Créez la matrice $A$.\n",
        "\n",
        "2. Modifiez la matrice $A$ pour que ses deux premières lignes soient multipliées par 2 et que sa dernière colonne soit divisée par 3.\n",
        "\n",
        "3. Créez une nouvelle matrice $B$ définie comme :\n",
        "\n",
        "$$ B = \\begin{pmatrix}\n",
        "4 & 5 & 6 \\\\\n",
        "5 & 10 & 15 \\\\\n",
        "1 & 1 & 1\n",
        "\\end{pmatrix}  $$\n",
        "\n",
        "4. Réalisez le produit matriciel de $B$ et $A$, notez le $D$."
      ]
    },
    {
      "cell_type": "code",
      "execution_count": 25,
      "metadata": {
        "id": "u7qHn_eXj4QD"
      },
      "outputs": [
        {
          "data": {
            "text/plain": [
              "array([[ 8, 12, -4,  2],\n",
              "       [ 4, -2,  0,  0],\n",
              "       [-7,  0,  1,  4]])"
            ]
          },
          "execution_count": 25,
          "metadata": {},
          "output_type": "execute_result"
        }
      ],
      "source": [
        "A = np.array(([4, 6, -2, 3], [2, -1, 0, 1], [-7, 0, 1, 12]))\n",
        "A[:2, :] = A[:2, :] * 2\n",
        "A[:, -1] = A[:, -1] / 3\n",
        "A\n"
      ]
    },
    {
      "cell_type": "code",
      "execution_count": 26,
      "metadata": {},
      "outputs": [
        {
          "data": {
            "text/plain": [
              "(array([[ 8, 12, -4,  2],\n",
              "        [ 4, -2,  0,  0],\n",
              "        [-7,  0,  1,  4]]),\n",
              " array([[ 4,  5,  6],\n",
              "        [ 5, 10, 15],\n",
              "        [ 1,  1,  1]]),\n",
              " array([[ 10,  38, -10,  32],\n",
              "        [-25,  40,  -5,  70],\n",
              "        [  5,  10,  -3,   6]]))"
            ]
          },
          "execution_count": 26,
          "metadata": {},
          "output_type": "execute_result"
        }
      ],
      "source": [
        "B = np.array(([4, 5, 6], [5, 10, 15], [1, 1, 1]))\n",
        "D = np.dot(B, A)\n",
        "A, B, D"
      ]
    },
    {
      "cell_type": "markdown",
      "metadata": {
        "id": "pUe2Q9LJg8-e"
      },
      "source": [
        "---------------------------------------------------------"
      ]
    },
    {
      "cell_type": "markdown",
      "metadata": {
        "id": "fy9H6rsutmov"
      },
      "source": [
        "## **Job 6**\n",
        "\n",
        "Soit la matrice $I_3$ définie comme suit :\n",
        "$$ \\begin{pmatrix}\n",
        "1 & 0 & 0 \\\\\n",
        "0 & 1 & 0 \\\\\n",
        "0 & 0 & 1\n",
        "\\end{pmatrix}$$\n",
        "\n",
        "1. Faites une multiplication matricielle de $I_3$ et d'une autre matrice de même taille de votre choix. Qu'est ce que vous observez ?\n",
        "2. Renseignez-vous sur la matrice $I_3$. Quelles sont ses caractéristiques ?"
      ]
    },
    {
      "cell_type": "code",
      "execution_count": 27,
      "metadata": {
        "id": "SIVfVrphw6mD"
      },
      "outputs": [
        {
          "data": {
            "text/plain": [
              "(array([[2., 4., 1.],\n",
              "        [6., 2., 9.],\n",
              "        [1., 4., 0.]]),\n",
              " (3, 3))"
            ]
          },
          "execution_count": 27,
          "metadata": {},
          "output_type": "execute_result"
        }
      ],
      "source": [
        "I3 = np.eye(3)\n",
        "I4 = np.array(([2, 4, 1], [6, 2, 9], [1, 4, 0]))\n",
        "I5 = np.dot(I3, I4)\n",
        "I5, I5.shape"
      ]
    },
    {
      "cell_type": "markdown",
      "metadata": {},
      "source": [
        "I3 est une matrice identée symétrique (A = A^T), ce qui signifie qu'elle est égale à sa transposée. \n",
        "\n",
        "Le produit d'une matrice identitée A avec une matrice B sera toujours égal à B. \n",
        "\n",
        "Donc ici I3 * I4 = I4. \n"
      ]
    },
    {
      "cell_type": "markdown",
      "metadata": {
        "id": "D1RXE9cXx3LD"
      },
      "source": [
        "--------------------------------------------------------------"
      ]
    },
    {
      "cell_type": "markdown",
      "metadata": {
        "id": "2AB67_wztCQT"
      },
      "source": [
        "## **Job 7**\n",
        "\n",
        "Pour un nombre réel $x$, son inverse, noté $\\frac{1}{x}$ ou $x^{-1}$, est un autre nombre tel que $x \\times \\frac{1}{x} = 1$\n",
        "\n",
        " En d'autres termes, lorsque vous multipliez un nombre par son inverse, le résultat est toujours $1$.\n",
        "\n",
        " Démontrez le dans la cellule ci-dessous pour des nombres de votre choix."
      ]
    },
    {
      "cell_type": "code",
      "execution_count": 28,
      "metadata": {
        "id": "AOV7zzmzx4_o"
      },
      "outputs": [
        {
          "data": {
            "text/plain": [
              "1.0"
            ]
          },
          "execution_count": 28,
          "metadata": {},
          "output_type": "execute_result"
        }
      ],
      "source": [
        "# Pour tous réels x, x = x/1 ou bien x = x^1\n",
        "# Or l'inverse de x/1 = 1/x ou bien l'inverse de x^1 est x^-1 \n",
        "# Donc l'inverse de x est 1/x ou bien x^-1 et le produit de x par son inverse est 1 car 1/x * x/1 = 1\n",
        "x = 158\n",
        "x_inv = 1/x\n",
        "x * x_inv"
      ]
    },
    {
      "cell_type": "markdown",
      "metadata": {
        "id": "u-S8sAZPx5Lz"
      },
      "source": [
        "-----------------------------------------------------------------"
      ]
    },
    {
      "cell_type": "markdown",
      "metadata": {
        "id": "RgYKdF1J6fXn"
      },
      "source": [
        "## **Job 8**\n",
        "\n",
        "L'inverse d'une matrice est une autre matrice qui, lorsqu'elle est multipliée par la matrice d'origine, donne une matrice identité. En d'autres termes, si $A$ est une matrice et $A^{-1}$ est son inverse, alors $A \\times A^{-1} = I$.\n",
        "\n",
        "*(C'est comme si l'inverse de la matrice \"compensait\" les effets de la matrice d'origine, de la même manière que l'inverse d'un nombre \"compense\" sa multiplication initiale pour obtenir $1$.)*\n",
        "\n",
        "Soient deux matrices $A$ et $B$ telles que :\n",
        "\n",
        "$$ A = \\begin{pmatrix}\n",
        "1 & 2 \\\\\n",
        "3 & 4\n",
        "\\end{pmatrix}, \\space B = \\begin{pmatrix}\n",
        "-2 & 1 \\\\\n",
        "1.5 & -0.5\n",
        "\\end{pmatrix}$$\n",
        "\n",
        "1. Calculez $A \\times B$ puis $B \\times A$.\n",
        "2. Que pouvez-vous conclure sur les deux matrices ?"
      ]
    },
    {
      "cell_type": "code",
      "execution_count": 29,
      "metadata": {
        "id": "DYkYvgfr6iBH"
      },
      "outputs": [
        {
          "data": {
            "text/plain": [
              "(array([[1., 0.],\n",
              "        [0., 1.]]),\n",
              " array([[1., 0.],\n",
              "        [0., 1.]]))"
            ]
          },
          "execution_count": 29,
          "metadata": {},
          "output_type": "execute_result"
        }
      ],
      "source": [
        "A = np.array(([1, 2], [3, 4]))\n",
        "B = np.array(([-2, 1], [1.5, -0.5]))\n",
        "A_mult_B = np.dot(A, B)\n",
        "B_mult_A = np.dot(B, A)\n",
        "A_mult_B, B_mult_A"
      ]
    },
    {
      "cell_type": "markdown",
      "metadata": {},
      "source": [
        "En observant les résultats on remarque qu'ils forment tous les deux des matrices identité parfaites, ce qui signifie qu'elles sont exactement ce que l'on espère obtenir en mutlipliant une matrice par son inverse ou bien lorsque l'on multiplie deux matrices qui sont inverses l'une de l'autre dans un certain ordre. \n",
        "\n",
        "Donc la matrice (B) est l'inverse de la matrice (A)\n"
      ]
    },
    {
      "cell_type": "markdown",
      "metadata": {
        "id": "rLtfdXh76iTd"
      },
      "source": [
        "----------------------------------------------------------------------"
      ]
    },
    {
      "cell_type": "markdown",
      "metadata": {
        "id": "rfRPzGs-3MG2"
      },
      "source": [
        "## **Job 9**\n",
        "\n",
        "On dit qu'une matrice carrée $M$ est inversible (ou possède un inverse $M^{-1}$) si son déterminant $det(M)\\neq 0$.\n",
        "\n",
        "**Par exemple :**\n",
        "\n",
        "$$ M = \\begin{pmatrix}\n",
        "a & b \\\\\n",
        "c & d\n",
        "\\end{pmatrix}, \\space det(M) = (a \\times d) - (c \\times b) \\neq 0$$\n",
        "\n",
        "On définit alors $M^{-1}$ comme suit :\n",
        "\n",
        "$$ M^{-1} = \\frac{1}{det(M)} \\times \\begin{pmatrix}\n",
        "d & -b \\\\\n",
        "-c & a\n",
        "\\end{pmatrix} $$\n",
        "\n",
        "\\\n",
        "\n",
        "1. Vérifiez si les matrices carrées ci-dessous sont inversibles (il existe une fonction de numpy qui le fait très bien...) :\n",
        "\n",
        "  * $ \\begin{pmatrix}\n",
        "5 & 6 \\\\\n",
        "7 & 8\n",
        "\\end{pmatrix}$\n",
        "\n",
        "  * $ \\begin{pmatrix}\n",
        "3 & 2 \\\\\n",
        "4 & 1\n",
        "\\end{pmatrix}$\n",
        "\n",
        "  * $ \\begin{pmatrix}\n",
        "1 & 5 \\\\\n",
        "7 & 8 \\\\\n",
        "0 & 1\n",
        "\\end{pmatrix}$\n",
        "\n",
        "  * $ \\begin{pmatrix}\n",
        "1 & 2 & 3 \\\\\n",
        "0 & -1 & 4 \\\\\n",
        "2 & 1 & 5\n",
        "\\end{pmatrix}$\n",
        "\n",
        "\n",
        "2. Calculez l'inverse de ces matrices à l'aide de la formule donnée précédemment."
      ]
    },
    {
      "cell_type": "code",
      "execution_count": 36,
      "metadata": {
        "id": "EqS8e-z13Lf9"
      },
      "outputs": [
        {
          "data": {
            "text/plain": [
              "([-2.000000000000005, -4.999999999999999, None, 12.999999999999995],\n",
              " [True, True, False, True])"
            ]
          },
          "execution_count": 36,
          "metadata": {},
          "output_type": "execute_result"
        }
      ],
      "source": [
        "def is_square(matrix):\n",
        "    return matrix.shape[0] == matrix.shape[1]\n",
        "\n",
        "A = np.array(([5, 6], [7, 8]))\n",
        "B = np.array(([3, 2], [4, 1]))\n",
        "C = np.array(([1, 5], [7, 8], [0, 1])) \n",
        "D = np.array(([1, 2, 3], [0, -1, 4], [2, 1, 5]))\n",
        "\n",
        "matrices = [A, B, C, D]\n",
        "determinants = []\n",
        "inversibles = []\n",
        "\n",
        "for matrix in matrices:\n",
        "    if is_square(matrix):\n",
        "        det = np.linalg.det(matrix)\n",
        "        determinants.append(det)\n",
        "        inversibles.append(det != 0)\n",
        "    else:\n",
        "        determinants.append(None)\n",
        "        inversibles.append(False)\n",
        "\n",
        "determinants, inversibles\n"
      ]
    },
    {
      "cell_type": "markdown",
      "metadata": {},
      "source": [
        "Les matrices (A) (B) et (D) sont carrées car elles sont de taille (n, n), la matrice (C) n'est pas carrée car elle est de taille (3, 2).\n",
        "\n",
        "Il n'est donc pas possible de calculer le déterminant pour la matrice (C) car elle n'est pas carrée et elle n'est pas inversible. \n",
        "\n",
        "Pour les matrices carrées (A) (B) (D), leurs déterminants sont différenst de 0, donc elles sont inversibles. "
      ]
    },
    {
      "cell_type": "markdown",
      "metadata": {
        "id": "Gx-D1gOvx9q7"
      },
      "source": [
        "-----------------------------------------------------------------"
      ]
    },
    {
      "cell_type": "markdown",
      "metadata": {
        "id": "CQtesnAQhBWC"
      },
      "source": [
        "# Probabilités et Statistique"
      ]
    },
    {
      "cell_type": "markdown",
      "metadata": {
        "id": "ln_exBJbqReD"
      },
      "source": [
        "## **Job 10**\n",
        "**La probabilité d'un événement est un nombre réel compris entre 0 et 1. Plus ce nombre est grand, plus le risque, ou la chance, que l'événement se produise est grand.**\n",
        "\n",
        "Lancez une pièce de monnaie 100 fois et enregistrez le résultat, pile ou face, dans un `array` $T$.\n",
        "1. Quelle est donc la probabilité d'obtenir le résultat Pile ou le résultat Face ?\n",
        "3. Visualisez la proportion des résultats à l'aide d'un piechart de `Matplotlib` (ou d'une autre librairie de votre choix).\n"
      ]
    },
    {
      "cell_type": "code",
      "execution_count": 45,
      "metadata": {
        "id": "iOPwW6xwrI-v"
      },
      "outputs": [
        {
          "data": {
            "text/plain": [
              "array(['pile', 'face', 'face', 'pile', 'face', 'face', 'face', 'face',\n",
              "       'face', 'face', 'face', 'pile', 'pile', 'face', 'pile', 'pile',\n",
              "       'pile', 'pile', 'pile', 'face', 'pile', 'face', 'face', 'pile',\n",
              "       'pile', 'face', 'face', 'face', 'face', 'pile', 'face', 'pile',\n",
              "       'face', 'pile', 'face', 'face', 'pile', 'face', 'face', 'pile',\n",
              "       'pile', 'face', 'pile', 'face', 'face', 'face', 'face', 'face',\n",
              "       'pile', 'face', 'pile', 'face', 'face', 'face', 'face', 'pile',\n",
              "       'face', 'pile', 'pile', 'face', 'face', 'pile', 'face', 'pile',\n",
              "       'face', 'pile', 'pile', 'pile', 'pile', 'pile', 'face', 'face',\n",
              "       'pile', 'pile', 'pile', 'face', 'face', 'pile', 'face', 'pile',\n",
              "       'pile', 'face', 'pile', 'face', 'face', 'face', 'face', 'face',\n",
              "       'face', 'pile', 'face', 'face', 'pile', 'pile', 'face', 'pile',\n",
              "       'pile', 'face', 'face', 'pile'], dtype='<U4')"
            ]
          },
          "execution_count": 45,
          "metadata": {},
          "output_type": "execute_result"
        }
      ],
      "source": [
        "np.random.seed(0)\n",
        "T = np.random.randint(0, 2, 100)\n",
        "result = np.where(T == 0, 'pile', 'face')\n",
        "result\n"
      ]
    },
    {
      "cell_type": "markdown",
      "metadata": {},
      "source": [
        "La probabilité d'obtenir pile ou face avec une pièce de monnaie équilibrée est de 50/100 pour chaque côté.\n",
        "\n",
        "Donc à chaque tirage on a une probabilité de 0.5 ou 50/100 de tomber sur pile ou sur face."
      ]
    },
    {
      "cell_type": "code",
      "execution_count": 47,
      "metadata": {},
      "outputs": [
        {
          "data": {
            "text/plain": [
              "Text(0.5, 1.0, 'Répartition des résultats')"
            ]
          },
          "execution_count": 47,
          "metadata": {},
          "output_type": "execute_result"
        },
        {
          "data": {
            "image/png": "[encoded data removed]",
            "text/plain": [
              "<Figure size 640x480 with 1 Axes>"
            ]
          },
          "metadata": {},
          "output_type": "display_data"
        }
      ],
      "source": [
        "unique, counts = np.unique(result, return_counts=True)\n",
        "data = dict(zip(unique, counts))\n",
        "\n",
        "labels = data.keys()\n",
        "sizes = data.values()\n",
        "\n",
        "plt.pie(sizes, labels=labels, autopct='%1.1f%%', startangle=90)\n",
        "plt.axis('equal') \n",
        "plt.title(\"Répartition des résultats\")"
      ]
    },
    {
      "cell_type": "markdown",
      "metadata": {
        "id": "MxiFruoxmYug"
      },
      "source": [
        "## **Job 11**\n",
        "\n",
        "Considérez un dé $D_6$ dont les valeurs possibles sont : $\\{1, 2, 3, 4, 5, 6\\}$.\n",
        "\n",
        "Ce dé est non truqué, ce qui signifie que toutes les valeurs ont des probabilités égales de se produire.  \n",
        "\n",
        "Si je jette le dé $D_6$, la probabilité que le résultat soit $3$ est de $\\frac{1}{6}$.\n",
        "\n",
        "1. Quelle est la probabilité d'obtenir $7$ au jet du dé $D_6$ ?\n",
        "2. Quelle est la probabilité d'obtenir un résultat pair ?\n",
        "3. Quelle est la probabilité d'obtenir un résultat impair ?\n",
        "4. Quelle est la probabilité d'obtenir un résultat inférieur ou égal à $4$ ?\n",
        "5. Quelle est la probabilité d'obtenir un résultat inférieur ou égal à $6$ ?\n",
        "6. Quelle est la probabilité de ne pas obtenir $1$ ?"
      ]
    },
    {
      "cell_type": "markdown",
      "metadata": {},
      "source": [
        "### Probabilités théoriques : \n",
        "\n",
        "#### Probabilité d'obtenir 7 au jet :\n",
        "\n",
        "Théoriquement, la probabilité est de 0 car 7 n'est pas une valeur présente sur le dé à 6 faces.\n",
        "\n",
        "#### Probabilité d'obtenir un résultat pair : \n",
        "\n",
        "Les faces paires sont 2, 4 et 6. Donc la probabilité est de 3/6 = 1/2 = 0.5.\n",
        "\n",
        "#### Probabilité d'obtenir un résultat impair : \n",
        "\n",
        "Les faces impaires sont 1, 2 , 3 et 4. Donc la probabilité est de 4/6 = 2/3.\n",
        "\n",
        "#### Probabilité d'obtenir un résultat inférieur ou égal à 6 :\n",
        "\n",
        "Les faces sont toutes infèrieures ou égales à 6. Donc la probabilité est de 6/6 = 1.\n",
        "\n",
        "#### Probabilité de ne pas obtenir 1 : \n",
        "\n",
        "Les faces 2, 3, 4, 5 et 6 dont concidérées. Donc la probabilité est de 5/6. "
      ]
    },
    {
      "cell_type": "markdown",
      "metadata": {},
      "source": [
        "### Probabilité expérimentale sur 1000 lancés : "
      ]
    },
    {
      "cell_type": "code",
      "execution_count": 56,
      "metadata": {
        "id": "Nbpx1FibWrBs"
      },
      "outputs": [
        {
          "data": {
            "text/plain": [
              "(0.0, 0.511, 0.489, 0.668, 1.0, 0.829)"
            ]
          },
          "execution_count": 56,
          "metadata": {},
          "output_type": "execute_result"
        }
      ],
      "source": [
        "np.random.seed(0)\n",
        "D6 = np.random.randint(1, 7, 1000)\n",
        "probabilities_7 = np.sum(D6 == 7) / 1000\n",
        "probabilities_even = np.sum(D6 % 2 == 0) / 1000\n",
        "probabilities_odd = np.sum(D6 % 2 != 0) / 1000\n",
        "probabilities_infequal_4 = np.sum(D6 <= 4) / 1000\n",
        "probabilities_infequal_6 = np.sum(D6 <= 6) / 1000\n",
        "probabilities_difone = np.sum(D6 != 1) / 1000\n",
        "\n",
        "probabilities_7, probabilities_even, probabilities_odd, probabilities_infequal_4, probabilities_infequal_6, probabilities_difone\n"
      ]
    },
    {
      "cell_type": "markdown",
      "metadata": {},
      "source": [
        "### Comparaison des résultats théoriques et expérimentaux : \n",
        "\n",
        "On observe bien que les résultat théoriques et expérimentaux sont quasiment les mêmes ce qui confirme bien la théorie par l'expérimentation. "
      ]
    },
    {
      "cell_type": "markdown",
      "metadata": {},
      "source": [
        "#### Variations des résultats expérimentaux : \n",
        "\n",
        "Les variations observées sont induites par : \n",
        "\n",
        "- La taille de l'échantillon : Théoriquement, on parle d'une infinité de tirages ce qui donne des résultats exacts et constants. Dans une expérimentation, on ne tire qu'un nombre déterminé de fois ce qui peut entraîner des écarts. \n",
        "\n",
        "- Biais de l'échantillon : Parfois, il se peut que l'échantillon expérimental ne soit pas parfaitement représentatif en raison du nombre limité de tirages. \n",
        "\n",
        "- Loi des grand nombres : Plus le nombre de tirages augmente, plus la moyenne des résultats se rapprochera de la valeur théorique. \n",
        "\n",
        "Ces variations ne remettent pas en question la théorie, elles démontrent seulement les effets pratiques de l'aléatoire et des tailles d'échantillon finies. C'est tout l'intéret des simulations : elle montrent comment la théorie s'applique ou non au monde réel. "
      ]
    },
    {
      "cell_type": "markdown",
      "metadata": {
        "id": "WSdMr0IBWthA"
      },
      "source": [
        "-------------------------------------------------------------"
      ]
    },
    {
      "cell_type": "markdown",
      "metadata": {
        "id": "uttOswY_g-gC"
      },
      "source": [
        "## **Job 12**\n",
        "A l'aide de `numpy` et de ses différentes fonctions :\n",
        "* Créez un vecteur ligne $R$ de taille $n=450$ composé de nombres naturels entre $0$ et $9$ générés aléatoirement\n",
        "* Calculez la valeur moyenne du tableau\n",
        "* Calculez la valeur médiane\n",
        "* Calculez la variance\n",
        "* Calculez l'écart-type"
      ]
    },
    {
      "cell_type": "code",
      "execution_count": 59,
      "metadata": {
        "id": "q4WwtEoHj5ZV"
      },
      "outputs": [
        {
          "data": {
            "text/plain": [
              "(4.493333333333333, 4.0, 8.165511111111112, 2.8575358459888323)"
            ]
          },
          "execution_count": 59,
          "metadata": {},
          "output_type": "execute_result"
        }
      ],
      "source": [
        "np.random.seed(0)\n",
        "R = np.random.randint(0, 10, 450)\n",
        "average = np.mean(R)\n",
        "median = np.median(R)\n",
        "variance = np.var(R)\n",
        "standard_deviation = np.std(R)\n",
        "\n",
        "average, median, variance, standard_deviation"
      ]
    },
    {
      "cell_type": "markdown",
      "metadata": {},
      "source": [
        "#### Moyenne \n",
        "La moyenne arithmétique des valeurs donne une idées de la valeur centrale de l'ensemble.\n",
        "Pour le tableau R, la moyenne doit être comprise autour de 4.5 si l'ensemble des nombres est uniformément distribué ce qui est le cas dans la simulation. \n",
        "#### Médiane\n",
        "La médiane est la valeur qui sépare le jeu de données en deux parties égales.\n",
        "Pour le tableau R, la médiane peut varier autour de 4 et 5 car il y a autant de chances de générer des nombres en dessous et au-dessus de cette valeur ce qui est le cas dans la simulation. \n",
        "#### Variance\n",
        "La variance mesure la dispersion des valeurs par rapport à la moyenne. Une variance élevée signifie que les nombres sont largement dispersés, alors qu'un variance faible indique qu'ils sont proche de la moyenne. Dans la simulation on obtient une variance qui se rapproche de 8.25 ce qui est attendu. \n",
        "#### Ecart_type \n",
        "L'écart-type est la racine carrée de la variance. Il donne une mesure de la dispersion autour de la moyenne dans les mêmes unités que les données originales. Dans la simulation on obtient une valeur proche de 2.87 ce qui correspond à la racine carrée de la variance attendue. \n",
        "\n",
        "#### justesse des résultats : \n",
        "On utilise la médiane et la moyenne pour la mesurer. \n",
        "\n",
        "#### Précision des résultats : \n",
        "On utilise la variance et l'écart-type pour comprendre la dispersion et la variabilité des données. "
      ]
    },
    {
      "cell_type": "markdown",
      "metadata": {
        "id": "Aw0gaIdZazFa"
      },
      "source": [
        "----------------------------------------------"
      ]
    },
    {
      "cell_type": "markdown",
      "metadata": {
        "id": "KqxEDbkKkP4t"
      },
      "source": [
        "## **Job 13**\n",
        "A l'aide de matplotlib (ou d'une autre librairie de votre choix), visualisez la distribution des données du tableau $R$ en générant un histogramme."
      ]
    },
    {
      "cell_type": "code",
      "execution_count": 97,
      "metadata": {
        "id": "8sWEFtOskmmg"
      },
      "outputs": [
        {
          "data": {
            "image/png": "[encoded data removed]",
            "text/plain": [
              "<Figure size 900x500 with 1 Axes>"
            ]
          },
          "metadata": {},
          "output_type": "display_data"
        }
      ],
      "source": [
        "counts, bins, patches = plt.hist(R, bins=np.arange(0, 11) - 0.5, color='green', edgecolor='black')\n",
        "plt.title(\"Distribution des données dans R\")\n",
        "plt.xlabel(\"Valeurs présentes dans R\")\n",
        "plt.ylabel(\"Fréquences pour un total de 450 valeurs dans R\")\n",
        "plt.xticks(np.arange(0, 10, 1))\n",
        "total = len(R)\n",
        "for count, x in zip(counts, bins[:-1]):\n",
        "    percentage = (count / total) * 100\n",
        "    plt.text(x + 0.25, count + 2, f'{percentage:.1f}%', ha='center', color='darkred')\n",
        "plt.gcf().set_size_inches(9, 5)    \n",
        "plt.show()\n"
      ]
    },
    {
      "cell_type": "markdown",
      "metadata": {
        "id": "BoIJ71z2a0aY"
      },
      "source": [
        "---------------------------------------------------------"
      ]
    },
    {
      "cell_type": "markdown",
      "metadata": {
        "id": "QXOHm1PqknPj"
      },
      "source": [
        "## **Job 14**\n",
        "A l'aide de matplotlib (ou d'une autre librairie de votre choix), visualisez la distribution et dispersion des données du tableau $R$ à travers leurs **quartiles** en utilisant l'outil statistique, le boxplot."
      ]
    },
    {
      "cell_type": "code",
      "execution_count": 104,
      "metadata": {
        "id": "olFRkPQHkxwV"
      },
      "outputs": [
        {
          "data": {
            "text/plain": [
              "Text(1.1, 9, 'Max=9')"
            ]
          },
          "execution_count": 104,
          "metadata": {},
          "output_type": "execute_result"
        },
        {
          "data": {
            "image/png": "[encoded data removed]",
            "text/plain": [
              "<Figure size 640x480 with 1 Axes>"
            ]
          },
          "metadata": {},
          "output_type": "display_data"
        }
      ],
      "source": [
        "fig, ax = plt.subplots()\n",
        "ax.boxplot(R)\n",
        "ax.set_title(\"Distribution et dispersion des données dans R de taille 450\")\n",
        "ax.set_xlabel(\"Série de données dans R\")\n",
        "ax.set_ylabel(\"Valeurs dans R\")\n",
        "plt.yticks(np.arange(0, 10, 1))\n",
        "\n",
        "quartiles = np.percentile(R, [25, 50, 75])\n",
        "min_val = np.min(R)\n",
        "max_val = np.max(R)\n",
        "\n",
        "ax.annotate(f'Q1={quartiles[0]:.1f}', xy=(1, quartiles[0]), xytext=(1.1, quartiles[0]))\n",
        "ax.annotate(f'Median={quartiles[1]:.1f}', xy=(1, quartiles[1]), xytext=(1.1, quartiles[1]))\n",
        "ax.annotate(f'Q3={quartiles[2]:.1f}', xy=(1, quartiles[2]), xytext=(1.1, quartiles[2]))\n",
        "ax.annotate(f'Min={min_val}', xy=(1, min_val), xytext=(1.1, min_val))\n",
        "ax.annotate(f'Max={max_val}', xy=(1, max_val), xytext=(1.1, max_val))"
      ]
    },
    {
      "cell_type": "markdown",
      "metadata": {
        "id": "tHtFR_Mha177"
      },
      "source": [
        "-----------------------------------------------------"
      ]
    },
    {
      "cell_type": "markdown",
      "metadata": {
        "id": "7FRhuAFaa3Yy"
      },
      "source": [
        "## **Job 15**\n",
        "\n",
        "Considérons des données de résultats d'une analyse chimique de vins cultivés en Italie issus de trois cultivars différents. Ces données ont été récupérées et chargées dans un `DataFrame` via la code ci-dessous.\n",
        "\n",
        "1. Affichez différentes informations de `wine_df` (nombre d'observations, nombre de caractéristiques, type de données, données manquantes, mémoire allouée en RAM).\n",
        "\n",
        "2. A l'aide d'une fonction spécifique de `Pandas`, générez les statistiques descriptives (moyenne, médiane, maximum, ...) du jeu de données. Qu'est ce que vous observez ?\n",
        "\n",
        "3. Visualisez la distribution des différentes variables du jeu de données à l'aide d'un histogramme et d'un boxplot.\n",
        "\n",
        "4. A l'aide d'une fonction spécifique de `Pandas`, calculez la corrélation linéaire de Pearson par paire des variables.\n"
      ]
    },
    {
      "cell_type": "code",
      "execution_count": 30,
      "metadata": {
        "colab": {
          "base_uri": "https://localhost:8080/",
          "height": 226
        },
        "id": "tlFNsLZ5a7fr",
        "outputId": "56aa52f5-af6f-4a9f-edee-6b04437a61e1"
      },
      "outputs": [
        {
          "data": {
            "text/html": [
              "<div>\n",
              "<style scoped>\n",
              "    .dataframe tbody tr th:only-of-type {\n",
              "        vertical-align: middle;\n",
              "    }\n",
              "\n",
              "    .dataframe tbody tr th {\n",
              "        vertical-align: top;\n",
              "    }\n",
              "\n",
              "    .dataframe thead th {\n",
              "        text-align: right;\n",
              "    }\n",
              "</style>\n",
              "<table border=\"1\" class=\"dataframe\">\n",
              "  <thead>\n",
              "    <tr style=\"text-align: right;\">\n",
              "      <th></th>\n",
              "      <th>alcohol</th>\n",
              "      <th>malic_acid</th>\n",
              "      <th>ash</th>\n",
              "      <th>alcalinity_of_ash</th>\n",
              "      <th>magnesium</th>\n",
              "      <th>total_phenols</th>\n",
              "      <th>flavanoids</th>\n",
              "      <th>nonflavanoid_phenols</th>\n",
              "      <th>proanthocyanins</th>\n",
              "      <th>color_intensity</th>\n",
              "      <th>hue</th>\n",
              "      <th>od280/od315_of_diluted_wines</th>\n",
              "      <th>proline</th>\n",
              "    </tr>\n",
              "  </thead>\n",
              "  <tbody>\n",
              "    <tr>\n",
              "      <th>0</th>\n",
              "      <td>14.23</td>\n",
              "      <td>1.71</td>\n",
              "      <td>2.43</td>\n",
              "      <td>15.6</td>\n",
              "      <td>127.0</td>\n",
              "      <td>2.80</td>\n",
              "      <td>3.06</td>\n",
              "      <td>0.28</td>\n",
              "      <td>2.29</td>\n",
              "      <td>5.64</td>\n",
              "      <td>1.04</td>\n",
              "      <td>3.92</td>\n",
              "      <td>1065.0</td>\n",
              "    </tr>\n",
              "    <tr>\n",
              "      <th>1</th>\n",
              "      <td>13.20</td>\n",
              "      <td>1.78</td>\n",
              "      <td>2.14</td>\n",
              "      <td>11.2</td>\n",
              "      <td>100.0</td>\n",
              "      <td>2.65</td>\n",
              "      <td>2.76</td>\n",
              "      <td>0.26</td>\n",
              "      <td>1.28</td>\n",
              "      <td>4.38</td>\n",
              "      <td>1.05</td>\n",
              "      <td>3.40</td>\n",
              "      <td>1050.0</td>\n",
              "    </tr>\n",
              "    <tr>\n",
              "      <th>2</th>\n",
              "      <td>13.16</td>\n",
              "      <td>2.36</td>\n",
              "      <td>2.67</td>\n",
              "      <td>18.6</td>\n",
              "      <td>101.0</td>\n",
              "      <td>2.80</td>\n",
              "      <td>3.24</td>\n",
              "      <td>0.30</td>\n",
              "      <td>2.81</td>\n",
              "      <td>5.68</td>\n",
              "      <td>1.03</td>\n",
              "      <td>3.17</td>\n",
              "      <td>1185.0</td>\n",
              "    </tr>\n",
              "    <tr>\n",
              "      <th>3</th>\n",
              "      <td>14.37</td>\n",
              "      <td>1.95</td>\n",
              "      <td>2.50</td>\n",
              "      <td>16.8</td>\n",
              "      <td>113.0</td>\n",
              "      <td>3.85</td>\n",
              "      <td>3.49</td>\n",
              "      <td>0.24</td>\n",
              "      <td>2.18</td>\n",
              "      <td>7.80</td>\n",
              "      <td>0.86</td>\n",
              "      <td>3.45</td>\n",
              "      <td>1480.0</td>\n",
              "    </tr>\n",
              "    <tr>\n",
              "      <th>4</th>\n",
              "      <td>13.24</td>\n",
              "      <td>2.59</td>\n",
              "      <td>2.87</td>\n",
              "      <td>21.0</td>\n",
              "      <td>118.0</td>\n",
              "      <td>2.80</td>\n",
              "      <td>2.69</td>\n",
              "      <td>0.39</td>\n",
              "      <td>1.82</td>\n",
              "      <td>4.32</td>\n",
              "      <td>1.04</td>\n",
              "      <td>2.93</td>\n",
              "      <td>735.0</td>\n",
              "    </tr>\n",
              "  </tbody>\n",
              "</table>\n",
              "</div>"
            ],
            "text/plain": [
              "   alcohol  malic_acid   ash  alcalinity_of_ash  magnesium  total_phenols  \\\n",
              "0    14.23        1.71  2.43               15.6      127.0           2.80   \n",
              "1    13.20        1.78  2.14               11.2      100.0           2.65   \n",
              "2    13.16        2.36  2.67               18.6      101.0           2.80   \n",
              "3    14.37        1.95  2.50               16.8      113.0           3.85   \n",
              "4    13.24        2.59  2.87               21.0      118.0           2.80   \n",
              "\n",
              "   flavanoids  nonflavanoid_phenols  proanthocyanins  color_intensity   hue  \\\n",
              "0        3.06                  0.28             2.29             5.64  1.04   \n",
              "1        2.76                  0.26             1.28             4.38  1.05   \n",
              "2        3.24                  0.30             2.81             5.68  1.03   \n",
              "3        3.49                  0.24             2.18             7.80  0.86   \n",
              "4        2.69                  0.39             1.82             4.32  1.04   \n",
              "\n",
              "   od280/od315_of_diluted_wines  proline  \n",
              "0                          3.92   1065.0  \n",
              "1                          3.40   1050.0  \n",
              "2                          3.17   1185.0  \n",
              "3                          3.45   1480.0  \n",
              "4                          2.93    735.0  "
            ]
          },
          "execution_count": 30,
          "metadata": {},
          "output_type": "execute_result"
        }
      ],
      "source": [
        "wine_data = load_wine()\n",
        "\n",
        "wine_df = pd.DataFrame(data=wine_data.data, columns=wine_data.feature_names)\n",
        "wine_df.head()"
      ]
    },
    {
      "cell_type": "markdown",
      "metadata": {
        "id": "zC2cPCxmyBpR"
      },
      "source": [
        "-------------------------------------------"
      ]
    },
    {
      "cell_type": "markdown",
      "metadata": {
        "id": "uIGpt7c1yE8Z"
      },
      "source": [
        "## Job 16\n",
        "Une loi de probabilité décrit le comportement aléatoire d'un phénomène dépendant du hasard tels que les lancers de pièces, les dés, les jeux de cartes, et d'autres événements plus complexes.\n",
        "\n",
        "Considérons la Loi Normale, l'unes des plus importantes en probabilités et en statistique. Les lois normales sont parmi les lois de probabilité les plus utilisées pour modéliser des phénomènes naturels issus de plusieurs événements aléatoires. Elle est caractérisée par sa forme en cloche symétrique.\n",
        "\n",
        "**Simulez la Loi Normale $\\mathcal{N}(0, 1)$ où la moyenne est $0$ et l'écart-type est $1$ :**\n",
        "1. Générez des échantillons à partir de la distribution normale en utilisant la fonction `np.random.normal`\n",
        "\n",
        "2. Affichez l'histogramme des données\n",
        "\n",
        "3. Tracez la courbe de densité de probabilité théorique de $\\mathcal{N}(0, 1)$ en traçant la fonction $f(x)$ ci-dessous :\n",
        "\n",
        "$$ f(x) = \\frac{1}{1 \\sqrt{2\\pi}} \\times e^{-\\frac{1}{2} \\times x^2 }$$"
      ]
    },
    {
      "cell_type": "code",
      "execution_count": null,
      "metadata": {
        "id": "YL8L6xcCzoDQ"
      },
      "outputs": [],
      "source": []
    },
    {
      "cell_type": "markdown",
      "metadata": {
        "id": "MzR1Pu8BwXih"
      },
      "source": [
        "----------------------------------"
      ]
    },
    {
      "cell_type": "markdown",
      "metadata": {
        "id": "HM9Q73J0U9WB"
      },
      "source": [
        "# Calcul de dérivée"
      ]
    },
    {
      "cell_type": "markdown",
      "metadata": {
        "id": "EzuMXD8pP5CX"
      },
      "source": [
        "## Job 17\n",
        "\n",
        "En mathématiques, la dérivée d'une fonction d'une variable réelle mesure l'ampleur du changement de la valeur de la fonction (valeur de sortie) par rapport à un petit changement de son argument (valeur d'entrée). Les calculs de dérivées sont un outil fondamental du calcul infinitésimal. Par exemple, la dérivée de la position d'un objet en mouvement par rapport au temps est la vitesse (instantanée) de l'objet.\n",
        "\n",
        "\\\n",
        "\n",
        "Calculez la dérivée des fonctions suivantes à l'aide la librairie `SymPy` :\n",
        "\n",
        "1. $f(x) = 3x^2 - 2x + 5$\n",
        "\n",
        "2. $g(x) = \\frac{2}{x^2}$\n",
        "\n",
        "3. $h(x) = \\sqrt{3x - 1}$\n",
        "\n",
        "4. $k(x) = e^{x}$\n",
        "\n",
        "5. $l(x) = ln(x)$\n",
        "\n",
        "6. $p(x) = \\sqrt{x} + 2x^3$\n",
        "\n",
        "7. $q(x) = sin(x)$\n",
        "\n",
        "8. $r(x) = \\frac{x^2 + 1}{x-1}$"
      ]
    },
    {
      "cell_type": "code",
      "execution_count": null,
      "metadata": {
        "id": "v1S2lF7iUbGd"
      },
      "outputs": [],
      "source": []
    },
    {
      "cell_type": "markdown",
      "metadata": {
        "id": "lCCEJlbCYbOG"
      },
      "source": [
        "----------------------------------------------------------------------"
      ]
    },
    {
      "cell_type": "markdown",
      "metadata": {
        "id": "MF70NYVuJNty"
      },
      "source": [
        "# Toujours plus loin..."
      ]
    },
    {
      "cell_type": "markdown",
      "metadata": {
        "id": "uA0coLJoPxyx"
      },
      "source": [
        "## **Job Bonus 1**\n",
        "A l'aide de ce que vous avez appris dans le *job 16*, réalisez une simulation du **Théorème Central Limit**.\n",
        "\n",
        "*Pour des raisons d'organisation et de lisibilité de votre notebook, créez votre implémentation dans des fichiers .py que vous viendrez appeler à l'aide de la cellule ci-dessous :*"
      ]
    },
    {
      "cell_type": "code",
      "execution_count": null,
      "metadata": {
        "id": "RVbjzQVXP1kL"
      },
      "outputs": [],
      "source": []
    },
    {
      "cell_type": "markdown",
      "metadata": {
        "id": "iUoIMe-JYdrP"
      },
      "source": [
        "----------------------------------------------------------------------"
      ]
    },
    {
      "cell_type": "markdown",
      "metadata": {
        "id": "JIQ8RlMGwZyt"
      },
      "source": [
        "## **Job Bonus 2**\n",
        "\n",
        "**Un algorithme de tri, notion fondamentale en informatique ou en mathématiques, est un algorithme qui permet d'organiser une collection d'objets selon une relation d'ordre déterminée. Suivant la relation d'ordre considérée, une même collection d’objet peut donner lieu à divers arrangements.**\n",
        "\n",
        "Par exemple, on pourrait trier un tableau `tab` d'entiers naturels de $1$ à $N$ dans un ordre croissant ou décroissant.\n",
        "\n",
        "L'implémentation des algorithmes de tri est un excellent exercice pour comprendre des concepts fondamentaux de la programmation, comprendre d'autres algorithmes et se préparer à des entretiens techniques.\n",
        "\n",
        "Tentez d'implémenter un ou plusieurs des algorithmes de tri suivants :\n",
        "\n",
        "* **Tri à bulles (bubble sort)**\n",
        "* **Tri par insertion (Insertion sort)**\n",
        "* **Tri fusion (merge sort)**\n",
        "* **Tri rapide (quick sort)**\n",
        "\n",
        "\n",
        "\n",
        "*Pour des raisons d'organisation et lisibilité de votre notebook, créez vos différentes implémentations des algorithmes de tri dans des fichiers .py que vous viendrez appeler à l'aide de la cellule ci-dessous :*"
      ]
    },
    {
      "cell_type": "code",
      "execution_count": 31,
      "metadata": {
        "id": "q3BmeEQSxM0g"
      },
      "outputs": [
        {
          "name": "stdout",
          "output_type": "stream",
          "text": [
            "This is my original list: [64, 34, 25, 12, 22, 11, 90]\n"
          ]
        },
        {
          "ename": "NameError",
          "evalue": "name 'some_sorting_alg' is not defined",
          "output_type": "error",
          "traceback": [
            "\u001b[1;31m---------------------------------------------------------------------------\u001b[0m",
            "\u001b[1;31mNameError\u001b[0m                                 Traceback (most recent call last)",
            "Cell \u001b[1;32mIn[31], line 8\u001b[0m\n\u001b[0;32m      5\u001b[0m \u001b[38;5;28mprint\u001b[39m(\u001b[38;5;124m\"\u001b[39m\u001b[38;5;124mThis is my original list:\u001b[39m\u001b[38;5;124m\"\u001b[39m, input_list)\n\u001b[0;32m      7\u001b[0m \u001b[38;5;66;03m# Tri de la list à l'aide d'un algorithme donné - ?\u001b[39;00m\n\u001b[1;32m----> 8\u001b[0m sorted_list \u001b[38;5;241m=\u001b[39m \u001b[43msome_sorting_alg\u001b[49m(input_list)\n\u001b[0;32m     10\u001b[0m \u001b[38;5;28mprint\u001b[39m(\u001b[38;5;124m\"\u001b[39m\u001b[38;5;124mThis is my sorted list:\u001b[39m\u001b[38;5;124m\"\u001b[39m, sorted_list)\n",
            "\u001b[1;31mNameError\u001b[0m: name 'some_sorting_alg' is not defined"
          ]
        }
      ],
      "source": [
        "# Example of a list to be sorted - feel free to try something else!\n",
        "\n",
        "input_list = [64, 34, 25, 12, 22, 11, 90]\n",
        "\n",
        "print(\"This is my original list:\", input_list)\n",
        "\n",
        "# Tri de la list à l'aide d'un algorithme donné - ?\n",
        "sorted_list = some_sorting_alg(input_list)\n",
        "\n",
        "print(\"This is my sorted list:\", sorted_list)"
      ]
    }
  ],
  "metadata": {
    "colab": {
      "include_colab_link": true,
      "provenance": [],
      "toc_visible": true
    },
    "kernelspec": {
      "display_name": "Python 3",
      "name": "python3"
    },
    "language_info": {
      "codemirror_mode": {
        "name": "ipython",
        "version": 3
      },
      "file_extension": ".py",
      "mimetype": "text/x-python",
      "name": "python",
      "nbconvert_exporter": "python",
      "pygments_lexer": "ipython3",
      "version": "3.12.0b2"
    }
  },
  "nbformat": 4,
  "nbformat_minor": 0
}

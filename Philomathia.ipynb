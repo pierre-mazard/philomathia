{
  "cells": [
    {
      "cell_type": "markdown",
      "metadata": {
        "colab_type": "text",
        "id": "view-in-github"
      },
      "source": [
        "<a href=\"https://colab.research.google.com/github/pierre-mazard/philomathia/blob/main/Philomathia.ipynb\" target=\"_parent\"><img src=\"https://colab.research.google.com/assets/colab-badge.svg\" alt=\"Open In Colab\"/></a>"
      ]
    },
    {
      "cell_type": "markdown",
      "metadata": {
        "id": "mYr0YGpbJpWY"
      },
      "source": [
        "# Philomathia\n"
      ]
    },
    {
      "cell_type": "markdown",
      "metadata": {
        "id": "DDnH8RevvQ2-"
      },
      "source": [
        "Sommaire :\n",
        "* Algèbre linéaire\n",
        "* Probabilités et Statistique\n",
        "* Calcul de dérivée\n",
        "* Aller plus loin..."
      ]
    },
    {
      "cell_type": "markdown",
      "metadata": {
        "id": "mqYa4P1AYLF8"
      },
      "source": [
        "**Pourquoi Python pour les mathématiques ?**\n",
        "\n",
        "Le langage Python est un langage généraliste, offrant des bibliothèques puissantes en calcul numérique (NumPy, SciPy, SymPy, Matplotlib,...), facilitant les opérations mathématiques plus ou moins complexes, l'analyse statistique et la visualisation des données. Son interactivité via des environnements comme Jupyter Notebook favorise un processus de développement itératif.\n",
        "La communauté active de développeurs et les nombreuses ressources en ligne font de Python un outil incontournable."
      ]
    },
    {
      "cell_type": "markdown",
      "metadata": {
        "id": "hdEXFBsImr5q"
      },
      "source": [
        "**Pourquoi ce projet ?**\n",
        "\n",
        "Dans ce projet, nous allons aborder des notions de mathématiques basiques nécessaires à la prochaine Unit, le Machine Learning. Pas de panique, nous n'allons rien inventer, nous allons simplement utiliser Python afin de manipuler des vecteurs, des matrices, des probabilités, des graphes faire des simulations et d'autres calculs sympatiques !\n",
        "\n",
        "\\\n",
        "\n",
        "**Il n'est bien sûr pas question d'apprendre par coeur les notions apprises dans ce sujet, mais de s'en servir comme un guide pour d'éventuels futurs questionnements.**\n",
        "\n",
        "\\\n",
        "\n",
        "**Merci de lire et de répondre attentivement aux questions ci-dessous. Appuyez-vous sur les ressources de la base de connaissances.**"
      ]
    },
    {
      "cell_type": "markdown",
      "metadata": {
        "id": "s_6BNQr_fGrq"
      },
      "source": [
        "# Librairies utilisées"
      ]
    },
    {
      "cell_type": "code",
      "execution_count": 2,
      "metadata": {
        "id": "2WjXfJYMi0aA"
      },
      "outputs": [],
      "source": [
        "import dash\n",
        "from dash import dcc, html\n",
        "from dash.dependencies import Input, Output\n",
        "import numpy as np\n",
        "import pandas as pd\n",
        "import sympy as sp\n",
        "import plotly.express as px\n",
        "import matplotlib.pyplot as plt\n",
        "from sklearn.datasets import load_wine"
      ]
    },
    {
      "cell_type": "markdown",
      "metadata": {
        "id": "tMJvSpupa59E"
      },
      "source": [
        "# Algèbre linéaire\n",
        "Vous devrez exclusivement utiliser la librairie `numpy` dans la section suivante."
      ]
    },
    {
      "cell_type": "markdown",
      "metadata": {
        "id": "ralGJ7YaHXLm"
      },
      "source": [
        "## **Job 0**\n",
        "\n",
        "1. Créez le vecteur ligne $v = (4, 1, 9)$\n",
        "2. Additionnez, multipliez et divisez le vecteur $v$ par $2$  \n",
        "\n"
      ]
    },
    {
      "cell_type": "code",
      "execution_count": 3,
      "metadata": {
        "id": "_JUmL7sQMsCV"
      },
      "outputs": [
        {
          "data": {
            "text/plain": [
              "(array([4, 1, 9]), (3,))"
            ]
          },
          "execution_count": 3,
          "metadata": {},
          "output_type": "execute_result"
        }
      ],
      "source": [
        "v = np.array([4,1,9])\n",
        "v, v.shape"
      ]
    },
    {
      "cell_type": "code",
      "execution_count": 4,
      "metadata": {},
      "outputs": [
        {
          "data": {
            "text/plain": [
              "(array([ 6,  3, 11]), (3,))"
            ]
          },
          "execution_count": 4,
          "metadata": {},
          "output_type": "execute_result"
        }
      ],
      "source": [
        "v_add = v + 2\n",
        "v_add, v_add.shape"
      ]
    },
    {
      "cell_type": "code",
      "execution_count": 5,
      "metadata": {},
      "outputs": [
        {
          "data": {
            "text/plain": [
              "(array([ 8,  2, 18]), (3,))"
            ]
          },
          "execution_count": 5,
          "metadata": {},
          "output_type": "execute_result"
        }
      ],
      "source": [
        "v_mul = v * 2\n",
        "v_mul, v_mul.shape"
      ]
    },
    {
      "cell_type": "code",
      "execution_count": 6,
      "metadata": {},
      "outputs": [
        {
          "data": {
            "text/plain": [
              "(array([2. , 0.5, 4.5]), (3,))"
            ]
          },
          "execution_count": 6,
          "metadata": {},
          "output_type": "execute_result"
        }
      ],
      "source": [
        "v_div = v / 2\n",
        "v_div, v_div.shape"
      ]
    },
    {
      "cell_type": "markdown",
      "metadata": {
        "id": "aheDJxhm1vNL"
      },
      "source": [
        "--------------------------------------------------------------------------------\n"
      ]
    },
    {
      "cell_type": "markdown",
      "metadata": {
        "id": "ZkcCZMIdMw5I"
      },
      "source": [
        "## **Job 1**\n",
        "Additionnez le vecteur $v$ avec le vecteur $w$, définie comme suit $w = (-1, -1, 0)$"
      ]
    },
    {
      "cell_type": "code",
      "execution_count": 7,
      "metadata": {
        "id": "Uf29sdXcM58l"
      },
      "outputs": [
        {
          "data": {
            "text/plain": [
              "(array([3, 0, 9]), (3,))"
            ]
          },
          "execution_count": 7,
          "metadata": {},
          "output_type": "execute_result"
        }
      ],
      "source": [
        "w = np.array([-1,-1,0])\n",
        "v_add_w = v + w\n",
        "\n",
        "v_add_w, v_add_w.shape"
      ]
    },
    {
      "cell_type": "markdown",
      "metadata": {
        "id": "ITMFuM1BgG6H"
      },
      "source": [
        "-----------------------------------------------------------------"
      ]
    },
    {
      "cell_type": "markdown",
      "metadata": {
        "id": "yIMtWbHTNgme"
      },
      "source": [
        "## **Job 2**\n",
        "Soient les matrices $M$ et $N$ définies comme suit :\n",
        "$$M = \\begin{pmatrix}\n",
        "1 & 2  \\\\\n",
        "5 & 6\n",
        "\\end{pmatrix},\\space N = \\begin{pmatrix}\n",
        "1 & 1 & -1  \\\\\n",
        "0 & 0 & 1\n",
        "\\end{pmatrix} $$\n",
        "\n",
        "1. Créez les matrices $M$ et $N$. Quelles sont les dimensions de chacune ? Sont-elles des matrices carrées ?\n",
        "2. Est-il possible d'additionner $M$ et $N$ ? Justifiez. Si oui, calculez l'addition.\n",
        "3. Est-il possible de faire le produit matriciel de M par N ? Justifiez. Si oui, calculez le produit.\n",
        "\n"
      ]
    },
    {
      "cell_type": "code",
      "execution_count": 8,
      "metadata": {
        "id": "smbJ7DPBfQxT"
      },
      "outputs": [],
      "source": [
        "M = np.array(([1, 2], [5, 6]))\n",
        "N = np.array(([1, 1, -1], [0, 0, 1]))"
      ]
    },
    {
      "cell_type": "code",
      "execution_count": 9,
      "metadata": {},
      "outputs": [
        {
          "data": {
            "text/plain": [
              "(array([[1, 2],\n",
              "        [5, 6]]),\n",
              " (2, 2))"
            ]
          },
          "execution_count": 9,
          "metadata": {},
          "output_type": "execute_result"
        }
      ],
      "source": [
        "M, M.shape"
      ]
    },
    {
      "cell_type": "code",
      "execution_count": 10,
      "metadata": {},
      "outputs": [
        {
          "data": {
            "text/plain": [
              "(array([[ 1,  1, -1],\n",
              "        [ 0,  0,  1]]),\n",
              " (2, 3))"
            ]
          },
          "execution_count": 10,
          "metadata": {},
          "output_type": "execute_result"
        }
      ],
      "source": [
        "N, N.shape"
      ]
    },
    {
      "cell_type": "markdown",
      "metadata": {},
      "source": [
        "(M) est une matrices carrée car elle est de dimension n * n. \n",
        "\n",
        "(N) n'est pas une matrice carrée car elle n'est pas de dimension n * n. "
      ]
    },
    {
      "cell_type": "markdown",
      "metadata": {},
      "source": [
        "Pour additionner deux matrices, il faut qu'elles aient la même dimension. (M) et (N) ont des dimensions différentes (M dim(2, 2)) et (N dim(2, 3), il n'est pas possible de les additionner. "
      ]
    },
    {
      "cell_type": "markdown",
      "metadata": {},
      "source": [
        "Pour faire le produit de deux matrices (A) et (B), le nombre de colones de (A) doit être égal au nombre de lignes de (B).\n",
        "Ici (M) à deux lignes et (B) deux colones, on peut donc les multiplier."
      ]
    },
    {
      "cell_type": "code",
      "execution_count": 11,
      "metadata": {},
      "outputs": [
        {
          "data": {
            "text/plain": [
              "(array([[1, 1, 1],\n",
              "        [5, 5, 1]]),\n",
              " (2, 3))"
            ]
          },
          "execution_count": 11,
          "metadata": {},
          "output_type": "execute_result"
        }
      ],
      "source": [
        "produit_MN = np.dot(M, N)\n",
        "produit_MN, produit_MN.shape"
      ]
    },
    {
      "cell_type": "markdown",
      "metadata": {
        "id": "bPsxeP6rfapL"
      },
      "source": [
        "-----------------------------------"
      ]
    },
    {
      "cell_type": "markdown",
      "metadata": {
        "id": "W5Vfaozbt7_a"
      },
      "source": [
        "## **Job 3**\n",
        "Soit la matrice suivante :\n",
        "$$A = \\begin{pmatrix}\n",
        "1 & 2 & 3 & 4 \\\\\n",
        "5 & 6 & 7 & 8 \\\\\n",
        "9 & 10 & 11 & 12 \\\\\n",
        "13 & 14 & 15 & 16\n",
        "\\end{pmatrix} $$\n",
        "\n",
        "1. Créez et affichez la matrice A\n",
        "\n",
        "2. Créez une copie $C$ de la matrice $A$\n",
        "\n",
        "3. Créez une copie superficielle $B$ de la matrice $A$, sans copier sa référence\n",
        "\n",
        "4. Affichez la valeur se trouvant à la ligne 2 et à la colonne 3\n",
        "\n",
        "5. Affichez tous les éléments de la $2^{ème}$ ligne\n",
        "\n",
        "6. Affichez tous les éléments de la $1^{ème}$ colonne\n",
        "\n",
        "7. Affichez la diagonale de $A$\n",
        "\n",
        "8. Multipliez la matrice $A$ par $\\frac{1}{2}$"
      ]
    },
    {
      "cell_type": "code",
      "execution_count": 12,
      "metadata": {
        "id": "OLlKmDT1gPsr"
      },
      "outputs": [
        {
          "data": {
            "text/plain": [
              "(array([[ 1,  2,  3,  4],\n",
              "        [ 5,  6,  7,  8],\n",
              "        [ 9, 10, 11, 12],\n",
              "        [13, 14, 15, 16]]),\n",
              " (4, 4))"
            ]
          },
          "execution_count": 12,
          "metadata": {},
          "output_type": "execute_result"
        }
      ],
      "source": [
        "A = np.array(([1, 2, 3, 4], [5, 6, 7, 8], [9, 10, 11, 12], [13, 14, 15, 16]))\n",
        "A, A.shape"
      ]
    },
    {
      "cell_type": "code",
      "execution_count": 13,
      "metadata": {},
      "outputs": [
        {
          "data": {
            "text/plain": [
              "(array([[ 1,  2,  3,  4],\n",
              "        [ 5,  6,  7,  8],\n",
              "        [ 9, 10, 11, 12],\n",
              "        [13, 14, 15, 16]]),\n",
              " (4, 4))"
            ]
          },
          "execution_count": 13,
          "metadata": {},
          "output_type": "execute_result"
        }
      ],
      "source": [
        "C = A.copy()\n",
        "C, C.shape"
      ]
    },
    {
      "cell_type": "code",
      "execution_count": 14,
      "metadata": {},
      "outputs": [
        {
          "data": {
            "text/plain": [
              "(array([[ 1,  2,  3,  4],\n",
              "        [ 5,  6,  7,  8],\n",
              "        [ 9, 10, 11, 12],\n",
              "        [13, 14, 15, 16]]),\n",
              " (4, 4))"
            ]
          },
          "execution_count": 14,
          "metadata": {},
          "output_type": "execute_result"
        }
      ],
      "source": [
        "B = A.view()\n",
        "B, B.shape"
      ]
    },
    {
      "cell_type": "code",
      "execution_count": 15,
      "metadata": {},
      "outputs": [
        {
          "data": {
            "text/plain": [
              "7"
            ]
          },
          "execution_count": 15,
          "metadata": {},
          "output_type": "execute_result"
        }
      ],
      "source": [
        "valeur_1_2 = A[1, 2]\n",
        "valeur_1_2"
      ]
    },
    {
      "cell_type": "code",
      "execution_count": 16,
      "metadata": {},
      "outputs": [
        {
          "data": {
            "text/plain": [
              "array([5, 6, 7, 8])"
            ]
          },
          "execution_count": 16,
          "metadata": {},
          "output_type": "execute_result"
        }
      ],
      "source": [
        "ligne_2 = A[1, :]\n",
        "ligne_2"
      ]
    },
    {
      "cell_type": "code",
      "execution_count": 17,
      "metadata": {},
      "outputs": [
        {
          "data": {
            "text/plain": [
              "array([ 1,  5,  9, 13])"
            ]
          },
          "execution_count": 17,
          "metadata": {},
          "output_type": "execute_result"
        }
      ],
      "source": [
        "colonne_1 = A[:, 0]\n",
        "colonne_1"
      ]
    },
    {
      "cell_type": "code",
      "execution_count": 18,
      "metadata": {},
      "outputs": [
        {
          "data": {
            "text/plain": [
              "array([ 1,  6, 11, 16])"
            ]
          },
          "execution_count": 18,
          "metadata": {},
          "output_type": "execute_result"
        }
      ],
      "source": [
        "diagonale = np.diag(A)\n",
        "diagonale"
      ]
    },
    {
      "cell_type": "code",
      "execution_count": 19,
      "metadata": {},
      "outputs": [
        {
          "data": {
            "text/plain": [
              "array([[0.5, 1. , 1.5, 2. ],\n",
              "       [2.5, 3. , 3.5, 4. ],\n",
              "       [4.5, 5. , 5.5, 6. ],\n",
              "       [6.5, 7. , 7.5, 8. ]])"
            ]
          },
          "execution_count": 19,
          "metadata": {},
          "output_type": "execute_result"
        }
      ],
      "source": [
        "A_multiplie = A * 0.5\n",
        "A_multiplie"
      ]
    },
    {
      "cell_type": "markdown",
      "metadata": {
        "id": "7Tv1qDFOo0ID"
      },
      "source": [
        "## **Job 4**\n",
        "Considérons les matrices $A$ et $A_{bis}$ définies comme ci-dessous :\n",
        "\n",
        "$$ A = \\begin{pmatrix}\n",
        "1 & 5 & 3  \\\\\n",
        "2 & 4 & 7\n",
        "\\end{pmatrix}, \\space A_{bis} = \\begin{pmatrix}\n",
        "1 & 2  \\\\\n",
        "5 & 4 \\\\\n",
        "3 & 7\n",
        "\\end{pmatrix}$$\n",
        "\n",
        "1. Quelles sont les dimensions de $A$ et de $A_{bis}$ ?\n",
        "2. Qu'est ce que vous voyez en observant ces deux matrices ?\n",
        "3. Quelle opération mathématique permet d'obtenir $A_{bis}$ comme résultat à partir de $A$ ?\n",
        "4. Quelle fonction Python permet de faire ce type d'opération ?\n",
        "5. A l'aide de l'opération précédente, transformez les vecteurs et les matrices ci-dessous. Affichez leurs dimensions avant et après l'opération :\n",
        "  * $\\begin{pmatrix}\n",
        "7  \\\\\n",
        "4 \\\\\n",
        "1\n",
        "\\end{pmatrix}$\n",
        "\n",
        "  * $\\begin{pmatrix}\n",
        "9 & 0 & 3 \\\\\n",
        "\\end{pmatrix}$\n",
        "\n",
        "  * $\\begin{pmatrix}\n",
        "2 & 4 & 1 \\\\\n",
        "0 & 5 & 2 \\\\\n",
        "3 & 1 & 6\n",
        "\\end{pmatrix}$\n",
        "\n",
        "  * $\\begin{pmatrix}\n",
        "  7 & 2 & 5 & 1 \\\\\n",
        "3 & 6 & 0 & 2 \\\\\n",
        "\\end{pmatrix}$\n"
      ]
    },
    {
      "cell_type": "markdown",
      "metadata": {},
      "source": [
        "La matrice (A) est de dimension 2 par 3.\n",
        "\n",
        "La matrice (Abis) est de dimension 3 par 2.\n",
        "\n",
        "La matrice Abis est la transposée de la matrice A : (A^T = Abis). Abis est obtenue en échangeant les lignes et les colonnes de A.  \n",
        "\n",
        "L'opération mathématique permetant d'obtenir Abis à partir de A est la transposition : (A^T)ij = Aij"
      ]
    },
    {
      "cell_type": "code",
      "execution_count": 20,
      "metadata": {},
      "outputs": [
        {
          "data": {
            "text/plain": [
              "array([[1, 2],\n",
              "       [5, 4],\n",
              "       [3, 7]])"
            ]
          },
          "execution_count": 20,
          "metadata": {},
          "output_type": "execute_result"
        }
      ],
      "source": [
        "A = np.array(([1, 5, 3], [2, 4, 7]))\n",
        "Abis = A.T \n",
        "Abis"
      ]
    },
    {
      "cell_type": "code",
      "execution_count": 21,
      "metadata": {
        "id": "o1Hj2crXfRe9"
      },
      "outputs": [
        {
          "data": {
            "text/plain": [
              "(array([[7],\n",
              "        [4],\n",
              "        [1]]),\n",
              " (3, 1),\n",
              " array([[7, 4, 1]]),\n",
              " (1, 3))"
            ]
          },
          "execution_count": 21,
          "metadata": {},
          "output_type": "execute_result"
        }
      ],
      "source": [
        "A = np.array(([7], [4], [1]))\n",
        "Abis = A.T\n",
        "\n",
        "A, A.shape, Abis, Abis.shape\n"
      ]
    },
    {
      "cell_type": "code",
      "execution_count": 22,
      "metadata": {},
      "outputs": [
        {
          "data": {
            "text/plain": [
              "(array([9, 0, 3]),\n",
              " (3,),\n",
              " array([[9],\n",
              "        [0],\n",
              "        [3]]),\n",
              " (3, 1))"
            ]
          },
          "execution_count": 22,
          "metadata": {},
          "output_type": "execute_result"
        }
      ],
      "source": [
        "A = np.array([9, 0, 3])\n",
        "Abis = A.reshape(3, 1)\n",
        "\n",
        "A, A.shape, Abis, Abis.shape"
      ]
    },
    {
      "cell_type": "code",
      "execution_count": 23,
      "metadata": {},
      "outputs": [
        {
          "data": {
            "text/plain": [
              "(array([[2, 4, 1],\n",
              "        [0, 5, 2],\n",
              "        [3, 1, 6]]),\n",
              " (3, 3),\n",
              " array([[2, 0, 3],\n",
              "        [4, 5, 1],\n",
              "        [1, 2, 6]]),\n",
              " (3, 3))"
            ]
          },
          "execution_count": 23,
          "metadata": {},
          "output_type": "execute_result"
        }
      ],
      "source": [
        "A = np.array(([2, 4, 1], [0, 5, 2], [3, 1, 6]))\n",
        "Abis = A.T\n",
        "\n",
        "A, A.shape, Abis, Abis.shape"
      ]
    },
    {
      "cell_type": "code",
      "execution_count": 24,
      "metadata": {},
      "outputs": [
        {
          "data": {
            "text/plain": [
              "(array([[7, 2, 5, 1],\n",
              "        [3, 6, 0, 2]]),\n",
              " (2, 4),\n",
              " array([[7, 3],\n",
              "        [2, 6],\n",
              "        [5, 0],\n",
              "        [1, 2]]),\n",
              " (4, 2))"
            ]
          },
          "execution_count": 24,
          "metadata": {},
          "output_type": "execute_result"
        }
      ],
      "source": [
        "A = np.array(([7, 2, 5, 1], [3, 6, 0, 2]))\n",
        "Abis = A.T\n",
        "\n",
        "A, A.shape, Abis, Abis.shape"
      ]
    },
    {
      "cell_type": "markdown",
      "metadata": {
        "id": "DNws-5WUo2Ab"
      },
      "source": [
        "------------------------------------------"
      ]
    },
    {
      "cell_type": "markdown",
      "metadata": {
        "id": "Il-yWHePVIqI"
      },
      "source": [
        "## **Job 5**\n",
        "On considère la matrice $A$ de dimension 3 $\\times 4$ définie comme :\n",
        "\n",
        "$$ A = \\begin{pmatrix}\n",
        "4 & 6 & -2 & 3 \\\\\n",
        "2 & -1 & 0 & 1 \\\\\n",
        "-7 & 0 & 1 & 12\n",
        "\\end{pmatrix} $$\n",
        "\n",
        "1. Créez la matrice $A$.\n",
        "\n",
        "2. Modifiez la matrice $A$ pour que ses deux premières lignes soient multipliées par 2 et que sa dernière colonne soit divisée par 3.\n",
        "\n",
        "3. Créez une nouvelle matrice $B$ définie comme :\n",
        "\n",
        "$$ B = \\begin{pmatrix}\n",
        "4 & 5 & 6 \\\\\n",
        "5 & 10 & 15 \\\\\n",
        "1 & 1 & 1\n",
        "\\end{pmatrix}  $$\n",
        "\n",
        "4. Réalisez le produit matriciel de $B$ et $A$, notez le $D$."
      ]
    },
    {
      "cell_type": "code",
      "execution_count": 25,
      "metadata": {
        "id": "u7qHn_eXj4QD"
      },
      "outputs": [
        {
          "data": {
            "text/plain": [
              "array([[ 8, 12, -4,  2],\n",
              "       [ 4, -2,  0,  0],\n",
              "       [-7,  0,  1,  4]])"
            ]
          },
          "execution_count": 25,
          "metadata": {},
          "output_type": "execute_result"
        }
      ],
      "source": [
        "A = np.array(([4, 6, -2, 3], [2, -1, 0, 1], [-7, 0, 1, 12]))\n",
        "A[:2, :] = A[:2, :] * 2\n",
        "A[:, -1] = A[:, -1] / 3\n",
        "A\n"
      ]
    },
    {
      "cell_type": "code",
      "execution_count": 26,
      "metadata": {},
      "outputs": [
        {
          "data": {
            "text/plain": [
              "(array([[ 8, 12, -4,  2],\n",
              "        [ 4, -2,  0,  0],\n",
              "        [-7,  0,  1,  4]]),\n",
              " array([[ 4,  5,  6],\n",
              "        [ 5, 10, 15],\n",
              "        [ 1,  1,  1]]),\n",
              " array([[ 10,  38, -10,  32],\n",
              "        [-25,  40,  -5,  70],\n",
              "        [  5,  10,  -3,   6]]))"
            ]
          },
          "execution_count": 26,
          "metadata": {},
          "output_type": "execute_result"
        }
      ],
      "source": [
        "B = np.array(([4, 5, 6], [5, 10, 15], [1, 1, 1]))\n",
        "D = np.dot(B, A)\n",
        "A, B, D"
      ]
    },
    {
      "cell_type": "markdown",
      "metadata": {
        "id": "pUe2Q9LJg8-e"
      },
      "source": [
        "---------------------------------------------------------"
      ]
    },
    {
      "cell_type": "markdown",
      "metadata": {
        "id": "fy9H6rsutmov"
      },
      "source": [
        "## **Job 6**\n",
        "\n",
        "Soit la matrice $I_3$ définie comme suit :\n",
        "$$ \\begin{pmatrix}\n",
        "1 & 0 & 0 \\\\\n",
        "0 & 1 & 0 \\\\\n",
        "0 & 0 & 1\n",
        "\\end{pmatrix}$$\n",
        "\n",
        "1. Faites une multiplication matricielle de $I_3$ et d'une autre matrice de même taille de votre choix. Qu'est ce que vous observez ?\n",
        "2. Renseignez-vous sur la matrice $I_3$. Quelles sont ses caractéristiques ?"
      ]
    },
    {
      "cell_type": "code",
      "execution_count": 27,
      "metadata": {
        "id": "SIVfVrphw6mD"
      },
      "outputs": [
        {
          "data": {
            "text/plain": [
              "(array([[2., 4., 1.],\n",
              "        [6., 2., 9.],\n",
              "        [1., 4., 0.]]),\n",
              " (3, 3))"
            ]
          },
          "execution_count": 27,
          "metadata": {},
          "output_type": "execute_result"
        }
      ],
      "source": [
        "I3 = np.eye(3)\n",
        "I4 = np.array(([2, 4, 1], [6, 2, 9], [1, 4, 0]))\n",
        "I5 = np.dot(I3, I4)\n",
        "I5, I5.shape"
      ]
    },
    {
      "cell_type": "markdown",
      "metadata": {},
      "source": [
        "I3 est une matrice identée symétrique (A = A^T), ce qui signifie qu'elle est égale à sa transposée. \n",
        "\n",
        "Le produit d'une matrice identitée A avec une matrice B sera toujours égal à B. \n",
        "\n",
        "Donc ici I3 * I4 = I4. \n"
      ]
    },
    {
      "cell_type": "markdown",
      "metadata": {
        "id": "D1RXE9cXx3LD"
      },
      "source": [
        "--------------------------------------------------------------"
      ]
    },
    {
      "cell_type": "markdown",
      "metadata": {
        "id": "2AB67_wztCQT"
      },
      "source": [
        "## **Job 7**\n",
        "\n",
        "Pour un nombre réel $x$, son inverse, noté $\\frac{1}{x}$ ou $x^{-1}$, est un autre nombre tel que $x \\times \\frac{1}{x} = 1$\n",
        "\n",
        " En d'autres termes, lorsque vous multipliez un nombre par son inverse, le résultat est toujours $1$.\n",
        "\n",
        " Démontrez le dans la cellule ci-dessous pour des nombres de votre choix."
      ]
    },
    {
      "cell_type": "code",
      "execution_count": 28,
      "metadata": {
        "id": "AOV7zzmzx4_o"
      },
      "outputs": [
        {
          "data": {
            "text/plain": [
              "1.0"
            ]
          },
          "execution_count": 28,
          "metadata": {},
          "output_type": "execute_result"
        }
      ],
      "source": [
        "# Pour tous réels x, x = x/1 ou bien x = x^1\n",
        "# Or l'inverse de x/1 = 1/x ou bien l'inverse de x^1 est x^-1 \n",
        "# Donc l'inverse de x est 1/x ou bien x^-1 et le produit de x par son inverse est 1 car 1/x * x/1 = 1\n",
        "x = 158\n",
        "x_inv = 1/x\n",
        "x * x_inv"
      ]
    },
    {
      "cell_type": "markdown",
      "metadata": {
        "id": "u-S8sAZPx5Lz"
      },
      "source": [
        "-----------------------------------------------------------------"
      ]
    },
    {
      "cell_type": "markdown",
      "metadata": {
        "id": "RgYKdF1J6fXn"
      },
      "source": [
        "## **Job 8**\n",
        "\n",
        "L'inverse d'une matrice est une autre matrice qui, lorsqu'elle est multipliée par la matrice d'origine, donne une matrice identité. En d'autres termes, si $A$ est une matrice et $A^{-1}$ est son inverse, alors $A \\times A^{-1} = I$.\n",
        "\n",
        "*(C'est comme si l'inverse de la matrice \"compensait\" les effets de la matrice d'origine, de la même manière que l'inverse d'un nombre \"compense\" sa multiplication initiale pour obtenir $1$.)*\n",
        "\n",
        "Soient deux matrices $A$ et $B$ telles que :\n",
        "\n",
        "$$ A = \\begin{pmatrix}\n",
        "1 & 2 \\\\\n",
        "3 & 4\n",
        "\\end{pmatrix}, \\space B = \\begin{pmatrix}\n",
        "-2 & 1 \\\\\n",
        "1.5 & -0.5\n",
        "\\end{pmatrix}$$\n",
        "\n",
        "1. Calculez $A \\times B$ puis $B \\times A$.\n",
        "2. Que pouvez-vous conclure sur les deux matrices ?"
      ]
    },
    {
      "cell_type": "code",
      "execution_count": 29,
      "metadata": {
        "id": "DYkYvgfr6iBH"
      },
      "outputs": [
        {
          "data": {
            "text/plain": [
              "(array([[1., 0.],\n",
              "        [0., 1.]]),\n",
              " array([[1., 0.],\n",
              "        [0., 1.]]))"
            ]
          },
          "execution_count": 29,
          "metadata": {},
          "output_type": "execute_result"
        }
      ],
      "source": [
        "A = np.array(([1, 2], [3, 4]))\n",
        "B = np.array(([-2, 1], [1.5, -0.5]))\n",
        "A_mult_B = np.dot(A, B)\n",
        "B_mult_A = np.dot(B, A)\n",
        "A_mult_B, B_mult_A"
      ]
    },
    {
      "cell_type": "markdown",
      "metadata": {},
      "source": [
        "En observant les résultats on remarque qu'ils forment tous les deux des matrices identité parfaites, ce qui signifie qu'elles sont exactement ce que l'on espère obtenir en mutlipliant une matrice par son inverse ou bien lorsque l'on multiplie deux matrices qui sont inverses l'une de l'autre dans un certain ordre. \n",
        "\n",
        "Donc la matrice (B) est l'inverse de la matrice (A)\n"
      ]
    },
    {
      "cell_type": "markdown",
      "metadata": {
        "id": "rLtfdXh76iTd"
      },
      "source": [
        "----------------------------------------------------------------------"
      ]
    },
    {
      "cell_type": "markdown",
      "metadata": {
        "id": "rfRPzGs-3MG2"
      },
      "source": [
        "## **Job 9**\n",
        "\n",
        "On dit qu'une matrice carrée $M$ est inversible (ou possède un inverse $M^{-1}$) si son déterminant $det(M)\\neq 0$.\n",
        "\n",
        "**Par exemple :**\n",
        "\n",
        "$$ M = \\begin{pmatrix}\n",
        "a & b \\\\\n",
        "c & d\n",
        "\\end{pmatrix}, \\space det(M) = (a \\times d) - (c \\times b) \\neq 0$$\n",
        "\n",
        "On définit alors $M^{-1}$ comme suit :\n",
        "\n",
        "$$ M^{-1} = \\frac{1}{det(M)} \\times \\begin{pmatrix}\n",
        "d & -b \\\\\n",
        "-c & a\n",
        "\\end{pmatrix} $$\n",
        "\n",
        "\\\n",
        "\n",
        "1. Vérifiez si les matrices carrées ci-dessous sont inversibles (il existe une fonction de numpy qui le fait très bien...) :\n",
        "\n",
        "  * $ \\begin{pmatrix}\n",
        "5 & 6 \\\\\n",
        "7 & 8\n",
        "\\end{pmatrix}$\n",
        "\n",
        "  * $ \\begin{pmatrix}\n",
        "3 & 2 \\\\\n",
        "4 & 1\n",
        "\\end{pmatrix}$\n",
        "\n",
        "  * $ \\begin{pmatrix}\n",
        "1 & 5 \\\\\n",
        "7 & 8 \\\\\n",
        "0 & 1\n",
        "\\end{pmatrix}$\n",
        "\n",
        "  * $ \\begin{pmatrix}\n",
        "1 & 2 & 3 \\\\\n",
        "0 & -1 & 4 \\\\\n",
        "2 & 1 & 5\n",
        "\\end{pmatrix}$\n",
        "\n",
        "\n",
        "2. Calculez l'inverse de ces matrices à l'aide de la formule donnée précédemment."
      ]
    },
    {
      "cell_type": "code",
      "execution_count": 30,
      "metadata": {
        "id": "EqS8e-z13Lf9"
      },
      "outputs": [
        {
          "data": {
            "text/plain": [
              "([-2.000000000000005, -4.999999999999999, None, 12.999999999999995],\n",
              " [True, True, False, True])"
            ]
          },
          "execution_count": 30,
          "metadata": {},
          "output_type": "execute_result"
        }
      ],
      "source": [
        "def is_square(matrix):\n",
        "    return matrix.shape[0] == matrix.shape[1]\n",
        "\n",
        "A = np.array(([5, 6], [7, 8]))\n",
        "B = np.array(([3, 2], [4, 1]))\n",
        "C = np.array(([1, 5], [7, 8], [0, 1])) \n",
        "D = np.array(([1, 2, 3], [0, -1, 4], [2, 1, 5]))\n",
        "\n",
        "matrices = [A, B, C, D]\n",
        "determinants = []\n",
        "inversibles = []\n",
        "\n",
        "for matrix in matrices:\n",
        "    if is_square(matrix):\n",
        "        det = np.linalg.det(matrix)\n",
        "        determinants.append(det)\n",
        "        inversibles.append(det != 0)\n",
        "    else:\n",
        "        determinants.append(None)\n",
        "        inversibles.append(False)\n",
        "\n",
        "determinants, inversibles\n"
      ]
    },
    {
      "cell_type": "markdown",
      "metadata": {},
      "source": [
        "Les matrices (A) (B) et (D) sont carrées car elles sont de taille (n, n), la matrice (C) n'est pas carrée car elle est de taille (3, 2).\n",
        "\n",
        "Il n'est donc pas possible de calculer le déterminant pour la matrice (C) car elle n'est pas carrée et elle n'est pas inversible. \n",
        "\n",
        "Pour les matrices carrées (A) (B) (D), leurs déterminants sont différenst de 0, donc elles sont inversibles. "
      ]
    },
    {
      "cell_type": "markdown",
      "metadata": {
        "id": "Gx-D1gOvx9q7"
      },
      "source": [
        "-----------------------------------------------------------------"
      ]
    },
    {
      "cell_type": "markdown",
      "metadata": {
        "id": "CQtesnAQhBWC"
      },
      "source": [
        "# Probabilités et Statistique"
      ]
    },
    {
      "cell_type": "markdown",
      "metadata": {
        "id": "ln_exBJbqReD"
      },
      "source": [
        "## **Job 10**\n",
        "**La probabilité d'un événement est un nombre réel compris entre 0 et 1. Plus ce nombre est grand, plus le risque, ou la chance, que l'événement se produise est grand.**\n",
        "\n",
        "Lancez une pièce de monnaie 100 fois et enregistrez le résultat, pile ou face, dans un `array` $T$.\n",
        "1. Quelle est donc la probabilité d'obtenir le résultat Pile ou le résultat Face ?\n",
        "3. Visualisez la proportion des résultats à l'aide d'un piechart de `Matplotlib` (ou d'une autre librairie de votre choix).\n"
      ]
    },
    {
      "cell_type": "code",
      "execution_count": 31,
      "metadata": {
        "id": "iOPwW6xwrI-v"
      },
      "outputs": [
        {
          "data": {
            "text/plain": [
              "array(['pile', 'face', 'face', 'pile', 'face', 'face', 'face', 'face',\n",
              "       'face', 'face', 'face', 'pile', 'pile', 'face', 'pile', 'pile',\n",
              "       'pile', 'pile', 'pile', 'face', 'pile', 'face', 'face', 'pile',\n",
              "       'pile', 'face', 'face', 'face', 'face', 'pile', 'face', 'pile',\n",
              "       'face', 'pile', 'face', 'face', 'pile', 'face', 'face', 'pile',\n",
              "       'pile', 'face', 'pile', 'face', 'face', 'face', 'face', 'face',\n",
              "       'pile', 'face', 'pile', 'face', 'face', 'face', 'face', 'pile',\n",
              "       'face', 'pile', 'pile', 'face', 'face', 'pile', 'face', 'pile',\n",
              "       'face', 'pile', 'pile', 'pile', 'pile', 'pile', 'face', 'face',\n",
              "       'pile', 'pile', 'pile', 'face', 'face', 'pile', 'face', 'pile',\n",
              "       'pile', 'face', 'pile', 'face', 'face', 'face', 'face', 'face',\n",
              "       'face', 'pile', 'face', 'face', 'pile', 'pile', 'face', 'pile',\n",
              "       'pile', 'face', 'face', 'pile'], dtype='<U4')"
            ]
          },
          "execution_count": 31,
          "metadata": {},
          "output_type": "execute_result"
        }
      ],
      "source": [
        "np.random.seed(0)\n",
        "T = np.random.randint(0, 2, 100)\n",
        "result = np.where(T == 0, 'pile', 'face')\n",
        "result\n"
      ]
    },
    {
      "cell_type": "markdown",
      "metadata": {},
      "source": [
        "La probabilité d'obtenir pile ou face avec une pièce de monnaie équilibrée est de 50/100 pour chaque côté.\n",
        "\n",
        "Donc à chaque tirage on a une probabilité de 0.5 ou 50/100 de tomber sur pile ou sur face."
      ]
    },
    {
      "cell_type": "code",
      "execution_count": 32,
      "metadata": {},
      "outputs": [
        {
          "data": {
            "text/plain": [
              "Text(0.5, 1.0, 'Répartition des résultats')"
            ]
          },
          "execution_count": 32,
          "metadata": {},
          "output_type": "execute_result"
        },
        {
          "data": {
            "image/png": "[encoded data removed]",
            "text/plain": [
              "<Figure size 640x480 with 1 Axes>"
            ]
          },
          "metadata": {},
          "output_type": "display_data"
        }
      ],
      "source": [
        "unique, counts = np.unique(result, return_counts=True)\n",
        "data = dict(zip(unique, counts))\n",
        "\n",
        "labels = data.keys()\n",
        "sizes = data.values()\n",
        "\n",
        "plt.pie(sizes, labels=labels, autopct='%1.1f%%', startangle=90)\n",
        "plt.axis('equal') \n",
        "plt.title(\"Répartition des résultats\")"
      ]
    },
    {
      "cell_type": "markdown",
      "metadata": {
        "id": "MxiFruoxmYug"
      },
      "source": [
        "## **Job 11**\n",
        "\n",
        "Considérez un dé $D_6$ dont les valeurs possibles sont : $\\{1, 2, 3, 4, 5, 6\\}$.\n",
        "\n",
        "Ce dé est non truqué, ce qui signifie que toutes les valeurs ont des probabilités égales de se produire.  \n",
        "\n",
        "Si je jette le dé $D_6$, la probabilité que le résultat soit $3$ est de $\\frac{1}{6}$.\n",
        "\n",
        "1. Quelle est la probabilité d'obtenir $7$ au jet du dé $D_6$ ?\n",
        "2. Quelle est la probabilité d'obtenir un résultat pair ?\n",
        "3. Quelle est la probabilité d'obtenir un résultat impair ?\n",
        "4. Quelle est la probabilité d'obtenir un résultat inférieur ou égal à $4$ ?\n",
        "5. Quelle est la probabilité d'obtenir un résultat inférieur ou égal à $6$ ?\n",
        "6. Quelle est la probabilité de ne pas obtenir $1$ ?"
      ]
    },
    {
      "cell_type": "markdown",
      "metadata": {},
      "source": [
        "### Probabilités théoriques : \n",
        "\n",
        "#### Probabilité d'obtenir 7 au jet :\n",
        "\n",
        "Théoriquement, la probabilité est de 0 car 7 n'est pas une valeur présente sur le dé à 6 faces.\n",
        "\n",
        "#### Probabilité d'obtenir un résultat pair : \n",
        "\n",
        "Les faces paires sont 2, 4 et 6. Donc la probabilité est de 3/6 = 1/2 = 0.5.\n",
        "\n",
        "#### Probabilité d'obtenir un résultat impair : \n",
        "\n",
        "Les faces impaires sont 1, 2 , 3 et 4. Donc la probabilité est de 4/6 = 2/3.\n",
        "\n",
        "#### Probabilité d'obtenir un résultat inférieur ou égal à 6 :\n",
        "\n",
        "Les faces sont toutes infèrieures ou égales à 6. Donc la probabilité est de 6/6 = 1.\n",
        "\n",
        "#### Probabilité de ne pas obtenir 1 : \n",
        "\n",
        "Les faces 2, 3, 4, 5 et 6 dont concidérées. Donc la probabilité est de 5/6. "
      ]
    },
    {
      "cell_type": "markdown",
      "metadata": {},
      "source": [
        "### Probabilité expérimentale sur 1000 lancés : "
      ]
    },
    {
      "cell_type": "code",
      "execution_count": 33,
      "metadata": {
        "id": "Nbpx1FibWrBs"
      },
      "outputs": [
        {
          "data": {
            "text/plain": [
              "(0.0, 0.511, 0.489, 0.668, 1.0, 0.829)"
            ]
          },
          "execution_count": 33,
          "metadata": {},
          "output_type": "execute_result"
        }
      ],
      "source": [
        "np.random.seed(0)\n",
        "D6 = np.random.randint(1, 7, 1000)\n",
        "probabilities_7 = np.sum(D6 == 7) / 1000\n",
        "probabilities_even = np.sum(D6 % 2 == 0) / 1000\n",
        "probabilities_odd = np.sum(D6 % 2 != 0) / 1000\n",
        "probabilities_infequal_4 = np.sum(D6 <= 4) / 1000\n",
        "probabilities_infequal_6 = np.sum(D6 <= 6) / 1000\n",
        "probabilities_difone = np.sum(D6 != 1) / 1000\n",
        "\n",
        "probabilities_7, probabilities_even, probabilities_odd, probabilities_infequal_4, probabilities_infequal_6, probabilities_difone\n"
      ]
    },
    {
      "cell_type": "markdown",
      "metadata": {},
      "source": [
        "### Comparaison des résultats théoriques et expérimentaux : \n",
        "\n",
        "On observe bien que les résultat théoriques et expérimentaux sont quasiment les mêmes ce qui confirme bien la théorie par l'expérimentation. "
      ]
    },
    {
      "cell_type": "markdown",
      "metadata": {},
      "source": [
        "#### Variations des résultats expérimentaux : \n",
        "\n",
        "Les variations observées sont induites par : \n",
        "\n",
        "- La taille de l'échantillon : Théoriquement, on parle d'une infinité de tirages ce qui donne des résultats exacts et constants. Dans une expérimentation, on ne tire qu'un nombre déterminé de fois ce qui peut entraîner des écarts. \n",
        "\n",
        "- Biais de l'échantillon : Parfois, il se peut que l'échantillon expérimental ne soit pas parfaitement représentatif en raison du nombre limité de tirages. \n",
        "\n",
        "- Loi des grand nombres : Plus le nombre de tirages augmente, plus la moyenne des résultats se rapprochera de la valeur théorique. \n",
        "\n",
        "Ces variations ne remettent pas en question la théorie, elles démontrent seulement les effets pratiques de l'aléatoire et des tailles d'échantillon finies. C'est tout l'intéret des simulations : elle montrent comment la théorie s'applique ou non au monde réel. "
      ]
    },
    {
      "cell_type": "markdown",
      "metadata": {
        "id": "WSdMr0IBWthA"
      },
      "source": [
        "-------------------------------------------------------------"
      ]
    },
    {
      "cell_type": "markdown",
      "metadata": {
        "id": "uttOswY_g-gC"
      },
      "source": [
        "## **Job 12**\n",
        "A l'aide de `numpy` et de ses différentes fonctions :\n",
        "* Créez un vecteur ligne $R$ de taille $n=450$ composé de nombres naturels entre $0$ et $9$ générés aléatoirement\n",
        "* Calculez la valeur moyenne du tableau\n",
        "* Calculez la valeur médiane\n",
        "* Calculez la variance\n",
        "* Calculez l'écart-type"
      ]
    },
    {
      "cell_type": "code",
      "execution_count": 34,
      "metadata": {
        "id": "q4WwtEoHj5ZV"
      },
      "outputs": [
        {
          "data": {
            "text/plain": [
              "(4.493333333333333, 4.0, 8.165511111111112, 2.8575358459888323)"
            ]
          },
          "execution_count": 34,
          "metadata": {},
          "output_type": "execute_result"
        }
      ],
      "source": [
        "np.random.seed(0)\n",
        "R = np.random.randint(0, 10, 450)\n",
        "average = np.mean(R)\n",
        "median = np.median(R)\n",
        "variance = np.var(R)\n",
        "standard_deviation = np.std(R)\n",
        "\n",
        "average, median, variance, standard_deviation"
      ]
    },
    {
      "cell_type": "markdown",
      "metadata": {},
      "source": [
        "#### Moyenne \n",
        "La moyenne arithmétique des valeurs donne une idées de la valeur centrale de l'ensemble.\n",
        "Pour le tableau R, la moyenne doit être comprise autour de 4.5 si l'ensemble des nombres est uniformément distribué ce qui est le cas dans la simulation. \n",
        "#### Médiane\n",
        "La médiane est la valeur qui sépare le jeu de données en deux parties égales.\n",
        "Pour le tableau R, la médiane peut varier autour de 4 et 5 car il y a autant de chances de générer des nombres en dessous et au-dessus de cette valeur ce qui est le cas dans la simulation. \n",
        "#### Variance\n",
        "La variance mesure la dispersion des valeurs par rapport à la moyenne. Une variance élevée signifie que les nombres sont largement dispersés, alors qu'un variance faible indique qu'ils sont proche de la moyenne. Dans la simulation on obtient une variance qui se rapproche de 8.25 ce qui est attendu. \n",
        "#### Ecart_type \n",
        "L'écart-type est la racine carrée de la variance. Il donne une mesure de la dispersion autour de la moyenne dans les mêmes unités que les données originales. Dans la simulation on obtient une valeur proche de 2.87 ce qui correspond à la racine carrée de la variance attendue. \n",
        "\n",
        "#### justesse des résultats : \n",
        "On utilise la médiane et la moyenne pour la mesurer. \n",
        "\n",
        "#### Précision des résultats : \n",
        "On utilise la variance et l'écart-type pour comprendre la dispersion et la variabilité des données. "
      ]
    },
    {
      "cell_type": "markdown",
      "metadata": {
        "id": "Aw0gaIdZazFa"
      },
      "source": [
        "----------------------------------------------"
      ]
    },
    {
      "cell_type": "markdown",
      "metadata": {
        "id": "KqxEDbkKkP4t"
      },
      "source": [
        "## **Job 13**\n",
        "A l'aide de matplotlib (ou d'une autre librairie de votre choix), visualisez la distribution des données du tableau $R$ en générant un histogramme."
      ]
    },
    {
      "cell_type": "code",
      "execution_count": 35,
      "metadata": {
        "id": "8sWEFtOskmmg"
      },
      "outputs": [
        {
          "data": {
            "image/png": "[encoded data removed]",
            "text/plain": [
              "<Figure size 900x500 with 1 Axes>"
            ]
          },
          "metadata": {},
          "output_type": "display_data"
        }
      ],
      "source": [
        "counts, bins, patches = plt.hist(R, bins=np.arange(0, 11) - 0.5, color='green', edgecolor='black')\n",
        "plt.title(\"Distribution des données dans R\")\n",
        "plt.xlabel(\"Valeurs présentes dans R\")\n",
        "plt.ylabel(\"Fréquences pour un total de 450 valeurs dans R\")\n",
        "plt.xticks(np.arange(0, 10, 1))\n",
        "total = len(R)\n",
        "for count, x in zip(counts, bins[:-1]):\n",
        "    percentage = (count / total) * 100\n",
        "    plt.text(x + 0.25, count + 2, f'{percentage:.1f}%', ha='center', color='darkred')\n",
        "plt.gcf().set_size_inches(9, 5)    \n",
        "plt.show()\n"
      ]
    },
    {
      "cell_type": "markdown",
      "metadata": {
        "id": "BoIJ71z2a0aY"
      },
      "source": [
        "---------------------------------------------------------"
      ]
    },
    {
      "cell_type": "markdown",
      "metadata": {
        "id": "QXOHm1PqknPj"
      },
      "source": [
        "## **Job 14**\n",
        "A l'aide de matplotlib (ou d'une autre librairie de votre choix), visualisez la distribution et dispersion des données du tableau $R$ à travers leurs **quartiles** en utilisant l'outil statistique, le boxplot."
      ]
    },
    {
      "cell_type": "code",
      "execution_count": 36,
      "metadata": {
        "id": "olFRkPQHkxwV"
      },
      "outputs": [
        {
          "data": {
            "text/plain": [
              "Text(1.1, 9, 'Max=9')"
            ]
          },
          "execution_count": 36,
          "metadata": {},
          "output_type": "execute_result"
        },
        {
          "data": {
            "image/png": "[encoded data removed]",
            "text/plain": [
              "<Figure size 640x480 with 1 Axes>"
            ]
          },
          "metadata": {},
          "output_type": "display_data"
        }
      ],
      "source": [
        "fig, ax = plt.subplots()\n",
        "ax.boxplot(R)\n",
        "ax.set_title(\"Distribution et dispersion des données dans R de taille 450\")\n",
        "ax.set_xlabel(\"Série de données dans R\")\n",
        "ax.set_ylabel(\"Valeurs dans R\")\n",
        "plt.yticks(np.arange(0, 10, 1))\n",
        "\n",
        "quartiles = np.percentile(R, [25, 50, 75])\n",
        "min_val = np.min(R)\n",
        "max_val = np.max(R)\n",
        "\n",
        "ax.annotate(f'Q1={quartiles[0]:.1f}', xy=(1, quartiles[0]), xytext=(1.1, quartiles[0]))\n",
        "ax.annotate(f'Median={quartiles[1]:.1f}', xy=(1, quartiles[1]), xytext=(1.1, quartiles[1]))\n",
        "ax.annotate(f'Q3={quartiles[2]:.1f}', xy=(1, quartiles[2]), xytext=(1.1, quartiles[2]))\n",
        "ax.annotate(f'Min={min_val}', xy=(1, min_val), xytext=(1.1, min_val))\n",
        "ax.annotate(f'Max={max_val}', xy=(1, max_val), xytext=(1.1, max_val))"
      ]
    },
    {
      "cell_type": "markdown",
      "metadata": {},
      "source": [
        "### Lecture du Boxplot : \n",
        "\n",
        "#### La boîte : \n",
        "- Q1 (Premier Quartile) : Représente la valeur en dessous de laquelle se trouvent 25% de données. \n",
        "- Q2 (Médiane) : Valeur centrale de l'ensemble des données. 50% des données sont en dessous de cette valeur et 50% au-dessus. \n",
        "- Q3 (Troisième Quartile) : Représente la valeur en dessous de laquelle se trouvent 75% des données. \n",
        "\n",
        "#### Les Moustaches : \n",
        "- Elle s'étendent du plus petit point non considéré comme un outlier au plus grand point non considéré comme un outlier. \n",
        "- Min : Plus petite valeur non considérée comme un outlier. \n",
        "- Max : Plus grande valeur non considérée comme un outlier. \n",
        "\n",
        "#### Outliers : \n",
        "- Valeur aberrantes : Points de données en dehors des moustaches, indiquant des valeurs extrêmes ou des anomalies dans les données. \n",
        "\n",
        "#### Compréhension du graphique : \n",
        "- Dispersion : La largeur de la boîte montre l'étendue des valeurs dans la moitié centrale des données. \n",
        "- Symétrie : Si la médiane est près du centre de la boîte, les données sont à peu près symétriques. Si elle est décalée, cela indique une asymétrie (skewness).\n",
        "- Outliers : Points en dehors des moustaches nécessitant une enquête approfondie. "
      ]
    },
    {
      "cell_type": "markdown",
      "metadata": {
        "id": "tHtFR_Mha177"
      },
      "source": [
        "-----------------------------------------------------"
      ]
    },
    {
      "cell_type": "markdown",
      "metadata": {
        "id": "7FRhuAFaa3Yy"
      },
      "source": [
        "## **Job 15**\n",
        "\n",
        "Considérons des données de résultats d'une analyse chimique de vins cultivés en Italie issus de trois cultivars différents. Ces données ont été récupérées et chargées dans un `DataFrame` via la code ci-dessous.\n",
        "\n",
        "1. Affichez différentes informations de `wine_df` (nombre d'observations, nombre de caractéristiques, type de données, données manquantes, mémoire allouée en RAM).\n",
        "\n",
        "2. A l'aide d'une fonction spécifique de `Pandas`, générez les statistiques descriptives (moyenne, médiane, maximum, ...) du jeu de données. Qu'est ce que vous observez ?\n",
        "\n",
        "3. Visualisez la distribution des différentes variables du jeu de données à l'aide d'un histogramme et d'un boxplot.\n",
        "\n",
        "4. A l'aide d'une fonction spécifique de `Pandas`, calculez la corrélation linéaire de Pearson par paire des variables.\n"
      ]
    },
    {
      "cell_type": "code",
      "execution_count": 37,
      "metadata": {
        "colab": {
          "base_uri": "https://localhost:8080/",
          "height": 226
        },
        "id": "tlFNsLZ5a7fr",
        "outputId": "56aa52f5-af6f-4a9f-edee-6b04437a61e1"
      },
      "outputs": [],
      "source": [
        "wine_data = load_wine()\n",
        "\n",
        "wine_df = pd.DataFrame(data=wine_data.data, columns=wine_data.feature_names)\n"
      ]
    },
    {
      "cell_type": "markdown",
      "metadata": {},
      "source": [
        "### Affichage des informations du DataFrame"
      ]
    },
    {
      "cell_type": "code",
      "execution_count": 38,
      "metadata": {},
      "outputs": [
        {
          "name": "stdout",
          "output_type": "stream",
          "text": [
            "<class 'pandas.core.frame.DataFrame'>\n",
            "RangeIndex: 178 entries, 0 to 177\n",
            "Data columns (total 13 columns):\n",
            " #   Column                        Non-Null Count  Dtype  \n",
            "---  ------                        --------------  -----  \n",
            " 0   alcohol                       178 non-null    float64\n",
            " 1   malic_acid                    178 non-null    float64\n",
            " 2   ash                           178 non-null    float64\n",
            " 3   alcalinity_of_ash             178 non-null    float64\n",
            " 4   magnesium                     178 non-null    float64\n",
            " 5   total_phenols                 178 non-null    float64\n",
            " 6   flavanoids                    178 non-null    float64\n",
            " 7   nonflavanoid_phenols          178 non-null    float64\n",
            " 8   proanthocyanins               178 non-null    float64\n",
            " 9   color_intensity               178 non-null    float64\n",
            " 10  hue                           178 non-null    float64\n",
            " 11  od280/od315_of_diluted_wines  178 non-null    float64\n",
            " 12  proline                       178 non-null    float64\n",
            "dtypes: float64(13)\n",
            "memory usage: 18.2 KB\n"
          ]
        }
      ],
      "source": [
        "wine_df.info()"
      ]
    },
    {
      "cell_type": "code",
      "execution_count": 39,
      "metadata": {},
      "outputs": [
        {
          "data": {
            "text/html": [
              "<div>\n",
              "<style scoped>\n",
              "    .dataframe tbody tr th:only-of-type {\n",
              "        vertical-align: middle;\n",
              "    }\n",
              "\n",
              "    .dataframe tbody tr th {\n",
              "        vertical-align: top;\n",
              "    }\n",
              "\n",
              "    .dataframe thead th {\n",
              "        text-align: right;\n",
              "    }\n",
              "</style>\n",
              "<table border=\"1\" class=\"dataframe\">\n",
              "  <thead>\n",
              "    <tr style=\"text-align: right;\">\n",
              "      <th></th>\n",
              "      <th>alcohol</th>\n",
              "      <th>malic_acid</th>\n",
              "      <th>ash</th>\n",
              "      <th>alcalinity_of_ash</th>\n",
              "      <th>magnesium</th>\n",
              "      <th>total_phenols</th>\n",
              "      <th>flavanoids</th>\n",
              "      <th>nonflavanoid_phenols</th>\n",
              "      <th>proanthocyanins</th>\n",
              "      <th>color_intensity</th>\n",
              "      <th>hue</th>\n",
              "      <th>od280/od315_of_diluted_wines</th>\n",
              "      <th>proline</th>\n",
              "    </tr>\n",
              "  </thead>\n",
              "  <tbody>\n",
              "    <tr>\n",
              "      <th>0</th>\n",
              "      <td>14.23</td>\n",
              "      <td>1.71</td>\n",
              "      <td>2.43</td>\n",
              "      <td>15.6</td>\n",
              "      <td>127.0</td>\n",
              "      <td>2.80</td>\n",
              "      <td>3.06</td>\n",
              "      <td>0.28</td>\n",
              "      <td>2.29</td>\n",
              "      <td>5.64</td>\n",
              "      <td>1.04</td>\n",
              "      <td>3.92</td>\n",
              "      <td>1065.0</td>\n",
              "    </tr>\n",
              "    <tr>\n",
              "      <th>1</th>\n",
              "      <td>13.20</td>\n",
              "      <td>1.78</td>\n",
              "      <td>2.14</td>\n",
              "      <td>11.2</td>\n",
              "      <td>100.0</td>\n",
              "      <td>2.65</td>\n",
              "      <td>2.76</td>\n",
              "      <td>0.26</td>\n",
              "      <td>1.28</td>\n",
              "      <td>4.38</td>\n",
              "      <td>1.05</td>\n",
              "      <td>3.40</td>\n",
              "      <td>1050.0</td>\n",
              "    </tr>\n",
              "    <tr>\n",
              "      <th>2</th>\n",
              "      <td>13.16</td>\n",
              "      <td>2.36</td>\n",
              "      <td>2.67</td>\n",
              "      <td>18.6</td>\n",
              "      <td>101.0</td>\n",
              "      <td>2.80</td>\n",
              "      <td>3.24</td>\n",
              "      <td>0.30</td>\n",
              "      <td>2.81</td>\n",
              "      <td>5.68</td>\n",
              "      <td>1.03</td>\n",
              "      <td>3.17</td>\n",
              "      <td>1185.0</td>\n",
              "    </tr>\n",
              "    <tr>\n",
              "      <th>3</th>\n",
              "      <td>14.37</td>\n",
              "      <td>1.95</td>\n",
              "      <td>2.50</td>\n",
              "      <td>16.8</td>\n",
              "      <td>113.0</td>\n",
              "      <td>3.85</td>\n",
              "      <td>3.49</td>\n",
              "      <td>0.24</td>\n",
              "      <td>2.18</td>\n",
              "      <td>7.80</td>\n",
              "      <td>0.86</td>\n",
              "      <td>3.45</td>\n",
              "      <td>1480.0</td>\n",
              "    </tr>\n",
              "    <tr>\n",
              "      <th>4</th>\n",
              "      <td>13.24</td>\n",
              "      <td>2.59</td>\n",
              "      <td>2.87</td>\n",
              "      <td>21.0</td>\n",
              "      <td>118.0</td>\n",
              "      <td>2.80</td>\n",
              "      <td>2.69</td>\n",
              "      <td>0.39</td>\n",
              "      <td>1.82</td>\n",
              "      <td>4.32</td>\n",
              "      <td>1.04</td>\n",
              "      <td>2.93</td>\n",
              "      <td>735.0</td>\n",
              "    </tr>\n",
              "  </tbody>\n",
              "</table>\n",
              "</div>"
            ],
            "text/plain": [
              "   alcohol  malic_acid   ash  alcalinity_of_ash  magnesium  total_phenols  \\\n",
              "0    14.23        1.71  2.43               15.6      127.0           2.80   \n",
              "1    13.20        1.78  2.14               11.2      100.0           2.65   \n",
              "2    13.16        2.36  2.67               18.6      101.0           2.80   \n",
              "3    14.37        1.95  2.50               16.8      113.0           3.85   \n",
              "4    13.24        2.59  2.87               21.0      118.0           2.80   \n",
              "\n",
              "   flavanoids  nonflavanoid_phenols  proanthocyanins  color_intensity   hue  \\\n",
              "0        3.06                  0.28             2.29             5.64  1.04   \n",
              "1        2.76                  0.26             1.28             4.38  1.05   \n",
              "2        3.24                  0.30             2.81             5.68  1.03   \n",
              "3        3.49                  0.24             2.18             7.80  0.86   \n",
              "4        2.69                  0.39             1.82             4.32  1.04   \n",
              "\n",
              "   od280/od315_of_diluted_wines  proline  \n",
              "0                          3.92   1065.0  \n",
              "1                          3.40   1050.0  \n",
              "2                          3.17   1185.0  \n",
              "3                          3.45   1480.0  \n",
              "4                          2.93    735.0  "
            ]
          },
          "execution_count": 39,
          "metadata": {},
          "output_type": "execute_result"
        }
      ],
      "source": [
        "wine_df.head()"
      ]
    },
    {
      "cell_type": "code",
      "execution_count": 40,
      "metadata": {},
      "outputs": [
        {
          "data": {
            "text/html": [
              "<div>\n",
              "<style scoped>\n",
              "    .dataframe tbody tr th:only-of-type {\n",
              "        vertical-align: middle;\n",
              "    }\n",
              "\n",
              "    .dataframe tbody tr th {\n",
              "        vertical-align: top;\n",
              "    }\n",
              "\n",
              "    .dataframe thead th {\n",
              "        text-align: right;\n",
              "    }\n",
              "</style>\n",
              "<table border=\"1\" class=\"dataframe\">\n",
              "  <thead>\n",
              "    <tr style=\"text-align: right;\">\n",
              "      <th></th>\n",
              "      <th>alcohol</th>\n",
              "      <th>malic_acid</th>\n",
              "      <th>ash</th>\n",
              "      <th>alcalinity_of_ash</th>\n",
              "      <th>magnesium</th>\n",
              "      <th>total_phenols</th>\n",
              "      <th>flavanoids</th>\n",
              "      <th>nonflavanoid_phenols</th>\n",
              "      <th>proanthocyanins</th>\n",
              "      <th>color_intensity</th>\n",
              "      <th>hue</th>\n",
              "      <th>od280/od315_of_diluted_wines</th>\n",
              "      <th>proline</th>\n",
              "    </tr>\n",
              "  </thead>\n",
              "  <tbody>\n",
              "    <tr>\n",
              "      <th>173</th>\n",
              "      <td>13.71</td>\n",
              "      <td>5.65</td>\n",
              "      <td>2.45</td>\n",
              "      <td>20.5</td>\n",
              "      <td>95.0</td>\n",
              "      <td>1.68</td>\n",
              "      <td>0.61</td>\n",
              "      <td>0.52</td>\n",
              "      <td>1.06</td>\n",
              "      <td>7.7</td>\n",
              "      <td>0.64</td>\n",
              "      <td>1.74</td>\n",
              "      <td>740.0</td>\n",
              "    </tr>\n",
              "    <tr>\n",
              "      <th>174</th>\n",
              "      <td>13.40</td>\n",
              "      <td>3.91</td>\n",
              "      <td>2.48</td>\n",
              "      <td>23.0</td>\n",
              "      <td>102.0</td>\n",
              "      <td>1.80</td>\n",
              "      <td>0.75</td>\n",
              "      <td>0.43</td>\n",
              "      <td>1.41</td>\n",
              "      <td>7.3</td>\n",
              "      <td>0.70</td>\n",
              "      <td>1.56</td>\n",
              "      <td>750.0</td>\n",
              "    </tr>\n",
              "    <tr>\n",
              "      <th>175</th>\n",
              "      <td>13.27</td>\n",
              "      <td>4.28</td>\n",
              "      <td>2.26</td>\n",
              "      <td>20.0</td>\n",
              "      <td>120.0</td>\n",
              "      <td>1.59</td>\n",
              "      <td>0.69</td>\n",
              "      <td>0.43</td>\n",
              "      <td>1.35</td>\n",
              "      <td>10.2</td>\n",
              "      <td>0.59</td>\n",
              "      <td>1.56</td>\n",
              "      <td>835.0</td>\n",
              "    </tr>\n",
              "    <tr>\n",
              "      <th>176</th>\n",
              "      <td>13.17</td>\n",
              "      <td>2.59</td>\n",
              "      <td>2.37</td>\n",
              "      <td>20.0</td>\n",
              "      <td>120.0</td>\n",
              "      <td>1.65</td>\n",
              "      <td>0.68</td>\n",
              "      <td>0.53</td>\n",
              "      <td>1.46</td>\n",
              "      <td>9.3</td>\n",
              "      <td>0.60</td>\n",
              "      <td>1.62</td>\n",
              "      <td>840.0</td>\n",
              "    </tr>\n",
              "    <tr>\n",
              "      <th>177</th>\n",
              "      <td>14.13</td>\n",
              "      <td>4.10</td>\n",
              "      <td>2.74</td>\n",
              "      <td>24.5</td>\n",
              "      <td>96.0</td>\n",
              "      <td>2.05</td>\n",
              "      <td>0.76</td>\n",
              "      <td>0.56</td>\n",
              "      <td>1.35</td>\n",
              "      <td>9.2</td>\n",
              "      <td>0.61</td>\n",
              "      <td>1.60</td>\n",
              "      <td>560.0</td>\n",
              "    </tr>\n",
              "  </tbody>\n",
              "</table>\n",
              "</div>"
            ],
            "text/plain": [
              "     alcohol  malic_acid   ash  alcalinity_of_ash  magnesium  total_phenols  \\\n",
              "173    13.71        5.65  2.45               20.5       95.0           1.68   \n",
              "174    13.40        3.91  2.48               23.0      102.0           1.80   \n",
              "175    13.27        4.28  2.26               20.0      120.0           1.59   \n",
              "176    13.17        2.59  2.37               20.0      120.0           1.65   \n",
              "177    14.13        4.10  2.74               24.5       96.0           2.05   \n",
              "\n",
              "     flavanoids  nonflavanoid_phenols  proanthocyanins  color_intensity   hue  \\\n",
              "173        0.61                  0.52             1.06              7.7  0.64   \n",
              "174        0.75                  0.43             1.41              7.3  0.70   \n",
              "175        0.69                  0.43             1.35             10.2  0.59   \n",
              "176        0.68                  0.53             1.46              9.3  0.60   \n",
              "177        0.76                  0.56             1.35              9.2  0.61   \n",
              "\n",
              "     od280/od315_of_diluted_wines  proline  \n",
              "173                          1.74    740.0  \n",
              "174                          1.56    750.0  \n",
              "175                          1.56    835.0  \n",
              "176                          1.62    840.0  \n",
              "177                          1.60    560.0  "
            ]
          },
          "execution_count": 40,
          "metadata": {},
          "output_type": "execute_result"
        }
      ],
      "source": [
        "wine_df.tail()"
      ]
    },
    {
      "cell_type": "code",
      "execution_count": 41,
      "metadata": {},
      "outputs": [
        {
          "data": {
            "text/plain": [
              "alcohol                         0\n",
              "malic_acid                      0\n",
              "ash                             0\n",
              "alcalinity_of_ash               0\n",
              "magnesium                       0\n",
              "total_phenols                   0\n",
              "flavanoids                      0\n",
              "nonflavanoid_phenols            0\n",
              "proanthocyanins                 0\n",
              "color_intensity                 0\n",
              "hue                             0\n",
              "od280/od315_of_diluted_wines    0\n",
              "proline                         0\n",
              "dtype: int64"
            ]
          },
          "execution_count": 41,
          "metadata": {},
          "output_type": "execute_result"
        }
      ],
      "source": [
        "wine_df.isnull().sum()"
      ]
    },
    {
      "cell_type": "markdown",
      "metadata": {},
      "source": [
        "\n",
        "#### Nombre d'observations :\n",
        "178 entrées de 0 à 177.\n",
        "#### Types de données : \n",
        "Toutes les colonnes sont de type float64\n",
        "\n",
        "#### Données manquantes : \n",
        "Il n'y a aucune donnée manquante, toutes les colonnes ont 178 valeurs non nulles.\n",
        "#### Mémoire allouée (RAM) : \n",
        "18.2KB"
      ]
    },
    {
      "cell_type": "markdown",
      "metadata": {},
      "source": [
        "### Analyse descriptive \n"
      ]
    },
    {
      "cell_type": "code",
      "execution_count": 42,
      "metadata": {},
      "outputs": [
        {
          "data": {
            "text/html": [
              "<div>\n",
              "<style scoped>\n",
              "    .dataframe tbody tr th:only-of-type {\n",
              "        vertical-align: middle;\n",
              "    }\n",
              "\n",
              "    .dataframe tbody tr th {\n",
              "        vertical-align: top;\n",
              "    }\n",
              "\n",
              "    .dataframe thead th {\n",
              "        text-align: right;\n",
              "    }\n",
              "</style>\n",
              "<table border=\"1\" class=\"dataframe\">\n",
              "  <thead>\n",
              "    <tr style=\"text-align: right;\">\n",
              "      <th></th>\n",
              "      <th>alcohol</th>\n",
              "      <th>malic_acid</th>\n",
              "      <th>ash</th>\n",
              "      <th>alcalinity_of_ash</th>\n",
              "      <th>magnesium</th>\n",
              "      <th>total_phenols</th>\n",
              "      <th>flavanoids</th>\n",
              "      <th>nonflavanoid_phenols</th>\n",
              "      <th>proanthocyanins</th>\n",
              "      <th>color_intensity</th>\n",
              "      <th>hue</th>\n",
              "      <th>od280/od315_of_diluted_wines</th>\n",
              "      <th>proline</th>\n",
              "    </tr>\n",
              "  </thead>\n",
              "  <tbody>\n",
              "    <tr>\n",
              "      <th>count</th>\n",
              "      <td>178.000000</td>\n",
              "      <td>178.000000</td>\n",
              "      <td>178.000000</td>\n",
              "      <td>178.000000</td>\n",
              "      <td>178.000000</td>\n",
              "      <td>178.000000</td>\n",
              "      <td>178.000000</td>\n",
              "      <td>178.000000</td>\n",
              "      <td>178.000000</td>\n",
              "      <td>178.000000</td>\n",
              "      <td>178.000000</td>\n",
              "      <td>178.000000</td>\n",
              "      <td>178.000000</td>\n",
              "    </tr>\n",
              "    <tr>\n",
              "      <th>mean</th>\n",
              "      <td>13.000618</td>\n",
              "      <td>2.336348</td>\n",
              "      <td>2.366517</td>\n",
              "      <td>19.494944</td>\n",
              "      <td>99.741573</td>\n",
              "      <td>2.295112</td>\n",
              "      <td>2.029270</td>\n",
              "      <td>0.361854</td>\n",
              "      <td>1.590899</td>\n",
              "      <td>5.058090</td>\n",
              "      <td>0.957449</td>\n",
              "      <td>2.611685</td>\n",
              "      <td>746.893258</td>\n",
              "    </tr>\n",
              "    <tr>\n",
              "      <th>std</th>\n",
              "      <td>0.811827</td>\n",
              "      <td>1.117146</td>\n",
              "      <td>0.274344</td>\n",
              "      <td>3.339564</td>\n",
              "      <td>14.282484</td>\n",
              "      <td>0.625851</td>\n",
              "      <td>0.998859</td>\n",
              "      <td>0.124453</td>\n",
              "      <td>0.572359</td>\n",
              "      <td>2.318286</td>\n",
              "      <td>0.228572</td>\n",
              "      <td>0.709990</td>\n",
              "      <td>314.907474</td>\n",
              "    </tr>\n",
              "    <tr>\n",
              "      <th>min</th>\n",
              "      <td>11.030000</td>\n",
              "      <td>0.740000</td>\n",
              "      <td>1.360000</td>\n",
              "      <td>10.600000</td>\n",
              "      <td>70.000000</td>\n",
              "      <td>0.980000</td>\n",
              "      <td>0.340000</td>\n",
              "      <td>0.130000</td>\n",
              "      <td>0.410000</td>\n",
              "      <td>1.280000</td>\n",
              "      <td>0.480000</td>\n",
              "      <td>1.270000</td>\n",
              "      <td>278.000000</td>\n",
              "    </tr>\n",
              "    <tr>\n",
              "      <th>25%</th>\n",
              "      <td>12.362500</td>\n",
              "      <td>1.602500</td>\n",
              "      <td>2.210000</td>\n",
              "      <td>17.200000</td>\n",
              "      <td>88.000000</td>\n",
              "      <td>1.742500</td>\n",
              "      <td>1.205000</td>\n",
              "      <td>0.270000</td>\n",
              "      <td>1.250000</td>\n",
              "      <td>3.220000</td>\n",
              "      <td>0.782500</td>\n",
              "      <td>1.937500</td>\n",
              "      <td>500.500000</td>\n",
              "    </tr>\n",
              "    <tr>\n",
              "      <th>50%</th>\n",
              "      <td>13.050000</td>\n",
              "      <td>1.865000</td>\n",
              "      <td>2.360000</td>\n",
              "      <td>19.500000</td>\n",
              "      <td>98.000000</td>\n",
              "      <td>2.355000</td>\n",
              "      <td>2.135000</td>\n",
              "      <td>0.340000</td>\n",
              "      <td>1.555000</td>\n",
              "      <td>4.690000</td>\n",
              "      <td>0.965000</td>\n",
              "      <td>2.780000</td>\n",
              "      <td>673.500000</td>\n",
              "    </tr>\n",
              "    <tr>\n",
              "      <th>75%</th>\n",
              "      <td>13.677500</td>\n",
              "      <td>3.082500</td>\n",
              "      <td>2.557500</td>\n",
              "      <td>21.500000</td>\n",
              "      <td>107.000000</td>\n",
              "      <td>2.800000</td>\n",
              "      <td>2.875000</td>\n",
              "      <td>0.437500</td>\n",
              "      <td>1.950000</td>\n",
              "      <td>6.200000</td>\n",
              "      <td>1.120000</td>\n",
              "      <td>3.170000</td>\n",
              "      <td>985.000000</td>\n",
              "    </tr>\n",
              "    <tr>\n",
              "      <th>max</th>\n",
              "      <td>14.830000</td>\n",
              "      <td>5.800000</td>\n",
              "      <td>3.230000</td>\n",
              "      <td>30.000000</td>\n",
              "      <td>162.000000</td>\n",
              "      <td>3.880000</td>\n",
              "      <td>5.080000</td>\n",
              "      <td>0.660000</td>\n",
              "      <td>3.580000</td>\n",
              "      <td>13.000000</td>\n",
              "      <td>1.710000</td>\n",
              "      <td>4.000000</td>\n",
              "      <td>1680.000000</td>\n",
              "    </tr>\n",
              "  </tbody>\n",
              "</table>\n",
              "</div>"
            ],
            "text/plain": [
              "          alcohol  malic_acid         ash  alcalinity_of_ash   magnesium  \\\n",
              "count  178.000000  178.000000  178.000000         178.000000  178.000000   \n",
              "mean    13.000618    2.336348    2.366517          19.494944   99.741573   \n",
              "std      0.811827    1.117146    0.274344           3.339564   14.282484   \n",
              "min     11.030000    0.740000    1.360000          10.600000   70.000000   \n",
              "25%     12.362500    1.602500    2.210000          17.200000   88.000000   \n",
              "50%     13.050000    1.865000    2.360000          19.500000   98.000000   \n",
              "75%     13.677500    3.082500    2.557500          21.500000  107.000000   \n",
              "max     14.830000    5.800000    3.230000          30.000000  162.000000   \n",
              "\n",
              "       total_phenols  flavanoids  nonflavanoid_phenols  proanthocyanins  \\\n",
              "count     178.000000  178.000000            178.000000       178.000000   \n",
              "mean        2.295112    2.029270              0.361854         1.590899   \n",
              "std         0.625851    0.998859              0.124453         0.572359   \n",
              "min         0.980000    0.340000              0.130000         0.410000   \n",
              "25%         1.742500    1.205000              0.270000         1.250000   \n",
              "50%         2.355000    2.135000              0.340000         1.555000   \n",
              "75%         2.800000    2.875000              0.437500         1.950000   \n",
              "max         3.880000    5.080000              0.660000         3.580000   \n",
              "\n",
              "       color_intensity         hue  od280/od315_of_diluted_wines      proline  \n",
              "count       178.000000  178.000000                    178.000000   178.000000  \n",
              "mean          5.058090    0.957449                      2.611685   746.893258  \n",
              "std           2.318286    0.228572                      0.709990   314.907474  \n",
              "min           1.280000    0.480000                      1.270000   278.000000  \n",
              "25%           3.220000    0.782500                      1.937500   500.500000  \n",
              "50%           4.690000    0.965000                      2.780000   673.500000  \n",
              "75%           6.200000    1.120000                      3.170000   985.000000  \n",
              "max          13.000000    1.710000                      4.000000  1680.000000  "
            ]
          },
          "execution_count": 42,
          "metadata": {},
          "output_type": "execute_result"
        }
      ],
      "source": [
        "wine_df.describe()"
      ]
    },
    {
      "cell_type": "markdown",
      "metadata": {},
      "source": [
        "#### Teneur en aclool :\n",
        "- Moyenne : 13.00%\n",
        "- Écart-type : 0.81% (faible variabilité)\n",
        "- Min et Max : Entre 11.03% et 14.83%\n",
        "- IQR (Q3-Q1) : 13.68% - 12.36% = 1.32% (faible dispersion)\n",
        "\n",
        "#### Acide malique : \n",
        "- Moyenne : 2.34 g/L\n",
        "- Écart-type : 1.12 g/L (variabilité modérée)\n",
        "- Min et Max : Entre 0.74g/L et 5.80g/L\n",
        "- IQR (Q3 - Q1) : 3.08g/L - 1.60g/L = 1.48g/L (dispersion modérée)\n",
        "\n",
        "#### Cendres : \n",
        "- Moyenne : 2.37g/100ml\n",
        "- Écart-type : 0.27g/100ml (faible variabilité)\n",
        "- Min et Max : Entre 1.36g/100ml et 3.23g/100ml\n",
        "- IQR (Q3 - Q1) : 2.56g/100ml - 2.21g/100ml = 0.35g/100ml (faible dispersion)\n",
        "\n",
        "#### Alcalinité des cendres : \n",
        "- Moyenne : 19.49meq/L\n",
        "- Écart-type : 3.34meq/L (variabilité modérée)\n",
        "- Min et Max : Entre 10.60meq/L et 30.00meq/L\n",
        "- IQR (Q3 - Q1) : 21.50meq/L - 17.20meq/L = 4.30meq/L (dispersion modérée)\n",
        "\n",
        "#### Magnésium : \n",
        "- Moyenne : 99.74mg/L\n",
        "- Écart-type : 14.28mg/L (variabilité modérée)\n",
        "- Min et Max : Entre 70 mg/L et 162 mg/L\n",
        "- IQR (Q3 - Q1) : 19.00mg/L (dispersion modérée)\n",
        "\n",
        "#### Total des phénols : \n",
        "- Moyenne : 2.30g/L\n",
        "- Écart-type : 0.63g/L (variabilité modérée)\n",
        "- Min et Max : Entre 0.98g/L et 3.88g/L\n",
        "- IQR (Q3 - Q1) : 1.06g/L (dispersion modérée)\n",
        "\n",
        "#### Flavanoïdes : \n",
        "- Moyenne : 2.03g/L\n",
        "- Écart-type : 1.00g/L (variabilité modérée)\n",
        "- Min et Max : Entre 0.34g/L et 5.08g/L\n",
        "- IQR (Q3 - Q1) : 1.67g/L (dispersion modérée)\n",
        "\n",
        "#### Phénols non flavanoïdes : \n",
        "- Moyenne : 0.36g/L \n",
        "- Écart-type : 0.12g/L (faible variabilité)\n",
        "- Min et Max : Entre 0.13g/L et 0.66g/L\n",
        "- IQR (Q3 - Q1) : 0.17g/L (faible dispersion)\n",
        "\n",
        "#### Proanthocyanudunes :\n",
        "- Moyenne : 1.59g/L\n",
        "- Écart-type : 0.57g/L (variabilité modérée)\n",
        "- Min et Max : Entre 0.41g/L et 3.58g/L\n",
        "- IQR (Q3 - Q1) : 0.70g/L (faible dispersion)\n",
        "\n",
        "#### Intensité de la couleur : \n",
        "- Moyenne : 5.06\n",
        "- Écart-type : 2.32 (variabilité significative)\n",
        "- Min et Max : Entre 1.28 et 13.00\n",
        "- IQR (Q3 - Q1) : 2.98 (dispersion élevée)\n",
        "\n",
        "#### Teinte : \n",
        "- Moyenne : 0.96\n",
        "- Écart-type : 0.23 (faible variabilité)\n",
        "- Min et Max : Entre 0.48 et 1.71\n",
        "- IQR (Q3 - Q1) : 0.34 (faible dispersion)\n",
        "\n",
        "#### OD280/OD315 des vins diulés : \n",
        "- Moyenne : 2.61\n",
        "- Écart-type : 0.71 (variabilité modérée)\n",
        "- Min et Max : Entre 1.27 et 4.00\n",
        "- IQR (Q3 - Q1) : 0.34 (faible dispersion)\n",
        "\n",
        "#### Proline : \n",
        "- Moyenne : 746.89mg/L\n",
        "- Écart-type : 314.91mg/L (variabilité élevée)\n",
        "- Min et Max : Entre 278mg/L et 1680mg/L\n",
        "- IQR (Q3 - Q1) : 484.50mg/L(dispersion élevée)\n",
        "\n"
      ]
    },
    {
      "cell_type": "markdown",
      "metadata": {},
      "source": [
        "### Variabilité et Dispersion : "
      ]
    },
    {
      "cell_type": "code",
      "execution_count": 43,
      "metadata": {},
      "outputs": [
        {
          "data": {
            "text/html": [
              "\n",
              "        <iframe\n",
              "            width=\"100%\"\n",
              "            height=\"650\"\n",
              "            src=\"http://127.0.0.1:8050/\"\n",
              "            frameborder=\"0\"\n",
              "            allowfullscreen\n",
              "            \n",
              "        ></iframe>\n",
              "        "
            ],
            "text/plain": [
              "<IPython.lib.display.IFrame at 0x190310d22a0>"
            ]
          },
          "metadata": {},
          "output_type": "display_data"
        }
      ],
      "source": [
        "app = dash.Dash(__name__)\n",
        "\n",
        "app.layout = html.Div([\n",
        "    dcc.Dropdown(\n",
        "        id='dropdown',\n",
        "        options=[{'label': col, 'value': col} for col in wine_df.columns],\n",
        "        value='alcohol',\n",
        "        clearable=False\n",
        "    ),\n",
        "    dcc.Graph(id='histogram'),\n",
        "    dcc.Graph(id='boxplot')\n",
        "])\n",
        "\n",
        "@app.callback(\n",
        "    [Output('histogram', 'figure'), Output('boxplot', 'figure')],\n",
        "    [Input('dropdown', 'value')]\n",
        ")\n",
        "def update_graph(selected_column):\n",
        "    hist_fig = px.histogram(wine_df, x=selected_column, title=f'Histogramme de {selected_column}')\n",
        "    box_fig = px.box(wine_df, y=selected_column, title=f'Boxplot de {selected_column}')\n",
        "    return hist_fig, box_fig\n",
        "\n",
        "if __name__ == '__main__':\n",
        "    app.run_server(debug=True)"
      ]
    },
    {
      "cell_type": "markdown",
      "metadata": {},
      "source": [
        "#### Caractéristiques avec Faible Variabilité :\n",
        "##### Alcool :\n",
        "\n",
        "Variabilité faible, avec une moyenne de 13.00% et un écart-type de 0.81%.\n",
        "\n",
        "Les valeurs sont relativement concentrées autour de la moyenne, montrant une cohérence entre les échantillons.\n",
        "\n",
        "##### Cendres :\n",
        "\n",
        "Moyenne de 2.37 g/100ml, écart-type de 0.27 g/100ml.\n",
        "\n",
        "Faible dispersion, indiquant que les valeurs de cendres sont assez stables.\n",
        "\n",
        "##### Phénols non flavonoïdes :\n",
        "\n",
        "Moyenne de 0.36 g/l et écart-type de 0.12 g/l.\n",
        "\n",
        "Indique peu de variation entre les échantillons.\n",
        "\n",
        "#### Caractéristiques avec Modérée Variabilité :\n",
        "##### Acide malique :\n",
        "\n",
        "Moyenne de 2.34 g/l, écart-type de 1.12 g/l.\n",
        "\n",
        "Variabilité modérée, reflétant une diversité de l'acidité dans les vins.\n",
        "\n",
        "##### Total des phénols :\n",
        "\n",
        "Moyenne de 2.30 g/l, écart-type de 0.63 g/l.\n",
        "\n",
        "Dispersion modérée, ce qui montre une certaine variabilité dans la concentration en phénols totaux.\n",
        "\n",
        "##### Flavonoïdes :\n",
        "\n",
        "Moyenne de 2.03 g/l et écart-type de 1.00 g/l.\n",
        "\n",
        "Modérée variabilité indiquant une certaine diversité dans le profil des flavonoïdes.\n",
        "\n",
        "#### Caractéristiques avec Élevée Variabilité :\n",
        "##### Intensité de la couleur :\n",
        "\n",
        "Moyenne de 5.06 (Unités arbitraires), écart-type de 2.32.\n",
        "\n",
        "Grande dispersion, montrant une large gamme d'intensité de couleur dans les vins.\n",
        "\n",
        "#### Proline :\n",
        "\n",
        "Moyenne de 746.89 mg/l, écart-type de 314.91 mg/l.\n",
        "\n",
        "Forte variabilité, indiquant une grande diversité dans la concentration de proline entre les échantillons.\n",
        "\n",
        "### Observations Générales\n",
        "#### Consistance vs. Variabilité : \n",
        "Les caractéristiques comme l'alcool et les cendres montrent peu de variabilité, ce qui suggère que ces propriétés sont relativement stables parmi les différents échantillons de vin. En revanche, des caractéristiques comme l'intensité de la couleur et la proline montrent une grande variabilité, ce qui indique une grande diversité entre les échantillons.\n",
        "\n",
        "#### Importance des Quartiles et de l'IQR : \n",
        "Les quartiles et l'IQR aident à comprendre la dispersion des données et à identifier les valeurs typiques. Par exemple, une IQR faible indique que la plupart des valeurs sont proches de la médiane.\n",
        "\n",
        "#### Valeurs Extrêmes et Outliers : \n",
        "Les minimas et maximas nous permettent de voir la pleine étendue des valeurs, et des outliers peuvent nécessiter une enquête plus approfondie pour comprendre les variations extrêmes."
      ]
    },
    {
      "cell_type": "markdown",
      "metadata": {
        "id": "zC2cPCxmyBpR"
      },
      "source": [
        "-------------------------------------------"
      ]
    },
    {
      "cell_type": "markdown",
      "metadata": {
        "id": "uIGpt7c1yE8Z"
      },
      "source": [
        "## Job 16\n",
        "Une loi de probabilité décrit le comportement aléatoire d'un phénomène dépendant du hasard tels que les lancers de pièces, les dés, les jeux de cartes, et d'autres événements plus complexes.\n",
        "\n",
        "Considérons la Loi Normale, l'unes des plus importantes en probabilités et en statistique. Les lois normales sont parmi les lois de probabilité les plus utilisées pour modéliser des phénomènes naturels issus de plusieurs événements aléatoires. Elle est caractérisée par sa forme en cloche symétrique.\n",
        "\n",
        "**Simulez la Loi Normale $\\mathcal{N}(0, 1)$ où la moyenne est $0$ et l'écart-type est $1$ :**\n",
        "1. Générez des échantillons à partir de la distribution normale en utilisant la fonction `np.random.normal`\n",
        "\n",
        "2. Affichez l'histogramme des données\n",
        "\n",
        "3. Tracez la courbe de densité de probabilité théorique de $\\mathcal{N}(0, 1)$ en traçant la fonction $f(x)$ ci-dessous :\n",
        "\n",
        "$$ f(x) = \\frac{1}{1 \\sqrt{2\\pi}} \\times e^{-\\frac{1}{2} \\times x^2 }$$"
      ]
    },
    {
      "cell_type": "code",
      "execution_count": 44,
      "metadata": {
        "id": "YL8L6xcCzoDQ"
      },
      "outputs": [],
      "source": [
        "np.random.seed(0)\n",
        "normal_samples = np.random.normal(0, 1, 1000)\n"
      ]
    },
    {
      "cell_type": "code",
      "execution_count": 45,
      "metadata": {},
      "outputs": [
        {
          "data": {
            "application/vnd.plotly.v1+json": {
              "config": {
                "plotlyServerURL": "https://plot.ly"
              },
              "data": [
                {
                  "alignmentgroup": "True",
                  "bingroup": "x",
                  "hovertemplate": "variable=0<br>value=%{x}<br>count=%{y}<extra></extra>",
                  "legendgroup": "0",
                  "marker": {
                    "color": "#636efa",
                    "pattern": {
                      "shape": ""
                    }
                  },
                  "name": "0",
                  "offsetgroup": "0",
                  "orientation": "v",
                  "showlegend": true,
                  "type": "histogram",
                  "x": [
                    1.764052345967664,
                    0.4001572083672233,
                    0.9787379841057392,
                    2.240893199201458,
                    1.8675579901499675,
                    -0.977277879876411,
                    0.9500884175255894,
                    -0.1513572082976979,
                    -0.10321885179355784,
                    0.41059850193837233,
                    0.144043571160878,
                    1.454273506962975,
                    0.7610377251469934,
                    0.12167501649282841,
                    0.44386323274542566,
                    0.33367432737426683,
                    1.4940790731576061,
                    -0.20515826376580087,
                    0.31306770165090136,
                    -0.8540957393017248,
                    -2.5529898158340787,
                    0.6536185954403606,
                    0.8644361988595057,
                    -0.7421650204064419,
                    2.2697546239876076,
                    -1.4543656745987648,
                    0.04575851730144607,
                    -0.1871838500258336,
                    1.5327792143584575,
                    1.469358769900285,
                    0.1549474256969163,
                    0.37816251960217356,
                    -0.8877857476301128,
                    -1.980796468223927,
                    -0.3479121493261526,
                    0.15634896910398005,
                    1.2302906807277207,
                    1.2023798487844113,
                    -0.3873268174079523,
                    -0.30230275057533557,
                    -1.0485529650670926,
                    -1.4200179371789752,
                    -1.7062701906250126,
                    1.9507753952317897,
                    -0.5096521817516535,
                    -0.4380743016111864,
                    -1.2527953600499262,
                    0.7774903558319101,
                    -1.6138978475579515,
                    -0.2127402802139687,
                    -0.8954665611936756,
                    0.386902497859262,
                    -0.510805137568873,
                    -1.180632184122412,
                    -0.028182228338654868,
                    0.42833187053041766,
                    0.06651722238316789,
                    0.3024718977397814,
                    -0.6343220936809636,
                    -0.3627411659871381,
                    -0.672460447775951,
                    -0.3595531615405413,
                    -0.813146282044454,
                    -1.7262826023316769,
                    0.17742614225375283,
                    -0.4017809362082619,
                    -1.6301983469660446,
                    0.4627822555257742,
                    -0.9072983643832422,
                    0.05194539579613895,
                    0.7290905621775369,
                    0.12898291075741067,
                    1.1394006845433007,
                    -1.2348258203536526,
                    0.402341641177549,
                    -0.6848100909403132,
                    -0.8707971491818818,
                    -0.5788496647644155,
                    -0.31155253212737266,
                    0.05616534222974544,
                    -1.1651498407833565,
                    0.9008264869541871,
                    0.46566243973045984,
                    -1.5362436862772237,
                    1.4882521937955997,
                    1.8958891760305832,
                    1.1787795711596507,
                    -0.17992483581235091,
                    -1.0707526215105425,
                    1.0544517269311366,
                    -0.40317694697317963,
                    1.2224450703824274,
                    0.2082749780768603,
                    0.9766390364837128,
                    0.3563663971744019,
                    0.7065731681919482,
                    0.010500020720820478,
                    1.7858704939058352,
                    0.12691209270361992,
                    0.40198936344470165,
                    1.8831506970562544,
                    -1.3477590611424464,
                    -1.2704849984857336,
                    0.9693967081580112,
                    -1.17312340511416,
                    1.9436211856492926,
                    -0.41361898075974735,
                    -0.7474548114407578,
                    1.9229420264803847,
                    1.4805147914344243,
                    1.8675589604265699,
                    0.9060446582753853,
                    -0.8612256850547025,
                    1.9100649530990337,
                    -0.2680033709513804,
                    0.8024563957963952,
                    0.947251967773748,
                    -0.1550100930908342,
                    0.6140793703460803,
                    0.9222066715665268,
                    0.37642553115562943,
                    -1.0994007905841945,
                    0.298238174206056,
                    1.3263858966870303,
                    -0.6945678597313655,
                    -0.14963454032767076,
                    -0.43515355172163744,
                    1.8492637284793418,
                    0.6722947570124355,
                    0.40746183624111043,
                    -0.7699160744453164,
                    0.5392491912918173,
                    -0.6743326606573761,
                    0.03183055827435118,
                    -0.635846078378881,
                    0.6764332949464997,
                    0.5765908166149409,
                    -0.20829875557799488,
                    0.3960067126616453,
                    -1.0930615087305058,
                    -1.4912575927056055,
                    0.4393917012645369,
                    0.16667349537252904,
                    0.6350314368921064,
                    2.383144774863942,
                    0.9444794869904138,
                    -0.9128222254441586,
                    1.117016288095853,
                    -1.3159074105115212,
                    -0.461584604814709,
                    -0.06824160532463124,
                    1.7133427216493666,
                    -0.7447548220484399,
                    -0.8264385386590144,
                    -0.0984525244254323,
                    -0.6634782863621074,
                    1.126635922106507,
                    -1.0799315083634233,
                    -1.1474686524111024,
                    -0.43782004474443403,
                    -0.4980324506923049,
                    1.9295320538169858,
                    0.9494208069257608,
                    0.0875512413851909,
                    -1.225435518830168,
                    0.8443629764015471,
                    -1.0002153473895647,
                    -1.5447710967776116,
                    1.1880297923523018,
                    0.3169426119248496,
                    0.920858823780819,
                    0.3187276529430212,
                    0.8568306119026912,
                    -0.6510255933001469,
                    -1.0342428417844647,
                    0.681594518281627,
                    -0.8034096641738411,
                    -0.6895497777502005,
                    -0.45553250351734315,
                    0.01747915902505673,
                    -0.35399391125348395,
                    -1.3749512934180188,
                    -0.6436184028328905,
                    -2.2234031522244266,
                    0.6252314510271875,
                    -1.6020576556067476,
                    -1.1043833394284506,
                    0.052165079260974405,
                    -0.7395629963913133,
                    1.5430145954067358,
                    -1.2928569097234486,
                    0.26705086934918293,
                    -0.0392828182274956,
                    -1.1680934977411974,
                    0.5232766605317537,
                    -0.1715463312222481,
                    0.7717905512136674,
                    0.8235041539637314,
                    2.16323594928069,
                    1.336527949436392,
                    -0.3691818379424436,
                    -0.2393791775759264,
                    1.0996595958871132,
                    0.6552637307225978,
                    0.640131526097592,
                    -1.6169560443108344,
                    -0.024326124398935636,
                    -0.7380309092056887,
                    0.27992459904323824,
                    -0.09815038964295794,
                    0.9101789080925919,
                    0.31721821519130206,
                    0.7863279621089762,
                    -0.46641909673594306,
                    -0.9444462559182504,
                    -0.41004969320254847,
                    -0.017020413861440594,
                    0.3791517355550818,
                    2.259308950690852,
                    -0.04225715166064269,
                    -0.955945000492777,
                    -0.34598177569938643,
                    -0.4635959746460942,
                    0.4814814737734622,
                    -1.5407970144446248,
                    0.06326199420033171,
                    0.1565065379653756,
                    0.23218103620027578,
                    -0.5973160689653627,
                    -0.237921729736007,
                    -1.4240609089825316,
                    -0.49331988336219407,
                    -0.5428614760167177,
                    0.4160500462614255,
                    -1.1561824318219127,
                    0.7811981017099934,
                    1.4944845444913688,
                    -2.0699850250135325,
                    0.42625873077810095,
                    0.6769080350302455,
                    -0.637437025552229,
                    -0.39727181432879766,
                    -0.13288057758695562,
                    -0.2977908794017283,
                    -0.3090129690471222,
                    -1.6760038063299767,
                    1.15233156478312,
                    1.079618592036821,
                    -0.8133642592042029,
                    -1.466424327802514,
                    0.5210648764527586,
                    -0.5757879698130661,
                    0.14195316332077967,
                    -0.3193284171450952,
                    0.6915387510701866,
                    0.6947491436560059,
                    -0.7255973784635843,
                    -1.3833639553950554,
                    -1.582938397335082,
                    0.6103793791072052,
                    -1.188859257784029,
                    -0.5068163542986875,
                    -0.5963140384505081,
                    -0.05256729626954629,
                    -1.936279805846507,
                    0.18877859679382855,
                    0.5238910238342056,
                    0.08842208704466141,
                    -0.3108861716984717,
                    0.09740016626878341,
                    0.3990463456401302,
                    -2.77259275642665,
                    1.9559123082506942,
                    0.39009332268792646,
                    -0.65240858238702,
                    -0.3909533751876011,
                    0.49374177734918845,
                    -0.11610393903436653,
                    -2.0306844677814944,
                    2.0644928613593194,
                    -0.11054065723247261,
                    1.0201727117157997,
                    -0.6920498477843912,
                    1.5363770542457977,
                    0.28634368889227957,
                    0.6088438344754508,
                    -1.0452533661469547,
                    1.2111452896827009,
                    0.6898181645347884,
                    1.3018462295649984,
                    -0.6280875596415789,
                    -0.4810271184607877,
                    2.303916697683942,
                    -1.0600158227215473,
                    -0.13594970067832082,
                    1.1368913626026953,
                    0.0977249677148556,
                    0.5829536797532936,
                    -0.3994490292628752,
                    0.37005588784751875,
                    -1.3065268517353166,
                    1.658130679618188,
                    -0.11816404512856976,
                    -0.6801782039968504,
                    0.6663830820319143,
                    -0.4607197873885533,
                    -1.3342584714027534,
                    -1.3467175057975553,
                    0.6937731526901325,
                    -0.1595734381462669,
                    -0.13370155966843916,
                    1.0777438059762627,
                    -1.1268258087567435,
                    -0.7306777528648248,
                    -0.38487980918127546,
                    0.094351589317074,
                    -0.042171451290578935,
                    -0.2868871923899076,
                    -0.0616264020956474,
                    -0.10730527629117469,
                    -0.7196043885517929,
                    -0.8129929885540773,
                    0.2745163577239395,
                    -0.8909150829955279,
                    -1.1573552591908536,
                    -0.3122922511256933,
                    -0.1576670161638159,
                    2.2567234972982093,
                    -0.7047002758562337,
                    0.9432607249694948,
                    0.7471883342046318,
                    -1.188944955203736,
                    0.7732529774025997,
                    -1.1838806401933177,
                    -2.659172237996741,
                    0.6063195243593807,
                    -1.7558905834377194,
                    0.45093446180591484,
                    -0.6840108977372166,
                    1.6595507961898721,
                    1.068509399316009,
                    -0.45338580385138766,
                    -0.6878376110286823,
                    -1.2140774030941206,
                    -0.4409226322925914,
                    -0.2803554951845091,
                    -0.3646935443916854,
                    0.15670385527236397,
                    0.5785214977288784,
                    0.349654456993174,
                    -0.764143923906443,
                    -1.4377914738015785,
                    1.3645318481024713,
                    -0.6894491845499376,
                    -0.6522935999350191,
                    -0.5211893123011109,
                    -1.8430695501566485,
                    -0.4779740040404867,
                    -0.47965581400794766,
                    0.6203582983435125,
                    0.698457149107336,
                    0.00377088908626934,
                    0.9318483741143037,
                    0.339964983801262,
                    -0.01568211160255477,
                    0.16092816829822298,
                    -0.19065349358139935,
                    -0.3948495140334503,
                    -0.26773353689396645,
                    -1.1280113314700069,
                    0.280441705316296,
                    -0.9931236109295807,
                    0.8416312640736364,
                    -0.24945858016094885,
                    0.04949498165009074,
                    0.49383677628095635,
                    0.6433144650629279,
                    -1.5706234086334527,
                    -0.20690367616397173,
                    0.8801789120807822,
                    -1.6981058194322545,
                    0.3872804753950634,
                    -2.2555642294021894,
                    -1.0225068436356035,
                    0.0386305518401881,
                    -1.6567151023219537,
                    -0.9855107376841507,
                    -1.4718350074635869,
                    1.6481349322075596,
                    0.16422775548733395,
                    0.5672902778526694,
                    -0.2226751005151545,
                    -0.35343174875719907,
                    -1.6164741886510325,
                    -0.2918373627478628,
                    -0.7614922118116233,
                    0.8579239242923363,
                    1.1411018666575734,
                    1.4665787155741776,
                    0.852551939461232,
                    -0.5986539369229861,
                    -1.1158969859603944,
                    0.7666631816450861,
                    0.3562928174722889,
                    -1.7685384506770307,
                    0.35548179274376907,
                    0.8145198224878664,
                    0.05892558918162996,
                    -0.18505367100934153,
                    -0.8076484876163557,
                    -1.4465346995633879,
                    0.8002979493400275,
                    -0.3091144447717088,
                    -0.23346666154369272,
                    1.7327211869191332,
                    0.6845011068591904,
                    0.3708250012811021,
                    0.14206180518723566,
                    1.5199948607657727,
                    1.7195893074161945,
                    0.9295051114795281,
                    0.5822245913979243,
                    -2.0946030712061448,
                    0.12372191423350658,
                    -0.130106954193704,
                    0.09395322938556872,
                    0.9430460873225178,
                    -2.7396771671895563,
                    -0.5693120534701851,
                    0.26990435494076137,
                    -0.4668455460527625,
                    -1.4169061131262595,
                    0.8689634868967954,
                    0.27687190584612803,
                    -0.9711045704444846,
                    0.3148172045158238,
                    0.8215857120497958,
                    0.005292646299360854,
                    0.8005648034309968,
                    0.07826017516166135,
                    -0.39522898265435435,
                    -1.159420516399913,
                    -0.08593076697161273,
                    0.19429293804577166,
                    0.8758327615873309,
                    -0.11510746848722672,
                    0.4574156062209908,
                    -0.9646120137337284,
                    -0.7826291558275251,
                    -0.11038929902688775,
                    -1.0546284639850139,
                    0.8202478373246812,
                    0.4631303293186071,
                    0.2790957643924534,
                    0.33890412521594454,
                    2.0210435614847975,
                    -0.46886418796679563,
                    -2.201441285500558,
                    0.1993001968964652,
                    -0.050603540961665895,
                    -0.5175190425104033,
                    -0.9788298593587699,
                    -0.43918952180214793,
                    0.18133842921782128,
                    -0.5028167006425383,
                    2.4124536795437486,
                    -0.960504381633148,
                    -0.7931173627076716,
                    -2.2886200400145285,
                    0.251484415021537,
                    -2.01640662779976,
                    -0.5394546333745014,
                    -0.27567053456055696,
                    -0.7097279658468882,
                    1.738872677454511,
                    0.9943943913154989,
                    1.3191368763015756,
                    -0.8824188185499185,
                    1.1285940645145685,
                    0.4960009463439622,
                    0.7714059486768455,
                    1.0294388287827672,
                    -0.9087632459590531,
                    -0.4243176209779015,
                    0.8625960113284511,
                    -2.655619092974933,
                    1.5133280825732052,
                    0.553132064207584,
                    -0.045703960660234855,
                    0.2205076557571733,
                    -1.0299352833089765,
                    -0.34994336458910474,
                    1.1002843382203737,
                    1.2980219723262212,
                    2.6962240525635797,
                    -0.07392466628041514,
                    -0.6585529668050037,
                    -0.5142339659399888,
                    -1.0180418752873648,
                    -0.07785475594085076,
                    0.38273243001226814,
                    -0.03424228053195387,
                    1.0963468456657985,
                    -0.23421580134453654,
                    -0.3474506524985633,
                    -0.5812684768603252,
                    -1.6326345262344952,
                    -1.567767724308454,
                    -1.1791579306376878,
                    1.3014280716647608,
                    0.8952602728899299,
                    1.3749640663929898,
                    -1.3322116545945017,
                    -1.9686246897860202,
                    -0.6600563201340829,
                    0.175818953296028,
                    0.4986902749098275,
                    1.0479721559680528,
                    0.2842796708072146,
                    1.7426687806556311,
                    -0.22260568094832048,
                    -0.9130792180417964,
                    -1.6812182154944335,
                    -0.8889713580954499,
                    0.242117960985123,
                    -0.8887202573536308,
                    0.9367424635352571,
                    1.412327706037443,
                    -2.369586905226603,
                    0.8640523004976479,
                    -2.2396040586617367,
                    0.4014990550902875,
                    1.2248705641936597,
                    0.06485610634357618,
                    -1.2796891732042395,
                    -0.5854312042777726,
                    -0.2616454457109007,
                    -0.18224478378994294,
                    -0.20289684076666706,
                    -0.1098827793093138,
                    0.2134800489101689,
                    -1.2085736537332212,
                    -0.2420198298702195,
                    1.5182611703557054,
                    -0.38464542314251776,
                    -0.4438360931551978,
                    1.0781973037142378,
                    -2.5591846663440965,
                    1.1813786012882859,
                    -0.6319037580051673,
                    0.16392857245258663,
                    0.09632135592119682,
                    0.9424681192203938,
                    -0.2675947462353477,
                    -0.6780257815644504,
                    1.2978457906510987,
                    -2.36417381714118,
                    0.02033418170524325,
                    -1.3479254226291204,
                    -0.761573388256559,
                    2.011256681463137,
                    -0.044595426455857026,
                    0.19506969715138117,
                    -1.7815628557055914,
                    -0.7290446587946957,
                    0.19655740072878491,
                    0.3547576931132181,
                    0.6168865543932788,
                    0.008627898917576322,
                    0.5270042084546597,
                    0.453781912635684,
                    -1.8297404110045314,
                    0.03700572191014953,
                    0.7679024077327037,
                    0.5898798207345195,
                    -0.3638588099707899,
                    -0.8056265075393678,
                    -1.1183119243216322,
                    -0.13105401154141233,
                    1.133079879559722,
                    -1.951804101481602,
                    -0.659891729729498,
                    -1.139802455426774,
                    0.7849575212405001,
                    -0.5543096265713009,
                    -0.4706376581547914,
                    -0.216949569936649,
                    0.4453932508947973,
                    -0.39238899814963674,
                    -3.0461430547999266,
                    0.5433118913875197,
                    0.43904295767204254,
                    -0.21954102833121325,
                    -1.0840366206719345,
                    0.3517801106813583,
                    0.37923553353558676,
                    -0.4700328827008748,
                    -0.21673147057553863,
                    -0.9301565025243212,
                    -0.17858909208732915,
                    -1.550429345083481,
                    0.4173188210318355,
                    -0.9443684908242939,
                    0.23810314783231212,
                    -1.4059629162678993,
                    -0.5900576458695397,
                    -0.11048940506592783,
                    -1.6606998118692633,
                    0.11514787314009216,
                    -0.37914756287992274,
                    -1.7423561978092306,
                    -1.3032427541123157,
                    0.6051200840821667,
                    0.895555985551324,
                    -0.13190863977996706,
                    0.4047618120404975,
                    0.2238435633129107,
                    0.32962298212773805,
                    1.285984007080293,
                    -1.506998398214272,
                    0.6764607323616232,
                    -0.3820089555778202,
                    -0.22425893425164034,
                    -0.30224973045507003,
                    -0.37514711666128386,
                    -1.226196191783019,
                    0.18333919925760125,
                    1.6709430327888573,
                    -0.056133020448757114,
                    -0.001385042735095726,
                    -0.6872990371566635,
                    -0.11747454641811148,
                    0.46616642603403075,
                    -0.3702424407043429,
                    -0.45380404105200106,
                    0.4032645401632468,
                    -0.9180047698190454,
                    0.2524966270768724,
                    0.8203217972614217,
                    1.3599485416794843,
                    -0.09038200727694681,
                    1.3675972398067135,
                    1.034409886481518,
                    -0.9962126403710662,
                    -1.217938511593151,
                    -0.30496363785442043,
                    1.0289354925948542,
                    -0.0722870075600049,
                    -0.6006575576577885,
                    1.5522431800485608,
                    0.2869044880033464,
                    -2.3205942757907416,
                    0.31716062629268876,
                    0.5200406145708678,
                    0.2256086544711038,
                    0.44971210023199254,
                    -0.06727560892298173,
                    -1.3183958696447342,
                    -0.37070400322045344,
                    -0.9456157955562914,
                    -0.9327409107943778,
                    -1.2630683491022754,
                    0.4524890926396464,
                    0.09789614541262709,
                    -0.44816536268070806,
                    -0.6493379277303881,
                    -0.02342310502145217,
                    1.0791947281124892,
                    -2.004215715498915,
                    0.37687652085089274,
                    -0.5457119740177824,
                    -1.8845858449794477,
                    -1.9457030831639588,
                    -0.9127834941352918,
                    0.21950955579304526,
                    0.3930629339800916,
                    -0.9389815726777853,
                    1.0170209914132446,
                    1.4229834965161061,
                    0.3960865849565602,
                    -0.5914026678081108,
                    1.1244191845103682,
                    0.7553956956633383,
                    0.867407411354918,
                    -0.6564636749715315,
                    -2.8345545052747023,
                    2.1167910214836754,
                    -1.6108784034499337,
                    -0.03576807186022113,
                    2.3807453512197503,
                    0.330576756274374,
                    0.9492464735582357,
                    -1.5023965693817127,
                    -1.7776669547337063,
                    -0.5327027919795545,
                    1.0907497344345,
                    -0.34624944764730997,
                    -0.7946363210714987,
                    0.19796728994496746,
                    1.0819352184772653,
                    -1.4449401990733717,
                    -1.2105429941233516,
                    -0.7886692545093662,
                    1.0946383747120914,
                    0.2348215259487319,
                    2.1321534105704436,
                    0.9364457258311158,
                    -0.03509517686967038,
                    1.265077838088766,
                    0.21149701273187801,
                    -0.7049213525074449,
                    0.6799748442451024,
                    -0.6963266538610828,
                    -0.29039710080386677,
                    1.327782695957983,
                    -0.10128148621739935,
                    -0.8031413873416283,
                    -0.46433769143549164,
                    1.021790585588673,
                    -0.5525406734167292,
                    -0.38687084685064654,
                    -0.5102927396336285,
                    0.18392549434030994,
                    -0.3854897603756083,
                    -1.601836048972537,
                    -0.8871809418450403,
                    -0.9327890415064383,
                    1.2433193844551549,
                    0.8126740421090424,
                    0.587259379399826,
                    -0.5053583172644099,
                    -0.8157915419939713,
                    -0.507517601657357,
                    -1.051880102551674,
                    2.497200391587007,
                    -2.245321648371402,
                    0.5640085350738091,
                    -1.2845522979925272,
                    -0.10434349149469264,
                    -0.9880019424937344,
                    -1.1776289624826308,
                    -1.1401963009349616,
                    1.7549861537420586,
                    -0.13298842230959199,
                    -0.7657021944780863,
                    0.555786964082873,
                    0.010349314566299353,
                    0.7200337593416528,
                    -1.82425665593783,
                    0.3036039044620014,
                    0.7726948371023817,
                    -1.6615982911145637,
                    0.44819528442331247,
                    1.6961815728281606,
                    -0.014857703354702717,
                    0.8214059370248112,
                    0.6705704503109099,
                    -0.7075056975105769,
                    0.03976673458649517,
                    -1.5669947108616025,
                    -0.4513030371025261,
                    0.2656879749662359,
                    0.7231004937377982,
                    0.024612125247911617,
                    0.7199837301431654,
                    -1.1029062129553697,
                    -0.1016972745548716,
                    0.019279384513077216,
                    1.8495912466796365,
                    -0.21416665620008424,
                    -0.4990166379941829,
                    0.02135122384354861,
                    -0.9191134448699437,
                    0.19275384906521617,
                    -0.36505521654625767,
                    -1.7913275480411837,
                    -0.05858655113386085,
                    -0.31754309393019925,
                    -1.6324233020679833,
                    -0.06713415461452177,
                    1.4893559620744803,
                    0.5213037482757137,
                    0.6119271927311578,
                    -1.3414967255830426,
                    0.4768983689222224,
                    0.14844958138007808,
                    0.5290452383344316,
                    0.42262862170882565,
                    -1.3597807255038137,
                    -0.04140081155796743,
                    -0.757870860425166,
                    -0.05008409428482209,
                    -0.8974009269018305,
                    1.3124703671409963,
                    -0.8589723884443423,
                    -0.898942156465536,
                    0.07458640654355353,
                    -1.0770990694039948,
                    -0.4246633024328657,
                    -0.8299645975379619,
                    1.4111720638896117,
                    0.7858038268311726,
                    -0.057469518465394644,
                    -0.39121705217401626,
                    0.9409176145751134,
                    0.40520408032288807,
                    0.4980524046828567,
                    -0.026192237344250482,
                    -1.6882300277714322,
                    -0.11246598255955272,
                    -0.5324899192090677,
                    0.6450552734598769,
                    1.011842432994189,
                    -0.6579510447611686,
                    0.46838523427705164,
                    1.7358789976857132,
                    -0.667712720570559,
                    1.6819217400731377,
                    -0.852585847170647,
                    0.022959755607951444,
                    -0.011145611841841251,
                    0.011498899870062375,
                    -0.8376780419079453,
                    -0.5911831037644297,
                    -0.6677202863593994,
                    0.3269625954044574,
                    0.33003511451031164,
                    2.225944331738259,
                    1.3709890062911214,
                    -0.5098432421384791,
                    0.32486961579618606,
                    0.9971179807917595,
                    0.030601824338517807,
                    -0.06964157844693558,
                    0.05157494276988904,
                    0.8672766288084278,
                    -0.8483205228052325,
                    -0.32566946882017417,
                    0.47043314484648185,
                    0.3114470715541555,
                    0.23958275985639133,
                    -0.3698011663038032,
                    0.9725357891425369,
                    2.1338682472045374,
                    0.4064154936762062,
                    -0.1931767015498399,
                    0.7557402888945426,
                    -0.53913263675299,
                    -0.7496903447028966,
                    0.0328087476137118,
                    -2.5827966329699446,
                    -1.1539503636520094,
                    -0.34796185592084583,
                    -1.3533888581477134,
                    -1.0326431018921296,
                    -0.4367483374580074,
                    -1.6429652935306092,
                    -0.4060717962598319,
                    -0.5352701645328445,
                    0.025405208385016018,
                    1.1541840304940192,
                    0.1725044164928659,
                    0.021062021342063624,
                    0.09945445703071175,
                    0.22739277512112846,
                    -1.016738648609769,
                    -0.11477532477079817,
                    0.3087512418366131,
                    -1.3707599825430605,
                    0.8656529228158533,
                    1.0813760344581897,
                    -0.6313759884493888,
                    -0.24133779145310455,
                    -0.8781903428100731,
                    0.6993804835878171,
                    -1.0612222874459092,
                    -0.2224770102429203,
                    -0.8589199078076716,
                    0.050954277011289496,
                    -1.794229271489721,
                    1.3264616423656934,
                    -0.964606424206264,
                    0.05989468311627605,
                    -0.2125230447703092,
                    -0.7621145119224981,
                    -0.8877801366359354,
                    0.9363985435524596,
                    -0.5256405931019397,
                    0.2711701846373109,
                    -0.8014968853943748,
                    -0.6471814318477607,
                    0.47224715008784873,
                    0.9304084961111163,
                    -0.17531640232701995,
                    -1.4219198716404369,
                    1.9979560797500047,
                    -0.8565493082342095,
                    -1.5415873996717875,
                    2.594424587768152,
                    -0.40403229385093714,
                    -1.4617326882614081,
                    -0.6834397667886818,
                    0.36754489602226903,
                    0.1903115575939397,
                    -0.85172919725359,
                    1.8227236001279594,
                    -0.5215796779933731,
                    -1.184686590411552,
                    0.9606933984606597,
                    1.3290628465396823,
                    -0.8174930976162265,
                    -1.4013472930393105,
                    1.0304382674156047,
                    -2.0473236130579617,
                    -1.2266216593966155,
                    0.967446150050235,
                    -0.05535254802238957,
                    -0.26393734859268786,
                    0.35281660649437835,
                    -0.15277442354540868,
                    -1.2986867221630902,
                    1.2760753460061875,
                    1.3250140528868153,
                    0.2053325637779597,
                    0.045134015432010274,
                    2.339624806020058,
                    -0.2764328450158372,
                    -0.25957698183403943,
                    0.36448124924050557,
                    1.4713219561423383,
                    1.5927707544174836,
                    -0.25857263167677125,
                    0.30833124595934525,
                    -1.3780834670640771,
                    -0.31197610791621294,
                    -0.8402903954793065,
                    -1.0068317522989838,
                    1.6815767162673276,
                    -0.7922866618061449,
                    -0.5316059080114549,
                    0.3658487879168582,
                    1.2978252669735855,
                    0.4811151263888354,
                    2.759355114021582,
                    -0.07466797825114957,
                    0.25871644022974605,
                    0.27560067398405635,
                    1.4350493867891545,
                    0.5072389511096153,
                    -0.1162297003871491,
                    -0.9474885949068795,
                    0.24444345596163258,
                    1.4013448312919596,
                    -0.4103817936578706,
                    0.5289436184165822,
                    0.24614778868484416,
                    0.8635196583813146,
                    -0.8047537406378693,
                    2.3466470305265617,
                    -1.2791611070282582,
                    -0.3655510899860373,
                    0.9380925409056455,
                    0.29673317249411335,
                    0.8299861590811032,
                    -0.49610233398256237,
                    -0.07480498268034107,
                    0.012231983638817386,
                    1.5692596145359043,
                    0.690429024383049,
                    0.7966721083646714,
                    -0.6579260925367952,
                    0.9688826385630508,
                    0.22558166356880352,
                    1.3891453156779274,
                    2.014060154918468,
                    -0.30676577602700456,
                    -0.40630313044506255,
                    -0.8640449911023695,
                    -0.14357951171632055,
                    -0.3820254489503836,
                    0.35950439957101016,
                    -0.14456681693373594,
                    -0.3615992807816198,
                    1.0645851361278518,
                    -0.9378802311514517,
                    0.43310795315134365,
                    -0.4059417271884834,
                    0.7243685048699644,
                    1.3852615467222305,
                    -0.3030982534240727,
                    0.44103290727315136,
                    0.17879286573317985,
                    -0.7994223995430966,
                    0.24078750974193844,
                    0.28912050527881217,
                    0.4128708204461747,
                    -0.19839889682004574,
                    0.09419230031014657,
                    -1.1476109448431353,
                    -0.35811407547985674
                  ],
                  "xaxis": "x",
                  "yaxis": "y"
                }
              ],
              "layout": {
                "barmode": "relative",
                "legend": {
                  "title": {
                    "text": "variable"
                  },
                  "tracegroupgap": 0
                },
                "template": {
                  "data": {
                    "bar": [
                      {
                        "error_x": {
                          "color": "#2a3f5f"
                        },
                        "error_y": {
                          "color": "#2a3f5f"
                        },
                        "marker": {
                          "line": {
                            "color": "#E5ECF6",
                            "width": 0.5
                          },
                          "pattern": {
                            "fillmode": "overlay",
                            "size": 10,
                            "solidity": 0.2
                          }
                        },
                        "type": "bar"
                      }
                    ],
                    "barpolar": [
                      {
                        "marker": {
                          "line": {
                            "color": "#E5ECF6",
                            "width": 0.5
                          },
                          "pattern": {
                            "fillmode": "overlay",
                            "size": 10,
                            "solidity": 0.2
                          }
                        },
                        "type": "barpolar"
                      }
                    ],
                    "carpet": [
                      {
                        "aaxis": {
                          "endlinecolor": "#2a3f5f",
                          "gridcolor": "white",
                          "linecolor": "white",
                          "minorgridcolor": "white",
                          "startlinecolor": "#2a3f5f"
                        },
                        "baxis": {
                          "endlinecolor": "#2a3f5f",
                          "gridcolor": "white",
                          "linecolor": "white",
                          "minorgridcolor": "white",
                          "startlinecolor": "#2a3f5f"
                        },
                        "type": "carpet"
                      }
                    ],
                    "choropleth": [
                      {
                        "colorbar": {
                          "outlinewidth": 0,
                          "ticks": ""
                        },
                        "type": "choropleth"
                      }
                    ],
                    "contour": [
                      {
                        "colorbar": {
                          "outlinewidth": 0,
                          "ticks": ""
                        },
                        "colorscale": [
                          [
                            0,
                            "#0d0887"
                          ],
                          [
                            0.1111111111111111,
                            "#46039f"
                          ],
                          [
                            0.2222222222222222,
                            "#7201a8"
                          ],
                          [
                            0.3333333333333333,
                            "#9c179e"
                          ],
                          [
                            0.4444444444444444,
                            "#bd3786"
                          ],
                          [
                            0.5555555555555556,
                            "#d8576b"
                          ],
                          [
                            0.6666666666666666,
                            "#ed7953"
                          ],
                          [
                            0.7777777777777778,
                            "#fb9f3a"
                          ],
                          [
                            0.8888888888888888,
                            "#fdca26"
                          ],
                          [
                            1,
                            "#f0f921"
                          ]
                        ],
                        "type": "contour"
                      }
                    ],
                    "contourcarpet": [
                      {
                        "colorbar": {
                          "outlinewidth": 0,
                          "ticks": ""
                        },
                        "type": "contourcarpet"
                      }
                    ],
                    "heatmap": [
                      {
                        "colorbar": {
                          "outlinewidth": 0,
                          "ticks": ""
                        },
                        "colorscale": [
                          [
                            0,
                            "#0d0887"
                          ],
                          [
                            0.1111111111111111,
                            "#46039f"
                          ],
                          [
                            0.2222222222222222,
                            "#7201a8"
                          ],
                          [
                            0.3333333333333333,
                            "#9c179e"
                          ],
                          [
                            0.4444444444444444,
                            "#bd3786"
                          ],
                          [
                            0.5555555555555556,
                            "#d8576b"
                          ],
                          [
                            0.6666666666666666,
                            "#ed7953"
                          ],
                          [
                            0.7777777777777778,
                            "#fb9f3a"
                          ],
                          [
                            0.8888888888888888,
                            "#fdca26"
                          ],
                          [
                            1,
                            "#f0f921"
                          ]
                        ],
                        "type": "heatmap"
                      }
                    ],
                    "heatmapgl": [
                      {
                        "colorbar": {
                          "outlinewidth": 0,
                          "ticks": ""
                        },
                        "colorscale": [
                          [
                            0,
                            "#0d0887"
                          ],
                          [
                            0.1111111111111111,
                            "#46039f"
                          ],
                          [
                            0.2222222222222222,
                            "#7201a8"
                          ],
                          [
                            0.3333333333333333,
                            "#9c179e"
                          ],
                          [
                            0.4444444444444444,
                            "#bd3786"
                          ],
                          [
                            0.5555555555555556,
                            "#d8576b"
                          ],
                          [
                            0.6666666666666666,
                            "#ed7953"
                          ],
                          [
                            0.7777777777777778,
                            "#fb9f3a"
                          ],
                          [
                            0.8888888888888888,
                            "#fdca26"
                          ],
                          [
                            1,
                            "#f0f921"
                          ]
                        ],
                        "type": "heatmapgl"
                      }
                    ],
                    "histogram": [
                      {
                        "marker": {
                          "pattern": {
                            "fillmode": "overlay",
                            "size": 10,
                            "solidity": 0.2
                          }
                        },
                        "type": "histogram"
                      }
                    ],
                    "histogram2d": [
                      {
                        "colorbar": {
                          "outlinewidth": 0,
                          "ticks": ""
                        },
                        "colorscale": [
                          [
                            0,
                            "#0d0887"
                          ],
                          [
                            0.1111111111111111,
                            "#46039f"
                          ],
                          [
                            0.2222222222222222,
                            "#7201a8"
                          ],
                          [
                            0.3333333333333333,
                            "#9c179e"
                          ],
                          [
                            0.4444444444444444,
                            "#bd3786"
                          ],
                          [
                            0.5555555555555556,
                            "#d8576b"
                          ],
                          [
                            0.6666666666666666,
                            "#ed7953"
                          ],
                          [
                            0.7777777777777778,
                            "#fb9f3a"
                          ],
                          [
                            0.8888888888888888,
                            "#fdca26"
                          ],
                          [
                            1,
                            "#f0f921"
                          ]
                        ],
                        "type": "histogram2d"
                      }
                    ],
                    "histogram2dcontour": [
                      {
                        "colorbar": {
                          "outlinewidth": 0,
                          "ticks": ""
                        },
                        "colorscale": [
                          [
                            0,
                            "#0d0887"
                          ],
                          [
                            0.1111111111111111,
                            "#46039f"
                          ],
                          [
                            0.2222222222222222,
                            "#7201a8"
                          ],
                          [
                            0.3333333333333333,
                            "#9c179e"
                          ],
                          [
                            0.4444444444444444,
                            "#bd3786"
                          ],
                          [
                            0.5555555555555556,
                            "#d8576b"
                          ],
                          [
                            0.6666666666666666,
                            "#ed7953"
                          ],
                          [
                            0.7777777777777778,
                            "#fb9f3a"
                          ],
                          [
                            0.8888888888888888,
                            "#fdca26"
                          ],
                          [
                            1,
                            "#f0f921"
                          ]
                        ],
                        "type": "histogram2dcontour"
                      }
                    ],
                    "mesh3d": [
                      {
                        "colorbar": {
                          "outlinewidth": 0,
                          "ticks": ""
                        },
                        "type": "mesh3d"
                      }
                    ],
                    "parcoords": [
                      {
                        "line": {
                          "colorbar": {
                            "outlinewidth": 0,
                            "ticks": ""
                          }
                        },
                        "type": "parcoords"
                      }
                    ],
                    "pie": [
                      {
                        "automargin": true,
                        "type": "pie"
                      }
                    ],
                    "scatter": [
                      {
                        "fillpattern": {
                          "fillmode": "overlay",
                          "size": 10,
                          "solidity": 0.2
                        },
                        "type": "scatter"
                      }
                    ],
                    "scatter3d": [
                      {
                        "line": {
                          "colorbar": {
                            "outlinewidth": 0,
                            "ticks": ""
                          }
                        },
                        "marker": {
                          "colorbar": {
                            "outlinewidth": 0,
                            "ticks": ""
                          }
                        },
                        "type": "scatter3d"
                      }
                    ],
                    "scattercarpet": [
                      {
                        "marker": {
                          "colorbar": {
                            "outlinewidth": 0,
                            "ticks": ""
                          }
                        },
                        "type": "scattercarpet"
                      }
                    ],
                    "scattergeo": [
                      {
                        "marker": {
                          "colorbar": {
                            "outlinewidth": 0,
                            "ticks": ""
                          }
                        },
                        "type": "scattergeo"
                      }
                    ],
                    "scattergl": [
                      {
                        "marker": {
                          "colorbar": {
                            "outlinewidth": 0,
                            "ticks": ""
                          }
                        },
                        "type": "scattergl"
                      }
                    ],
                    "scattermapbox": [
                      {
                        "marker": {
                          "colorbar": {
                            "outlinewidth": 0,
                            "ticks": ""
                          }
                        },
                        "type": "scattermapbox"
                      }
                    ],
                    "scatterpolar": [
                      {
                        "marker": {
                          "colorbar": {
                            "outlinewidth": 0,
                            "ticks": ""
                          }
                        },
                        "type": "scatterpolar"
                      }
                    ],
                    "scatterpolargl": [
                      {
                        "marker": {
                          "colorbar": {
                            "outlinewidth": 0,
                            "ticks": ""
                          }
                        },
                        "type": "scatterpolargl"
                      }
                    ],
                    "scatterternary": [
                      {
                        "marker": {
                          "colorbar": {
                            "outlinewidth": 0,
                            "ticks": ""
                          }
                        },
                        "type": "scatterternary"
                      }
                    ],
                    "surface": [
                      {
                        "colorbar": {
                          "outlinewidth": 0,
                          "ticks": ""
                        },
                        "colorscale": [
                          [
                            0,
                            "#0d0887"
                          ],
                          [
                            0.1111111111111111,
                            "#46039f"
                          ],
                          [
                            0.2222222222222222,
                            "#7201a8"
                          ],
                          [
                            0.3333333333333333,
                            "#9c179e"
                          ],
                          [
                            0.4444444444444444,
                            "#bd3786"
                          ],
                          [
                            0.5555555555555556,
                            "#d8576b"
                          ],
                          [
                            0.6666666666666666,
                            "#ed7953"
                          ],
                          [
                            0.7777777777777778,
                            "#fb9f3a"
                          ],
                          [
                            0.8888888888888888,
                            "#fdca26"
                          ],
                          [
                            1,
                            "#f0f921"
                          ]
                        ],
                        "type": "surface"
                      }
                    ],
                    "table": [
                      {
                        "cells": {
                          "fill": {
                            "color": "#EBF0F8"
                          },
                          "line": {
                            "color": "white"
                          }
                        },
                        "header": {
                          "fill": {
                            "color": "#C8D4E3"
                          },
                          "line": {
                            "color": "white"
                          }
                        },
                        "type": "table"
                      }
                    ]
                  },
                  "layout": {
                    "annotationdefaults": {
                      "arrowcolor": "#2a3f5f",
                      "arrowhead": 0,
                      "arrowwidth": 1
                    },
                    "autotypenumbers": "strict",
                    "coloraxis": {
                      "colorbar": {
                        "outlinewidth": 0,
                        "ticks": ""
                      }
                    },
                    "colorscale": {
                      "diverging": [
                        [
                          0,
                          "#8e0152"
                        ],
                        [
                          0.1,
                          "#c51b7d"
                        ],
                        [
                          0.2,
                          "#de77ae"
                        ],
                        [
                          0.3,
                          "#f1b6da"
                        ],
                        [
                          0.4,
                          "#fde0ef"
                        ],
                        [
                          0.5,
                          "#f7f7f7"
                        ],
                        [
                          0.6,
                          "#e6f5d0"
                        ],
                        [
                          0.7,
                          "#b8e186"
                        ],
                        [
                          0.8,
                          "#7fbc41"
                        ],
                        [
                          0.9,
                          "#4d9221"
                        ],
                        [
                          1,
                          "#276419"
                        ]
                      ],
                      "sequential": [
                        [
                          0,
                          "#0d0887"
                        ],
                        [
                          0.1111111111111111,
                          "#46039f"
                        ],
                        [
                          0.2222222222222222,
                          "#7201a8"
                        ],
                        [
                          0.3333333333333333,
                          "#9c179e"
                        ],
                        [
                          0.4444444444444444,
                          "#bd3786"
                        ],
                        [
                          0.5555555555555556,
                          "#d8576b"
                        ],
                        [
                          0.6666666666666666,
                          "#ed7953"
                        ],
                        [
                          0.7777777777777778,
                          "#fb9f3a"
                        ],
                        [
                          0.8888888888888888,
                          "#fdca26"
                        ],
                        [
                          1,
                          "#f0f921"
                        ]
                      ],
                      "sequentialminus": [
                        [
                          0,
                          "#0d0887"
                        ],
                        [
                          0.1111111111111111,
                          "#46039f"
                        ],
                        [
                          0.2222222222222222,
                          "#7201a8"
                        ],
                        [
                          0.3333333333333333,
                          "#9c179e"
                        ],
                        [
                          0.4444444444444444,
                          "#bd3786"
                        ],
                        [
                          0.5555555555555556,
                          "#d8576b"
                        ],
                        [
                          0.6666666666666666,
                          "#ed7953"
                        ],
                        [
                          0.7777777777777778,
                          "#fb9f3a"
                        ],
                        [
                          0.8888888888888888,
                          "#fdca26"
                        ],
                        [
                          1,
                          "#f0f921"
                        ]
                      ]
                    },
                    "colorway": [
                      "#636efa",
                      "#EF553B",
                      "#00cc96",
                      "#ab63fa",
                      "#FFA15A",
                      "#19d3f3",
                      "#FF6692",
                      "#B6E880",
                      "#FF97FF",
                      "#FECB52"
                    ],
                    "font": {
                      "color": "#2a3f5f"
                    },
                    "geo": {
                      "bgcolor": "white",
                      "lakecolor": "white",
                      "landcolor": "#E5ECF6",
                      "showlakes": true,
                      "showland": true,
                      "subunitcolor": "white"
                    },
                    "hoverlabel": {
                      "align": "left"
                    },
                    "hovermode": "closest",
                    "mapbox": {
                      "style": "light"
                    },
                    "paper_bgcolor": "white",
                    "plot_bgcolor": "#E5ECF6",
                    "polar": {
                      "angularaxis": {
                        "gridcolor": "white",
                        "linecolor": "white",
                        "ticks": ""
                      },
                      "bgcolor": "#E5ECF6",
                      "radialaxis": {
                        "gridcolor": "white",
                        "linecolor": "white",
                        "ticks": ""
                      }
                    },
                    "scene": {
                      "xaxis": {
                        "backgroundcolor": "#E5ECF6",
                        "gridcolor": "white",
                        "gridwidth": 2,
                        "linecolor": "white",
                        "showbackground": true,
                        "ticks": "",
                        "zerolinecolor": "white"
                      },
                      "yaxis": {
                        "backgroundcolor": "#E5ECF6",
                        "gridcolor": "white",
                        "gridwidth": 2,
                        "linecolor": "white",
                        "showbackground": true,
                        "ticks": "",
                        "zerolinecolor": "white"
                      },
                      "zaxis": {
                        "backgroundcolor": "#E5ECF6",
                        "gridcolor": "white",
                        "gridwidth": 2,
                        "linecolor": "white",
                        "showbackground": true,
                        "ticks": "",
                        "zerolinecolor": "white"
                      }
                    },
                    "shapedefaults": {
                      "line": {
                        "color": "#2a3f5f"
                      }
                    },
                    "ternary": {
                      "aaxis": {
                        "gridcolor": "white",
                        "linecolor": "white",
                        "ticks": ""
                      },
                      "baxis": {
                        "gridcolor": "white",
                        "linecolor": "white",
                        "ticks": ""
                      },
                      "bgcolor": "#E5ECF6",
                      "caxis": {
                        "gridcolor": "white",
                        "linecolor": "white",
                        "ticks": ""
                      }
                    },
                    "title": {
                      "x": 0.05
                    },
                    "xaxis": {
                      "automargin": true,
                      "gridcolor": "white",
                      "linecolor": "white",
                      "ticks": "",
                      "title": {
                        "standoff": 15
                      },
                      "zerolinecolor": "white",
                      "zerolinewidth": 2
                    },
                    "yaxis": {
                      "automargin": true,
                      "gridcolor": "white",
                      "linecolor": "white",
                      "ticks": "",
                      "title": {
                        "standoff": 15
                      },
                      "zerolinecolor": "white",
                      "zerolinewidth": 2
                    }
                  }
                },
                "title": {
                  "text": "Histogramme des échantillons normaux"
                },
                "xaxis": {
                  "anchor": "y",
                  "domain": [
                    0,
                    1
                  ],
                  "title": {
                    "text": "value"
                  }
                },
                "yaxis": {
                  "anchor": "x",
                  "domain": [
                    0,
                    1
                  ],
                  "title": {
                    "text": "count"
                  }
                }
              }
            }
          },
          "metadata": {},
          "output_type": "display_data"
        }
      ],
      "source": [
        "fig = px.histogram(normal_samples, title='Histogramme des échantillons normaux')\n",
        "fig.show()"
      ]
    },
    {
      "cell_type": "code",
      "execution_count": 46,
      "metadata": {},
      "outputs": [
        {
          "data": {
            "application/vnd.plotly.v1+json": {
              "config": {
                "plotlyServerURL": "https://plot.ly"
              },
              "data": [
                {
                  "hovertemplate": "x=%{x}<br>y=%{y}<extra></extra>",
                  "legendgroup": "",
                  "line": {
                    "color": "#636efa",
                    "dash": "solid"
                  },
                  "marker": {
                    "symbol": "circle"
                  },
                  "mode": "lines",
                  "name": "",
                  "orientation": "v",
                  "showlegend": false,
                  "type": "scatter",
                  "x": [
                    -5,
                    -4.974937343358396,
                    -4.949874686716792,
                    -4.924812030075188,
                    -4.899749373433584,
                    -4.87468671679198,
                    -4.849624060150376,
                    -4.824561403508772,
                    -4.799498746867168,
                    -4.774436090225564,
                    -4.74937343358396,
                    -4.724310776942356,
                    -4.6992481203007515,
                    -4.674185463659148,
                    -4.649122807017544,
                    -4.62406015037594,
                    -4.598997493734336,
                    -4.5739348370927315,
                    -4.548872180451128,
                    -4.523809523809524,
                    -4.49874686716792,
                    -4.473684210526316,
                    -4.448621553884712,
                    -4.423558897243108,
                    -4.398496240601504,
                    -4.3734335839598995,
                    -4.348370927318296,
                    -4.323308270676692,
                    -4.298245614035087,
                    -4.273182957393484,
                    -4.2481203007518795,
                    -4.223057644110276,
                    -4.197994987468672,
                    -4.172932330827067,
                    -4.147869674185464,
                    -4.12280701754386,
                    -4.097744360902256,
                    -4.072681704260652,
                    -4.0476190476190474,
                    -4.022556390977444,
                    -3.9974937343358397,
                    -3.9724310776942358,
                    -3.947368421052632,
                    -3.9223057644110275,
                    -3.8972431077694236,
                    -3.8721804511278197,
                    -3.8471177944862154,
                    -3.8220551378446115,
                    -3.7969924812030076,
                    -3.7719298245614037,
                    -3.7468671679198,
                    -3.7218045112781954,
                    -3.6967418546365916,
                    -3.6716791979949877,
                    -3.6466165413533833,
                    -3.6215538847117794,
                    -3.5964912280701755,
                    -3.5714285714285716,
                    -3.5463659147869677,
                    -3.5213032581453634,
                    -3.4962406015037595,
                    -3.4711779448621556,
                    -3.4461152882205512,
                    -3.4210526315789473,
                    -3.3959899749373434,
                    -3.3709273182957395,
                    -3.3458646616541357,
                    -3.3208020050125313,
                    -3.2957393483709274,
                    -3.2706766917293235,
                    -3.245614035087719,
                    -3.2205513784461153,
                    -3.1954887218045114,
                    -3.1704260651629075,
                    -3.1453634085213036,
                    -3.1203007518796992,
                    -3.0952380952380953,
                    -3.0701754385964914,
                    -3.045112781954887,
                    -3.020050125313283,
                    -2.9949874686716793,
                    -2.9699248120300754,
                    -2.9448621553884715,
                    -2.919799498746867,
                    -2.8947368421052633,
                    -2.8696741854636594,
                    -2.844611528822055,
                    -2.819548872180451,
                    -2.7944862155388472,
                    -2.7694235588972433,
                    -2.7443609022556394,
                    -2.719298245614035,
                    -2.694235588972431,
                    -2.6691729323308273,
                    -2.644110275689223,
                    -2.619047619047619,
                    -2.593984962406015,
                    -2.5689223057644113,
                    -2.5438596491228074,
                    -2.518796992481203,
                    -2.493734335839599,
                    -2.4686716791979952,
                    -2.443609022556391,
                    -2.418546365914787,
                    -2.393483709273183,
                    -2.368421052631579,
                    -2.3433583959899753,
                    -2.318295739348371,
                    -2.293233082706767,
                    -2.268170426065163,
                    -2.243107769423559,
                    -2.218045112781955,
                    -2.192982456140351,
                    -2.167919799498747,
                    -2.1428571428571432,
                    -2.117794486215539,
                    -2.092731829573935,
                    -2.067669172932331,
                    -2.0426065162907268,
                    -2.017543859649123,
                    -1.992481203007519,
                    -1.967418546365915,
                    -1.9423558897243112,
                    -1.9172932330827068,
                    -1.892230576441103,
                    -1.867167919799499,
                    -1.8421052631578947,
                    -1.8170426065162908,
                    -1.791979949874687,
                    -1.766917293233083,
                    -1.741854636591479,
                    -1.7167919799498748,
                    -1.6917293233082709,
                    -1.666666666666667,
                    -1.6416040100250626,
                    -1.6165413533834587,
                    -1.5914786967418548,
                    -1.566416040100251,
                    -1.541353383458647,
                    -1.5162907268170427,
                    -1.4912280701754388,
                    -1.466165413533835,
                    -1.4411027568922306,
                    -1.4160401002506267,
                    -1.3909774436090228,
                    -1.3659147869674189,
                    -1.340852130325815,
                    -1.3157894736842106,
                    -1.2907268170426067,
                    -1.2656641604010028,
                    -1.2406015037593985,
                    -1.2155388471177946,
                    -1.1904761904761907,
                    -1.1654135338345868,
                    -1.140350877192983,
                    -1.1152882205513786,
                    -1.0902255639097747,
                    -1.0651629072681708,
                    -1.0401002506265664,
                    -1.0150375939849625,
                    -0.9899749373433586,
                    -0.9649122807017543,
                    -0.9398496240601508,
                    -0.9147869674185465,
                    -0.889724310776943,
                    -0.8646616541353387,
                    -0.8395989974937343,
                    -0.8145363408521309,
                    -0.7894736842105265,
                    -0.7644110275689222,
                    -0.7393483709273188,
                    -0.7142857142857144,
                    -0.6892230576441101,
                    -0.6641604010025066,
                    -0.6390977443609023,
                    -0.6140350877192988,
                    -0.5889724310776945,
                    -0.5639097744360901,
                    -0.5388471177944867,
                    -0.5137844611528823,
                    -0.4887218045112789,
                    -0.46365914786967455,
                    -0.4385964912280702,
                    -0.41353383458646675,
                    -0.3884711779448624,
                    -0.36340852130325807,
                    -0.3383458646616546,
                    -0.3132832080200503,
                    -0.28822055137844593,
                    -0.2631578947368425,
                    -0.23809523809523814,
                    -0.21303258145363468,
                    -0.18796992481203034,
                    -0.162907268170426,
                    -0.13784461152882255,
                    -0.1127819548872182,
                    -0.08771929824561475,
                    -0.06265664160401041,
                    -0.03759398496240607,
                    -0.012531328320802615,
                    0.012531328320801727,
                    0.03759398496240607,
                    0.06265664160400952,
                    0.08771929824561386,
                    0.1127819548872182,
                    0.13784461152882166,
                    0.162907268170426,
                    0.18796992481202945,
                    0.2130325814536338,
                    0.23809523809523814,
                    0.2631578947368416,
                    0.28822055137844593,
                    0.3132832080200494,
                    0.33834586466165373,
                    0.36340852130325807,
                    0.3884711779448615,
                    0.41353383458646586,
                    0.4385964912280702,
                    0.46365914786967366,
                    0.488721804511278,
                    0.5137844611528823,
                    0.5388471177944858,
                    0.5639097744360901,
                    0.5889724310776936,
                    0.6140350877192979,
                    0.6390977443609023,
                    0.6641604010025057,
                    0.6892230576441101,
                    0.7142857142857135,
                    0.7393483709273179,
                    0.7644110275689222,
                    0.7894736842105257,
                    0.81453634085213,
                    0.8395989974937343,
                    0.8646616541353378,
                    0.8897243107769421,
                    0.9147869674185465,
                    0.9398496240601499,
                    0.9649122807017543,
                    0.9899749373433577,
                    1.015037593984962,
                    1.0401002506265664,
                    1.0651629072681699,
                    1.0902255639097742,
                    1.1152882205513777,
                    1.140350877192982,
                    1.1654135338345863,
                    1.1904761904761898,
                    1.2155388471177941,
                    1.2406015037593985,
                    1.265664160401002,
                    1.2907268170426063,
                    1.3157894736842106,
                    1.340852130325814,
                    1.3659147869674184,
                    1.3909774436090219,
                    1.4160401002506262,
                    1.4411027568922306,
                    1.466165413533834,
                    1.4912280701754383,
                    1.5162907268170418,
                    1.5413533834586461,
                    1.5664160401002505,
                    1.591478696741854,
                    1.6165413533834583,
                    1.6416040100250626,
                    1.666666666666666,
                    1.6917293233082704,
                    1.7167919799498748,
                    1.7418546365914782,
                    1.7669172932330826,
                    1.791979949874686,
                    1.8170426065162903,
                    1.8421052631578947,
                    1.8671679197994981,
                    1.8922305764411025,
                    1.917293233082706,
                    1.9423558897243103,
                    1.9674185463659146,
                    1.992481203007518,
                    2.0175438596491224,
                    2.0426065162907268,
                    2.06766917293233,
                    2.0927318295739346,
                    2.117794486215539,
                    2.1428571428571423,
                    2.1679197994987467,
                    2.19298245614035,
                    2.2180451127819545,
                    2.243107769423559,
                    2.2681704260651623,
                    2.2932330827067666,
                    2.31829573934837,
                    2.3433583959899744,
                    2.3684210526315788,
                    2.393483709273182,
                    2.4185463659147866,
                    2.443609022556391,
                    2.4686716791979944,
                    2.4937343358395987,
                    2.518796992481203,
                    2.5438596491228065,
                    2.568922305764411,
                    2.5939849624060143,
                    2.6190476190476186,
                    2.644110275689223,
                    2.6691729323308264,
                    2.6942355889724308,
                    2.719298245614034,
                    2.7443609022556386,
                    2.769423558897243,
                    2.7944862155388464,
                    2.8195488721804507,
                    2.844611528822055,
                    2.8696741854636585,
                    2.894736842105263,
                    2.919799498746867,
                    2.9448621553884706,
                    2.969924812030075,
                    2.9949874686716784,
                    3.0200501253132828,
                    3.045112781954886,
                    3.0701754385964914,
                    3.095238095238095,
                    3.1203007518796984,
                    3.1453634085213036,
                    3.170426065162907,
                    3.1954887218045105,
                    3.220551378446114,
                    3.245614035087719,
                    3.2706766917293226,
                    3.295739348370926,
                    3.3208020050125313,
                    3.3458646616541348,
                    3.370927318295738,
                    3.3959899749373434,
                    3.421052631578947,
                    3.4461152882205504,
                    3.4711779448621556,
                    3.496240601503759,
                    3.5213032581453625,
                    3.5463659147869677,
                    3.571428571428571,
                    3.5964912280701746,
                    3.62155388471178,
                    3.6466165413533833,
                    3.6716791979949868,
                    3.69674185463659,
                    3.7218045112781954,
                    3.746867167919799,
                    3.7719298245614024,
                    3.7969924812030076,
                    3.822055137844611,
                    3.8471177944862145,
                    3.8721804511278197,
                    3.897243107769423,
                    3.9223057644110266,
                    3.947368421052632,
                    3.9724310776942353,
                    3.9974937343358388,
                    4.022556390977442,
                    4.0476190476190474,
                    4.072681704260651,
                    4.097744360902254,
                    4.12280701754386,
                    4.147869674185463,
                    4.1729323308270665,
                    4.197994987468672,
                    4.223057644110275,
                    4.248120300751879,
                    4.273182957393484,
                    4.298245614035087,
                    4.323308270676691,
                    4.348370927318296,
                    4.3734335839598995,
                    4.398496240601503,
                    4.423558897243108,
                    4.448621553884712,
                    4.473684210526315,
                    4.4987468671679185,
                    4.523809523809524,
                    4.548872180451127,
                    4.573934837092731,
                    4.598997493734336,
                    4.624060150375939,
                    4.649122807017543,
                    4.674185463659148,
                    4.6992481203007515,
                    4.724310776942355,
                    4.74937343358396,
                    4.774436090225564,
                    4.799498746867167,
                    4.8245614035087705,
                    4.849624060150376,
                    4.874686716791979,
                    4.899749373433583,
                    4.924812030075188,
                    4.949874686716791,
                    4.974937343358395,
                    5
                  ],
                  "xaxis": "x",
                  "y": [
                    0.0000014867195147342977,
                    0.0000016846725955089388,
                    0.000001907783920997337,
                    0.0000021590865937000873,
                    0.0000024419577240704626,
                    0.000002760154706741955,
                    0.0000031178549905840824,
                    0.0000035196996407833317,
                    0.000003970841012367113,
                    0.000004476994876867027,
                    0.000005044497367158891,
                    0.000005680367129915395,
                    0.000006392373100554284,
                    0.000007189108342041487,
                    0.000008080070416385773,
                    0.000009075748786101146,
                    0.000010187719772267939,
                    0.000011428749626026695,
                    0.000012812906301321673,
                    0.000014355680548377894,
                    0.00001607411697964359,
                    0.00001798695579264061,
                    0.00002011478586718964,
                    0.000022480209987667403,
                    0.000025108022974120152,
                    0.000028025403539005946,
                    0.00003126212071884728,
                    0.00003485075576189073,
                    0.00003882694038372736,
                    0.000043229612332433506,
                    0.000048101289232811996,
                    0.00005348836170541152,
                    0.000059441406779801394,
                    0.0000660155226426606,
                    0.00007327068577919748,
                    0.00008127213158076763,
                    0.0000900907595018233,
                    0.00009980356385501057,
                    0.00011049409133374726,
                    0.00012225292634646231,
                    0.00013517820523519848,
                    0.00014937616043290841,
                    0.00016496169558787932,
                    0.0001820589926495997,
                    0.00020080215186743907,
                    0.0002213358656010284,
                    0.00024381612677850306,
                    0.0002684109727651764,
                    0.00029530126531999025,
                    0.0003246815072195901,
                    0.00035676069601943346,
                    0.0003917632152972761,
                    0.00042992976358608017,
                    0.00047151832105024773,
                    0.0005168051537905212,
                    0.0005660858554784152,
                    0.0006196764258201897,
                    0.0006779143851326768,
                    0.0007411599240785264,
                    0.0008097970873562495,
                    0.0008842349898707543,
                    0.0009649090636228159,
                    0.0010522823332510536,
                    0.0011468467178378432,
                    0.0012491243562513291,
                    0.0013596689529397942,
                    0.0014790671407227474,
                    0.0016079398567358733,
                    0.001746943727285377,
                    0.0018967724569524344,
                    0.002058158216861499,
                    0.0022318730265888306,
                    0.002418730123741338,
                    0.002619585314782364,
                    0.002835338300222888,
                    0.0030669339668355626,
                    0.003315363639087846,
                    0.003581666281531937,
                    0.0038669296434358075,
                    0.004172291336495026,
                    0.00449893983603216,
                    0.004848115395672816,
                    0.005221110865088927,
                    0.005619272400024039,
                    0.006044000053466405,
                    0.006496748236517852,
                    0.00697902603722343,
                    0.0074923973853839,
                    0.008038481051173938,
                    0.008618950465238135,
                    0.009235533347839421,
                    0.009890011134594121,
                    0.010584218186349723,
                    0.011320040770849386,
                    0.012099415803985545,
                    0.012924329338678327,
                    0.013796814789726006,
                    0.014718950883368371,
                    0.01569285932078344,
                    0.016720702145305775,
                    0.01780467880381376,
                    0.01894702289348663,
                    0.02014999858597928,
                    0.021415896722008814,
                    0.022747030570389022,
                    0.024145731246688968,
                    0.02561434278793002,
                    0.027155216881069148,
                    0.028770707244444898,
                    0.030463163662883458,
                    0.03223492567877035,
                    0.03408831594308885,
                    0.03602563323219986,
                    0.03804914513798635,
                    0.04016108044090309,
                    0.04236362117744976,
                    0.044658894415615984,
                    0.04704896375392225,
                    0.04953582056178897,
                    0.05212137498110021,
                    0.054807446710975156,
                    0.05759575559990732,
                    0.060487912071569915,
                    0.06348540741269772,
                    0.06658960395353151,
                    0.06980172517333634,
                    0.07312284576546144,
                    0.07655388169828961,
                    0.08009558031020675,
                    0.08374851047839366,
                    0.0875130529027927,
                    0.09138939054800821,
                    0.09537749928715426,
                    0.09947713879274865,
                    0.10368784372065248,
                    0.10800891523376306,
                    0.11243941291266399,
                    0.11697814710071258,
                    0.12162367173109094,
                    0.12637427768314974,
                    0.13122798671492558,
                    0.13618254601801041,
                    0.14123542343997755,
                    0.1463838034183331,
                    0.1516245836684501,
                    0.1569543726661538,
                    0.16236948796357065,
                    0.1678659553745185,
                    0.17343950906311556,
                    0.17908559256642118,
                    0.18479936077880002,
                    0.1905756829223335,
                    0.19640914652400143,
                    0.20229406241652498,
                    0.208224470775733,
                    0.21419414820308366,
                    0.22019661585757458,
                    0.22622514863672313,
                    0.23227278540161087,
                    0.23833234023619423,
                    0.2443964147262076,
                    0.2504574112380426,
                    0.25650754717302343,
                    0.2625388701675251,
                    0.2685432742044235,
                    0.2745125165964835,
                    0.2804382357974594,
                    0.2863119699919936,
                    0.29212517641082686,
                    0.2978692513134426,
                    0.30353555057607845,
                    0.3091154108190664,
                    0.31460017100375154,
                    0.319981194425811,
                    0.32524989102866586,
                    0.3303977399578798,
                    0.33541631227500096,
                    0.3402972937472163,
                    0.3450325076275147,
                    0.34961393733876706,
                    0.35403374897426887,
                    0.35828431352686707,
                    0.3623582287587869,
                    0.36624834062473666,
                    0.36994776416175723,
                    0.37344990376063225,
                    0.37674847273546697,
                    0.3798375121102726,
                    0.3827114085440555,
                    0.3853649113189984,
                    0.38779314831980966,
                    0.38999164093619854,
                    0.39195631782469526,
                    0.393683527470633,
                    0.39517004949604945,
                    0.396413104664495,
                    0.39741036353924303,
                    0.3981599537571504,
                    0.398660465886375,
                    0.39891095784230013,
                    0.39891095784230013,
                    0.398660465886375,
                    0.3981599537571504,
                    0.39741036353924303,
                    0.396413104664495,
                    0.3951700494960495,
                    0.393683527470633,
                    0.3919563178246953,
                    0.3899916409361986,
                    0.38779314831980966,
                    0.3853649113189985,
                    0.3827114085440555,
                    0.3798375121102727,
                    0.37674847273546713,
                    0.37344990376063225,
                    0.36994776416175734,
                    0.3662483406247368,
                    0.3623582287587869,
                    0.3582843135268672,
                    0.35403374897426904,
                    0.34961393733876706,
                    0.3450325076275149,
                    0.3402972937472163,
                    0.3354163122750011,
                    0.33039773995787997,
                    0.32524989102866586,
                    0.3199811944258112,
                    0.31460017100375154,
                    0.30911541081906657,
                    0.3035355505760786,
                    0.2978692513134426,
                    0.2921251764108271,
                    0.2863119699919938,
                    0.2804382357974594,
                    0.27451251659648374,
                    0.2685432742044237,
                    0.2625388701675251,
                    0.25650754717302365,
                    0.2504574112380426,
                    0.24439641472620782,
                    0.23833234023619435,
                    0.23227278540161087,
                    0.22622514863672336,
                    0.22019661585757466,
                    0.21419414820308388,
                    0.20822447077573322,
                    0.2022940624165251,
                    0.19640914652400165,
                    0.19057568292233362,
                    0.18479936077880002,
                    0.17908559256642137,
                    0.17343950906311564,
                    0.1678659553745185,
                    0.16236948796357084,
                    0.1569543726661539,
                    0.15162458366845027,
                    0.14638380341833318,
                    0.14123542343997755,
                    0.1361825460180106,
                    0.13122798671492567,
                    0.12637427768314988,
                    0.12162367173109112,
                    0.11697814710071264,
                    0.11243941291266417,
                    0.10800891523376313,
                    0.10368784372065248,
                    0.09947713879274879,
                    0.09537749928715436,
                    0.09138939054800821,
                    0.08751305290279282,
                    0.08374851047839374,
                    0.08009558031020687,
                    0.07655388169828968,
                    0.07312284576546144,
                    0.06980172517333647,
                    0.06658960395353158,
                    0.06348540741269783,
                    0.060487912071570026,
                    0.05759575559990737,
                    0.05480744671097525,
                    0.05212137498110027,
                    0.04953582056178897,
                    0.047048963753922333,
                    0.044658894415616025,
                    0.04236362117744976,
                    0.040161080440903156,
                    0.038049145137986386,
                    0.03602563323219994,
                    0.03408831594308888,
                    0.03223492567877035,
                    0.030463163662883513,
                    0.028770707244444936,
                    0.027155216881069203,
                    0.025614342787930084,
                    0.02414573124668899,
                    0.022747030570389064,
                    0.021415896722008842,
                    0.02014999858597928,
                    0.01894702289348667,
                    0.017804678803813773,
                    0.016720702145305775,
                    0.01569285932078348,
                    0.01471895088336839,
                    0.013796814789726036,
                    0.012924329338678337,
                    0.012099415803985545,
                    0.01132004077084941,
                    0.010584218186349737,
                    0.009890011134594147,
                    0.00923553334783944,
                    0.008618950465238149,
                    0.008038481051173956,
                    0.007492397385383909,
                    0.00697902603722343,
                    0.006496748236517864,
                    0.00604400005346641,
                    0.005619272400024039,
                    0.005221110865088941,
                    0.004848115395672824,
                    0.004498939836032172,
                    0.0041722913364950305,
                    0.003866929643435818,
                    0.003581666281531937,
                    0.0033153636390878516,
                    0.003066933966835571,
                    0.002835338300222888,
                    0.0026195853147823666,
                    0.0024187301237413444,
                    0.0022318730265888406,
                    0.002058158216861499,
                    0.0018967724569524413,
                    0.0017469437272853846,
                    0.0016079398567358733,
                    0.0014790671407227513,
                    0.0013596689529398003,
                    0.0012491243562513291,
                    0.001146846717837844,
                    0.0010522823332510564,
                    0.0009649090636228159,
                    0.0008842349898707558,
                    0.0008097970873562525,
                    0.0007411599240785264,
                    0.0006779143851326774,
                    0.0006196764258201913,
                    0.0005660858554784142,
                    0.0005168051537905212,
                    0.00047151832105024935,
                    0.00042992976358608207,
                    0.0003917632152972761,
                    0.0003567606960194347,
                    0.00032468150721959185,
                    0.00029530126531999025,
                    0.0002684109727651769,
                    0.00024381612677850393,
                    0.0002213358656010284,
                    0.00020080215186743947,
                    0.00018205899264960035,
                    0.00016496169558787932,
                    0.00014937616043290869,
                    0.00013517820523519894,
                    0.00012225292634646318,
                    0.00011049409133374726,
                    0.0000998035638550109,
                    0.00009009075950182395,
                    0.00008127213158076763,
                    0.00007327068577919773,
                    0.00006601552264266084,
                    0.000059441406779801394,
                    0.000053488361705411716,
                    0.000048101289232812165,
                    0.000043229612332433506,
                    0.00003882694038372736,
                    0.000034850755761890854,
                    0.00003126212071884728,
                    0.000028025403539005946,
                    0.00002510802297412024,
                    0.000022480209987667403,
                    0.00002011478586718964,
                    0.000017986955792640675,
                    0.000016074116979643707,
                    0.000014355680548377894,
                    0.000012812906301321744,
                    0.000011428749626026736,
                    0.000010187719772267939,
                    0.00000907574878610118,
                    0.000008080070416385803,
                    0.000007189108342041487,
                    0.000006392373100554284,
                    0.000005680367129915425,
                    0.000005044497367158891,
                    0.000004476994876867027,
                    0.000003970841012367127,
                    0.0000035196996407833627,
                    0.0000031178549905840824,
                    0.0000027601547067419696,
                    0.0000024419577240704795,
                    0.0000021590865937000873,
                    0.0000019077839209973473,
                    0.0000016846725955089448,
                    0.0000014867195147342977
                  ],
                  "yaxis": "y"
                }
              ],
              "layout": {
                "legend": {
                  "tracegroupgap": 0
                },
                "template": {
                  "data": {
                    "bar": [
                      {
                        "error_x": {
                          "color": "#2a3f5f"
                        },
                        "error_y": {
                          "color": "#2a3f5f"
                        },
                        "marker": {
                          "line": {
                            "color": "#E5ECF6",
                            "width": 0.5
                          },
                          "pattern": {
                            "fillmode": "overlay",
                            "size": 10,
                            "solidity": 0.2
                          }
                        },
                        "type": "bar"
                      }
                    ],
                    "barpolar": [
                      {
                        "marker": {
                          "line": {
                            "color": "#E5ECF6",
                            "width": 0.5
                          },
                          "pattern": {
                            "fillmode": "overlay",
                            "size": 10,
                            "solidity": 0.2
                          }
                        },
                        "type": "barpolar"
                      }
                    ],
                    "carpet": [
                      {
                        "aaxis": {
                          "endlinecolor": "#2a3f5f",
                          "gridcolor": "white",
                          "linecolor": "white",
                          "minorgridcolor": "white",
                          "startlinecolor": "#2a3f5f"
                        },
                        "baxis": {
                          "endlinecolor": "#2a3f5f",
                          "gridcolor": "white",
                          "linecolor": "white",
                          "minorgridcolor": "white",
                          "startlinecolor": "#2a3f5f"
                        },
                        "type": "carpet"
                      }
                    ],
                    "choropleth": [
                      {
                        "colorbar": {
                          "outlinewidth": 0,
                          "ticks": ""
                        },
                        "type": "choropleth"
                      }
                    ],
                    "contour": [
                      {
                        "colorbar": {
                          "outlinewidth": 0,
                          "ticks": ""
                        },
                        "colorscale": [
                          [
                            0,
                            "#0d0887"
                          ],
                          [
                            0.1111111111111111,
                            "#46039f"
                          ],
                          [
                            0.2222222222222222,
                            "#7201a8"
                          ],
                          [
                            0.3333333333333333,
                            "#9c179e"
                          ],
                          [
                            0.4444444444444444,
                            "#bd3786"
                          ],
                          [
                            0.5555555555555556,
                            "#d8576b"
                          ],
                          [
                            0.6666666666666666,
                            "#ed7953"
                          ],
                          [
                            0.7777777777777778,
                            "#fb9f3a"
                          ],
                          [
                            0.8888888888888888,
                            "#fdca26"
                          ],
                          [
                            1,
                            "#f0f921"
                          ]
                        ],
                        "type": "contour"
                      }
                    ],
                    "contourcarpet": [
                      {
                        "colorbar": {
                          "outlinewidth": 0,
                          "ticks": ""
                        },
                        "type": "contourcarpet"
                      }
                    ],
                    "heatmap": [
                      {
                        "colorbar": {
                          "outlinewidth": 0,
                          "ticks": ""
                        },
                        "colorscale": [
                          [
                            0,
                            "#0d0887"
                          ],
                          [
                            0.1111111111111111,
                            "#46039f"
                          ],
                          [
                            0.2222222222222222,
                            "#7201a8"
                          ],
                          [
                            0.3333333333333333,
                            "#9c179e"
                          ],
                          [
                            0.4444444444444444,
                            "#bd3786"
                          ],
                          [
                            0.5555555555555556,
                            "#d8576b"
                          ],
                          [
                            0.6666666666666666,
                            "#ed7953"
                          ],
                          [
                            0.7777777777777778,
                            "#fb9f3a"
                          ],
                          [
                            0.8888888888888888,
                            "#fdca26"
                          ],
                          [
                            1,
                            "#f0f921"
                          ]
                        ],
                        "type": "heatmap"
                      }
                    ],
                    "heatmapgl": [
                      {
                        "colorbar": {
                          "outlinewidth": 0,
                          "ticks": ""
                        },
                        "colorscale": [
                          [
                            0,
                            "#0d0887"
                          ],
                          [
                            0.1111111111111111,
                            "#46039f"
                          ],
                          [
                            0.2222222222222222,
                            "#7201a8"
                          ],
                          [
                            0.3333333333333333,
                            "#9c179e"
                          ],
                          [
                            0.4444444444444444,
                            "#bd3786"
                          ],
                          [
                            0.5555555555555556,
                            "#d8576b"
                          ],
                          [
                            0.6666666666666666,
                            "#ed7953"
                          ],
                          [
                            0.7777777777777778,
                            "#fb9f3a"
                          ],
                          [
                            0.8888888888888888,
                            "#fdca26"
                          ],
                          [
                            1,
                            "#f0f921"
                          ]
                        ],
                        "type": "heatmapgl"
                      }
                    ],
                    "histogram": [
                      {
                        "marker": {
                          "pattern": {
                            "fillmode": "overlay",
                            "size": 10,
                            "solidity": 0.2
                          }
                        },
                        "type": "histogram"
                      }
                    ],
                    "histogram2d": [
                      {
                        "colorbar": {
                          "outlinewidth": 0,
                          "ticks": ""
                        },
                        "colorscale": [
                          [
                            0,
                            "#0d0887"
                          ],
                          [
                            0.1111111111111111,
                            "#46039f"
                          ],
                          [
                            0.2222222222222222,
                            "#7201a8"
                          ],
                          [
                            0.3333333333333333,
                            "#9c179e"
                          ],
                          [
                            0.4444444444444444,
                            "#bd3786"
                          ],
                          [
                            0.5555555555555556,
                            "#d8576b"
                          ],
                          [
                            0.6666666666666666,
                            "#ed7953"
                          ],
                          [
                            0.7777777777777778,
                            "#fb9f3a"
                          ],
                          [
                            0.8888888888888888,
                            "#fdca26"
                          ],
                          [
                            1,
                            "#f0f921"
                          ]
                        ],
                        "type": "histogram2d"
                      }
                    ],
                    "histogram2dcontour": [
                      {
                        "colorbar": {
                          "outlinewidth": 0,
                          "ticks": ""
                        },
                        "colorscale": [
                          [
                            0,
                            "#0d0887"
                          ],
                          [
                            0.1111111111111111,
                            "#46039f"
                          ],
                          [
                            0.2222222222222222,
                            "#7201a8"
                          ],
                          [
                            0.3333333333333333,
                            "#9c179e"
                          ],
                          [
                            0.4444444444444444,
                            "#bd3786"
                          ],
                          [
                            0.5555555555555556,
                            "#d8576b"
                          ],
                          [
                            0.6666666666666666,
                            "#ed7953"
                          ],
                          [
                            0.7777777777777778,
                            "#fb9f3a"
                          ],
                          [
                            0.8888888888888888,
                            "#fdca26"
                          ],
                          [
                            1,
                            "#f0f921"
                          ]
                        ],
                        "type": "histogram2dcontour"
                      }
                    ],
                    "mesh3d": [
                      {
                        "colorbar": {
                          "outlinewidth": 0,
                          "ticks": ""
                        },
                        "type": "mesh3d"
                      }
                    ],
                    "parcoords": [
                      {
                        "line": {
                          "colorbar": {
                            "outlinewidth": 0,
                            "ticks": ""
                          }
                        },
                        "type": "parcoords"
                      }
                    ],
                    "pie": [
                      {
                        "automargin": true,
                        "type": "pie"
                      }
                    ],
                    "scatter": [
                      {
                        "fillpattern": {
                          "fillmode": "overlay",
                          "size": 10,
                          "solidity": 0.2
                        },
                        "type": "scatter"
                      }
                    ],
                    "scatter3d": [
                      {
                        "line": {
                          "colorbar": {
                            "outlinewidth": 0,
                            "ticks": ""
                          }
                        },
                        "marker": {
                          "colorbar": {
                            "outlinewidth": 0,
                            "ticks": ""
                          }
                        },
                        "type": "scatter3d"
                      }
                    ],
                    "scattercarpet": [
                      {
                        "marker": {
                          "colorbar": {
                            "outlinewidth": 0,
                            "ticks": ""
                          }
                        },
                        "type": "scattercarpet"
                      }
                    ],
                    "scattergeo": [
                      {
                        "marker": {
                          "colorbar": {
                            "outlinewidth": 0,
                            "ticks": ""
                          }
                        },
                        "type": "scattergeo"
                      }
                    ],
                    "scattergl": [
                      {
                        "marker": {
                          "colorbar": {
                            "outlinewidth": 0,
                            "ticks": ""
                          }
                        },
                        "type": "scattergl"
                      }
                    ],
                    "scattermapbox": [
                      {
                        "marker": {
                          "colorbar": {
                            "outlinewidth": 0,
                            "ticks": ""
                          }
                        },
                        "type": "scattermapbox"
                      }
                    ],
                    "scatterpolar": [
                      {
                        "marker": {
                          "colorbar": {
                            "outlinewidth": 0,
                            "ticks": ""
                          }
                        },
                        "type": "scatterpolar"
                      }
                    ],
                    "scatterpolargl": [
                      {
                        "marker": {
                          "colorbar": {
                            "outlinewidth": 0,
                            "ticks": ""
                          }
                        },
                        "type": "scatterpolargl"
                      }
                    ],
                    "scatterternary": [
                      {
                        "marker": {
                          "colorbar": {
                            "outlinewidth": 0,
                            "ticks": ""
                          }
                        },
                        "type": "scatterternary"
                      }
                    ],
                    "surface": [
                      {
                        "colorbar": {
                          "outlinewidth": 0,
                          "ticks": ""
                        },
                        "colorscale": [
                          [
                            0,
                            "#0d0887"
                          ],
                          [
                            0.1111111111111111,
                            "#46039f"
                          ],
                          [
                            0.2222222222222222,
                            "#7201a8"
                          ],
                          [
                            0.3333333333333333,
                            "#9c179e"
                          ],
                          [
                            0.4444444444444444,
                            "#bd3786"
                          ],
                          [
                            0.5555555555555556,
                            "#d8576b"
                          ],
                          [
                            0.6666666666666666,
                            "#ed7953"
                          ],
                          [
                            0.7777777777777778,
                            "#fb9f3a"
                          ],
                          [
                            0.8888888888888888,
                            "#fdca26"
                          ],
                          [
                            1,
                            "#f0f921"
                          ]
                        ],
                        "type": "surface"
                      }
                    ],
                    "table": [
                      {
                        "cells": {
                          "fill": {
                            "color": "#EBF0F8"
                          },
                          "line": {
                            "color": "white"
                          }
                        },
                        "header": {
                          "fill": {
                            "color": "#C8D4E3"
                          },
                          "line": {
                            "color": "white"
                          }
                        },
                        "type": "table"
                      }
                    ]
                  },
                  "layout": {
                    "annotationdefaults": {
                      "arrowcolor": "#2a3f5f",
                      "arrowhead": 0,
                      "arrowwidth": 1
                    },
                    "autotypenumbers": "strict",
                    "coloraxis": {
                      "colorbar": {
                        "outlinewidth": 0,
                        "ticks": ""
                      }
                    },
                    "colorscale": {
                      "diverging": [
                        [
                          0,
                          "#8e0152"
                        ],
                        [
                          0.1,
                          "#c51b7d"
                        ],
                        [
                          0.2,
                          "#de77ae"
                        ],
                        [
                          0.3,
                          "#f1b6da"
                        ],
                        [
                          0.4,
                          "#fde0ef"
                        ],
                        [
                          0.5,
                          "#f7f7f7"
                        ],
                        [
                          0.6,
                          "#e6f5d0"
                        ],
                        [
                          0.7,
                          "#b8e186"
                        ],
                        [
                          0.8,
                          "#7fbc41"
                        ],
                        [
                          0.9,
                          "#4d9221"
                        ],
                        [
                          1,
                          "#276419"
                        ]
                      ],
                      "sequential": [
                        [
                          0,
                          "#0d0887"
                        ],
                        [
                          0.1111111111111111,
                          "#46039f"
                        ],
                        [
                          0.2222222222222222,
                          "#7201a8"
                        ],
                        [
                          0.3333333333333333,
                          "#9c179e"
                        ],
                        [
                          0.4444444444444444,
                          "#bd3786"
                        ],
                        [
                          0.5555555555555556,
                          "#d8576b"
                        ],
                        [
                          0.6666666666666666,
                          "#ed7953"
                        ],
                        [
                          0.7777777777777778,
                          "#fb9f3a"
                        ],
                        [
                          0.8888888888888888,
                          "#fdca26"
                        ],
                        [
                          1,
                          "#f0f921"
                        ]
                      ],
                      "sequentialminus": [
                        [
                          0,
                          "#0d0887"
                        ],
                        [
                          0.1111111111111111,
                          "#46039f"
                        ],
                        [
                          0.2222222222222222,
                          "#7201a8"
                        ],
                        [
                          0.3333333333333333,
                          "#9c179e"
                        ],
                        [
                          0.4444444444444444,
                          "#bd3786"
                        ],
                        [
                          0.5555555555555556,
                          "#d8576b"
                        ],
                        [
                          0.6666666666666666,
                          "#ed7953"
                        ],
                        [
                          0.7777777777777778,
                          "#fb9f3a"
                        ],
                        [
                          0.8888888888888888,
                          "#fdca26"
                        ],
                        [
                          1,
                          "#f0f921"
                        ]
                      ]
                    },
                    "colorway": [
                      "#636efa",
                      "#EF553B",
                      "#00cc96",
                      "#ab63fa",
                      "#FFA15A",
                      "#19d3f3",
                      "#FF6692",
                      "#B6E880",
                      "#FF97FF",
                      "#FECB52"
                    ],
                    "font": {
                      "color": "#2a3f5f"
                    },
                    "geo": {
                      "bgcolor": "white",
                      "lakecolor": "white",
                      "landcolor": "#E5ECF6",
                      "showlakes": true,
                      "showland": true,
                      "subunitcolor": "white"
                    },
                    "hoverlabel": {
                      "align": "left"
                    },
                    "hovermode": "closest",
                    "mapbox": {
                      "style": "light"
                    },
                    "paper_bgcolor": "white",
                    "plot_bgcolor": "#E5ECF6",
                    "polar": {
                      "angularaxis": {
                        "gridcolor": "white",
                        "linecolor": "white",
                        "ticks": ""
                      },
                      "bgcolor": "#E5ECF6",
                      "radialaxis": {
                        "gridcolor": "white",
                        "linecolor": "white",
                        "ticks": ""
                      }
                    },
                    "scene": {
                      "xaxis": {
                        "backgroundcolor": "#E5ECF6",
                        "gridcolor": "white",
                        "gridwidth": 2,
                        "linecolor": "white",
                        "showbackground": true,
                        "ticks": "",
                        "zerolinecolor": "white"
                      },
                      "yaxis": {
                        "backgroundcolor": "#E5ECF6",
                        "gridcolor": "white",
                        "gridwidth": 2,
                        "linecolor": "white",
                        "showbackground": true,
                        "ticks": "",
                        "zerolinecolor": "white"
                      },
                      "zaxis": {
                        "backgroundcolor": "#E5ECF6",
                        "gridcolor": "white",
                        "gridwidth": 2,
                        "linecolor": "white",
                        "showbackground": true,
                        "ticks": "",
                        "zerolinecolor": "white"
                      }
                    },
                    "shapedefaults": {
                      "line": {
                        "color": "#2a3f5f"
                      }
                    },
                    "ternary": {
                      "aaxis": {
                        "gridcolor": "white",
                        "linecolor": "white",
                        "ticks": ""
                      },
                      "baxis": {
                        "gridcolor": "white",
                        "linecolor": "white",
                        "ticks": ""
                      },
                      "bgcolor": "#E5ECF6",
                      "caxis": {
                        "gridcolor": "white",
                        "linecolor": "white",
                        "ticks": ""
                      }
                    },
                    "title": {
                      "x": 0.05
                    },
                    "xaxis": {
                      "automargin": true,
                      "gridcolor": "white",
                      "linecolor": "white",
                      "ticks": "",
                      "title": {
                        "standoff": 15
                      },
                      "zerolinecolor": "white",
                      "zerolinewidth": 2
                    },
                    "yaxis": {
                      "automargin": true,
                      "gridcolor": "white",
                      "linecolor": "white",
                      "ticks": "",
                      "title": {
                        "standoff": 15
                      },
                      "zerolinecolor": "white",
                      "zerolinewidth": 2
                    }
                  }
                },
                "title": {
                  "text": "Fonction de densité de probabilité de la loi normale standard"
                },
                "xaxis": {
                  "anchor": "y",
                  "domain": [
                    0,
                    1
                  ],
                  "title": {
                    "text": "x"
                  }
                },
                "yaxis": {
                  "anchor": "x",
                  "domain": [
                    0,
                    1
                  ],
                  "title": {
                    "text": "y"
                  }
                }
              }
            }
          },
          "metadata": {},
          "output_type": "display_data"
        }
      ],
      "source": [
        "def f(x):\n",
        "    return (1 / np.sqrt(2 * np.pi)) * np.exp(-0.5 * x**2)\n",
        "\n",
        "x = np.linspace(-5, 5, 400)\n",
        "\n",
        "y = f(x)\n",
        "\n",
        "fig = px.line(x=x, y=y, title='Fonction de densité de probabilité de la loi normale standard')\n",
        "fig.show()"
      ]
    },
    {
      "cell_type": "markdown",
      "metadata": {
        "id": "MzR1Pu8BwXih"
      },
      "source": [
        "----------------------------------"
      ]
    },
    {
      "cell_type": "markdown",
      "metadata": {
        "id": "HM9Q73J0U9WB"
      },
      "source": [
        "# Calcul de dérivée"
      ]
    },
    {
      "cell_type": "markdown",
      "metadata": {
        "id": "EzuMXD8pP5CX"
      },
      "source": [
        "## Job 17\n",
        "\n",
        "En mathématiques, la dérivée d'une fonction d'une variable réelle mesure l'ampleur du changement de la valeur de la fonction (valeur de sortie) par rapport à un petit changement de son argument (valeur d'entrée). Les calculs de dérivées sont un outil fondamental du calcul infinitésimal. Par exemple, la dérivée de la position d'un objet en mouvement par rapport au temps est la vitesse (instantanée) de l'objet.\n",
        "\n",
        "\\\n",
        "\n",
        "Calculez la dérivée des fonctions suivantes à l'aide la librairie `SymPy` :\n",
        "\n",
        "1. $f(x) = 3x^2 - 2x + 5$\n",
        "\n",
        "2. $g(x) = \\frac{2}{x^2}$\n",
        "\n",
        "3. $h(x) = \\sqrt{3x - 1}$\n",
        "\n",
        "4. $k(x) = e^{x}$\n",
        "\n",
        "5. $l(x) = ln(x)$\n",
        "\n",
        "6. $p(x) = \\sqrt{x} + 2x^3$\n",
        "\n",
        "7. $q(x) = sin(x)$\n",
        "\n",
        "8. $r(x) = \\frac{x^2 + 1}{x-1}$"
      ]
    },
    {
      "cell_type": "code",
      "execution_count": 47,
      "metadata": {},
      "outputs": [],
      "source": [
        "x = sp.symbols('x')"
      ]
    },
    {
      "cell_type": "code",
      "execution_count": 48,
      "metadata": {
        "id": "v1S2lF7iUbGd"
      },
      "outputs": [
        {
          "data": {
            "text/latex": [
              "$\\displaystyle 6 x - 2$"
            ],
            "text/plain": [
              "6*x - 2"
            ]
          },
          "execution_count": 48,
          "metadata": {},
          "output_type": "execute_result"
        }
      ],
      "source": [
        "f = 3*x**2 - 2*x + 5\n",
        "f_prime = sp.diff(f, x)\n",
        "f_prime"
      ]
    },
    {
      "cell_type": "code",
      "execution_count": 49,
      "metadata": {},
      "outputs": [
        {
          "data": {
            "text/latex": [
              "$\\displaystyle - \\frac{4}{x^{3}}$"
            ],
            "text/plain": [
              "-4/x**3"
            ]
          },
          "execution_count": 49,
          "metadata": {},
          "output_type": "execute_result"
        }
      ],
      "source": [
        "g = 2 / x**2\n",
        "g_prime = sp.diff(g, x)\n",
        "g_prime"
      ]
    },
    {
      "cell_type": "code",
      "execution_count": 50,
      "metadata": {},
      "outputs": [
        {
          "data": {
            "text/latex": [
              "$\\displaystyle \\frac{3}{2 \\sqrt{3 x - 1}}$"
            ],
            "text/plain": [
              "3/(2*sqrt(3*x - 1))"
            ]
          },
          "execution_count": 50,
          "metadata": {},
          "output_type": "execute_result"
        }
      ],
      "source": [
        "h = sp.sqrt(3*x - 1)\n",
        "h_prime = sp.diff(h, x)\n",
        "h_prime"
      ]
    },
    {
      "cell_type": "code",
      "execution_count": 51,
      "metadata": {},
      "outputs": [
        {
          "data": {
            "text/latex": [
              "$\\displaystyle e^{x}$"
            ],
            "text/plain": [
              "exp(x)"
            ]
          },
          "execution_count": 51,
          "metadata": {},
          "output_type": "execute_result"
        }
      ],
      "source": [
        "k = sp.exp(x)\n",
        "k_prime = sp.diff(k, x)\n",
        "k_prime"
      ]
    },
    {
      "cell_type": "code",
      "execution_count": 52,
      "metadata": {},
      "outputs": [
        {
          "data": {
            "text/latex": [
              "$\\displaystyle \\frac{1}{x}$"
            ],
            "text/plain": [
              "1/x"
            ]
          },
          "execution_count": 52,
          "metadata": {},
          "output_type": "execute_result"
        }
      ],
      "source": [
        "l = sp.log(x)\n",
        "l_prime = sp.diff(l, x)\n",
        "l_prime"
      ]
    },
    {
      "cell_type": "code",
      "execution_count": 53,
      "metadata": {},
      "outputs": [
        {
          "data": {
            "text/latex": [
              "$\\displaystyle 6 x^{2} + \\frac{1}{2 \\sqrt{x}}$"
            ],
            "text/plain": [
              "6*x**2 + 1/(2*sqrt(x))"
            ]
          },
          "execution_count": 53,
          "metadata": {},
          "output_type": "execute_result"
        }
      ],
      "source": [
        "p = sp.sqrt(x) + 2*x**3\n",
        "p_prime = sp.diff(p, x)\n",
        "p_prime"
      ]
    },
    {
      "cell_type": "code",
      "execution_count": 54,
      "metadata": {},
      "outputs": [
        {
          "data": {
            "text/latex": [
              "$\\displaystyle \\cos{\\left(x \\right)}$"
            ],
            "text/plain": [
              "cos(x)"
            ]
          },
          "execution_count": 54,
          "metadata": {},
          "output_type": "execute_result"
        }
      ],
      "source": [
        "q = sp.sin(x)\n",
        "q_prime = sp.diff(q, x)\n",
        "q_prime"
      ]
    },
    {
      "cell_type": "code",
      "execution_count": 55,
      "metadata": {},
      "outputs": [
        {
          "data": {
            "text/latex": [
              "$\\displaystyle \\frac{2 x}{x - 1} - \\frac{x^{2} + 1}{\\left(x - 1\\right)^{2}}$"
            ],
            "text/plain": [
              "2*x/(x - 1) - (x**2 + 1)/(x - 1)**2"
            ]
          },
          "execution_count": 55,
          "metadata": {},
          "output_type": "execute_result"
        }
      ],
      "source": [
        "r = (x**2 + 1) / (x - 1)\n",
        "r_prime = sp.diff(r, x)\n",
        "r_prime"
      ]
    },
    {
      "cell_type": "markdown",
      "metadata": {
        "id": "lCCEJlbCYbOG"
      },
      "source": [
        "----------------------------------------------------------------------"
      ]
    },
    {
      "cell_type": "markdown",
      "metadata": {
        "id": "MF70NYVuJNty"
      },
      "source": [
        "# Toujours plus loin..."
      ]
    },
    {
      "cell_type": "markdown",
      "metadata": {
        "id": "uA0coLJoPxyx"
      },
      "source": [
        "## **Job Bonus 1**\n",
        "A l'aide de ce que vous avez appris dans le *job 16*, réalisez une simulation du **Théorème Central Limit**.\n",
        "\n",
        "*Pour des raisons d'organisation et de lisibilité de votre notebook, créez votre implémentation dans des fichiers .py que vous viendrez appeler à l'aide de la cellule ci-dessous :*"
      ]
    },
    {
      "cell_type": "code",
      "execution_count": 56,
      "metadata": {},
      "outputs": [
        {
          "data": {
            "image/png": "[encoded data removed]",
            "text/plain": [
              "<Figure size 1000x600 with 1 Axes>"
            ]
          },
          "metadata": {},
          "output_type": "display_data"
        }
      ],
      "source": [
        "from simulation_central_limit_theorem import simulate_central_limit_theorem\n",
        "simulate_central_limit_theorem()"
      ]
    },
    {
      "cell_type": "markdown",
      "metadata": {
        "id": "iUoIMe-JYdrP"
      },
      "source": [
        "----------------------------------------------------------------------"
      ]
    },
    {
      "cell_type": "markdown",
      "metadata": {
        "id": "JIQ8RlMGwZyt"
      },
      "source": [
        "## **Job Bonus 2**\n",
        "\n",
        "**Un algorithme de tri, notion fondamentale en informatique ou en mathématiques, est un algorithme qui permet d'organiser une collection d'objets selon une relation d'ordre déterminée. Suivant la relation d'ordre considérée, une même collection d’objet peut donner lieu à divers arrangements.**\n",
        "\n",
        "Par exemple, on pourrait trier un tableau `tab` d'entiers naturels de $1$ à $N$ dans un ordre croissant ou décroissant.\n",
        "\n",
        "L'implémentation des algorithmes de tri est un excellent exercice pour comprendre des concepts fondamentaux de la programmation, comprendre d'autres algorithmes et se préparer à des entretiens techniques.\n",
        "\n",
        "Tentez d'implémenter un ou plusieurs des algorithmes de tri suivants :\n",
        "\n",
        "* **Tri à bulles (bubble sort)**\n",
        "* **Tri par insertion (Insertion sort)**\n",
        "* **Tri fusion (merge sort)**\n",
        "* **Tri rapide (quick sort)**\n",
        "\n",
        "\n",
        "\n",
        "*Pour des raisons d'organisation et lisibilité de votre notebook, créez vos différentes implémentations des algorithmes de tri dans des fichiers .py que vous viendrez appeler à l'aide de la cellule ci-dessous :*"
      ]
    },
    {
      "cell_type": "code",
      "execution_count": 57,
      "metadata": {
        "id": "q3BmeEQSxM0g"
      },
      "outputs": [
        {
          "name": "stdout",
          "output_type": "stream",
          "text": [
            "Liste aléatoire générée : [6, 77, 59, 87, 61, 91, 71, 3, 55, 70, 25, 35, 16, 78, 88, 28, 52, 45, 90, 1, 17, 84, 26, 56, 5, 97, 14, 46, 9, 66, 81, 43, 24, 21, 68, 57, 27, 83, 89, 80, 74, 54, 11, 33, 12, 72, 51, 38, 100, 37, 58, 29, 69, 94, 49, 2, 60, 23, 30, 34, 7, 79, 65, 53, 50, 19, 15, 36, 20, 98, 40, 96, 86, 95, 92, 8, 63, 41, 99, 18, 93, 48, 47, 64, 73, 44, 22, 39, 42, 76, 82, 10, 13, 31, 67, 75, 4, 62, 85, 32]\n",
            "Original list: [6, 77, 59, 87, 61, 91, 71, 3, 55, 70, 25, 35, 16, 78, 88, 28, 52, 45, 90, 1, 17, 84, 26, 56, 5, 97, 14, 46, 9, 66, 81, 43, 24, 21, 68, 57, 27, 83, 89, 80, 74, 54, 11, 33, 12, 72, 51, 38, 100, 37, 58, 29, 69, 94, 49, 2, 60, 23, 30, 34, 7, 79, 65, 53, 50, 19, 15, 36, 20, 98, 40, 96, 86, 95, 92, 8, 63, 41, 99, 18, 93, 48, 47, 64, 73, 44, 22, 39, 42, 76, 82, 10, 13, 31, 67, 75, 4, 62, 85, 32]\n",
            "Sorted list using Bubble Sort (ascending): [1, 2, 3, 4, 5, 6, 7, 8, 9, 10, 11, 12, 13, 14, 15, 16, 17, 18, 19, 20, 21, 22, 23, 24, 25, 26, 27, 28, 29, 30, 31, 32, 33, 34, 35, 36, 37, 38, 39, 40, 41, 42, 43, 44, 45, 46, 47, 48, 49, 50, 51, 52, 53, 54, 55, 56, 57, 58, 59, 60, 61, 62, 63, 64, 65, 66, 67, 68, 69, 70, 71, 72, 73, 74, 75, 76, 77, 78, 79, 80, 81, 82, 83, 84, 85, 86, 87, 88, 89, 90, 91, 92, 93, 94, 95, 96, 97, 98, 99, 100]\n",
            "Time taken by Bubble Sort (ascending): 0.0012315043 seconds\n",
            "\n",
            "Original list: [6, 77, 59, 87, 61, 91, 71, 3, 55, 70, 25, 35, 16, 78, 88, 28, 52, 45, 90, 1, 17, 84, 26, 56, 5, 97, 14, 46, 9, 66, 81, 43, 24, 21, 68, 57, 27, 83, 89, 80, 74, 54, 11, 33, 12, 72, 51, 38, 100, 37, 58, 29, 69, 94, 49, 2, 60, 23, 30, 34, 7, 79, 65, 53, 50, 19, 15, 36, 20, 98, 40, 96, 86, 95, 92, 8, 63, 41, 99, 18, 93, 48, 47, 64, 73, 44, 22, 39, 42, 76, 82, 10, 13, 31, 67, 75, 4, 62, 85, 32]\n",
            "Sorted list using Bubble Sort (descending): [100, 99, 98, 97, 96, 95, 94, 93, 92, 91, 90, 89, 88, 87, 86, 85, 84, 83, 82, 81, 80, 79, 78, 77, 76, 75, 74, 73, 72, 71, 70, 69, 68, 67, 66, 65, 64, 63, 62, 61, 60, 59, 58, 57, 56, 55, 54, 53, 52, 51, 50, 49, 48, 47, 46, 45, 44, 43, 42, 41, 40, 39, 38, 37, 36, 35, 34, 33, 32, 31, 30, 29, 28, 27, 26, 25, 24, 23, 22, 21, 20, 19, 18, 17, 16, 15, 14, 13, 12, 11, 10, 9, 8, 7, 6, 5, 4, 3, 2, 1]\n",
            "Time taken by Bubble Sort (descending): 0.0012315043 seconds\n",
            "\n",
            "Original list: [6, 77, 59, 87, 61, 91, 71, 3, 55, 70, 25, 35, 16, 78, 88, 28, 52, 45, 90, 1, 17, 84, 26, 56, 5, 97, 14, 46, 9, 66, 81, 43, 24, 21, 68, 57, 27, 83, 89, 80, 74, 54, 11, 33, 12, 72, 51, 38, 100, 37, 58, 29, 69, 94, 49, 2, 60, 23, 30, 34, 7, 79, 65, 53, 50, 19, 15, 36, 20, 98, 40, 96, 86, 95, 92, 8, 63, 41, 99, 18, 93, 48, 47, 64, 73, 44, 22, 39, 42, 76, 82, 10, 13, 31, 67, 75, 4, 62, 85, 32]\n",
            "Sorted list using Insertion Sort (ascending): [1, 2, 3, 4, 5, 6, 7, 8, 9, 10, 11, 12, 13, 14, 15, 16, 17, 18, 19, 20, 21, 22, 23, 24, 25, 26, 27, 28, 29, 30, 31, 32, 33, 34, 35, 36, 37, 38, 39, 40, 41, 42, 43, 44, 45, 46, 47, 48, 49, 50, 51, 52, 53, 54, 55, 56, 57, 58, 59, 60, 61, 62, 63, 64, 65, 66, 67, 68, 69, 70, 71, 72, 73, 74, 75, 76, 77, 78, 79, 80, 81, 82, 83, 84, 85, 86, 87, 88, 89, 90, 91, 92, 93, 94, 95, 96, 97, 98, 99, 100]\n",
            "Time taken by Insertion Sort (ascending): 0.0005262365 seconds\n",
            "\n",
            "Original list: [6, 77, 59, 87, 61, 91, 71, 3, 55, 70, 25, 35, 16, 78, 88, 28, 52, 45, 90, 1, 17, 84, 26, 56, 5, 97, 14, 46, 9, 66, 81, 43, 24, 21, 68, 57, 27, 83, 89, 80, 74, 54, 11, 33, 12, 72, 51, 38, 100, 37, 58, 29, 69, 94, 49, 2, 60, 23, 30, 34, 7, 79, 65, 53, 50, 19, 15, 36, 20, 98, 40, 96, 86, 95, 92, 8, 63, 41, 99, 18, 93, 48, 47, 64, 73, 44, 22, 39, 42, 76, 82, 10, 13, 31, 67, 75, 4, 62, 85, 32]\n",
            "Sorted list using Insertion Sort (descending): [100, 99, 98, 97, 96, 95, 94, 93, 92, 91, 90, 89, 88, 87, 86, 85, 84, 83, 82, 81, 80, 79, 78, 77, 76, 75, 74, 73, 72, 71, 70, 69, 68, 67, 66, 65, 64, 63, 62, 61, 60, 59, 58, 57, 56, 55, 54, 53, 52, 51, 50, 49, 48, 47, 46, 45, 44, 43, 42, 41, 40, 39, 38, 37, 36, 35, 34, 33, 32, 31, 30, 29, 28, 27, 26, 25, 24, 23, 22, 21, 20, 19, 18, 17, 16, 15, 14, 13, 12, 11, 10, 9, 8, 7, 6, 5, 4, 3, 2, 1]\n",
            "Time taken by Insertion Sort (descending): 0.0005262365 seconds\n",
            "\n",
            "Original list: [6, 77, 59, 87, 61, 91, 71, 3, 55, 70, 25, 35, 16, 78, 88, 28, 52, 45, 90, 1, 17, 84, 26, 56, 5, 97, 14, 46, 9, 66, 81, 43, 24, 21, 68, 57, 27, 83, 89, 80, 74, 54, 11, 33, 12, 72, 51, 38, 100, 37, 58, 29, 69, 94, 49, 2, 60, 23, 30, 34, 7, 79, 65, 53, 50, 19, 15, 36, 20, 98, 40, 96, 86, 95, 92, 8, 63, 41, 99, 18, 93, 48, 47, 64, 73, 44, 22, 39, 42, 76, 82, 10, 13, 31, 67, 75, 4, 62, 85, 32]\n",
            "Sorted list using Merge Sort (ascending): [1, 2, 3, 4, 5, 6, 7, 8, 9, 10, 11, 12, 13, 14, 15, 16, 17, 18, 19, 20, 21, 22, 23, 24, 25, 26, 27, 28, 29, 30, 31, 32, 33, 34, 35, 36, 37, 38, 39, 40, 41, 42, 43, 44, 45, 46, 47, 48, 49, 50, 51, 52, 53, 54, 55, 56, 57, 58, 59, 60, 61, 62, 63, 64, 65, 66, 67, 68, 69, 70, 71, 72, 73, 74, 75, 76, 77, 78, 79, 80, 81, 82, 83, 84, 85, 86, 87, 88, 89, 90, 91, 92, 93, 94, 95, 96, 97, 98, 99, 100]\n",
            "Time taken by Merge Sort (ascending): 0.0003004637 seconds\n",
            "\n",
            "Original list: [6, 77, 59, 87, 61, 91, 71, 3, 55, 70, 25, 35, 16, 78, 88, 28, 52, 45, 90, 1, 17, 84, 26, 56, 5, 97, 14, 46, 9, 66, 81, 43, 24, 21, 68, 57, 27, 83, 89, 80, 74, 54, 11, 33, 12, 72, 51, 38, 100, 37, 58, 29, 69, 94, 49, 2, 60, 23, 30, 34, 7, 79, 65, 53, 50, 19, 15, 36, 20, 98, 40, 96, 86, 95, 92, 8, 63, 41, 99, 18, 93, 48, 47, 64, 73, 44, 22, 39, 42, 76, 82, 10, 13, 31, 67, 75, 4, 62, 85, 32]\n",
            "Sorted list using Merge Sort (descending): [100, 99, 98, 97, 96, 95, 94, 93, 92, 91, 90, 89, 88, 87, 86, 85, 84, 83, 82, 81, 80, 79, 78, 77, 76, 75, 74, 73, 72, 71, 70, 69, 68, 67, 66, 65, 64, 63, 62, 61, 60, 59, 58, 57, 56, 55, 54, 53, 52, 51, 50, 49, 48, 47, 46, 45, 44, 43, 42, 41, 40, 39, 38, 37, 36, 35, 34, 33, 32, 31, 30, 29, 28, 27, 26, 25, 24, 23, 22, 21, 20, 19, 18, 17, 16, 15, 14, 13, 12, 11, 10, 9, 8, 7, 6, 5, 4, 3, 2, 1]\n",
            "Time taken by Merge Sort (descending): 0.0003004637 seconds\n",
            "\n",
            "Original list: [6, 77, 59, 87, 61, 91, 71, 3, 55, 70, 25, 35, 16, 78, 88, 28, 52, 45, 90, 1, 17, 84, 26, 56, 5, 97, 14, 46, 9, 66, 81, 43, 24, 21, 68, 57, 27, 83, 89, 80, 74, 54, 11, 33, 12, 72, 51, 38, 100, 37, 58, 29, 69, 94, 49, 2, 60, 23, 30, 34, 7, 79, 65, 53, 50, 19, 15, 36, 20, 98, 40, 96, 86, 95, 92, 8, 63, 41, 99, 18, 93, 48, 47, 64, 73, 44, 22, 39, 42, 76, 82, 10, 13, 31, 67, 75, 4, 62, 85, 32]\n",
            "Sorted list using Quick Sort (ascending): [1, 2, 3, 4, 5, 6, 7, 8, 9, 10, 11, 12, 13, 14, 15, 16, 17, 18, 19, 20, 21, 22, 23, 24, 25, 26, 27, 28, 29, 30, 31, 32, 33, 34, 35, 36, 37, 38, 39, 40, 41, 42, 43, 44, 45, 46, 47, 48, 49, 50, 51, 52, 53, 54, 55, 56, 57, 58, 59, 60, 61, 62, 63, 64, 65, 66, 67, 68, 69, 70, 71, 72, 73, 74, 75, 76, 77, 78, 79, 80, 81, 82, 83, 84, 85, 86, 87, 88, 89, 90, 91, 92, 93, 94, 95, 96, 97, 98, 99, 100]\n",
            "Time taken by Quick Sort (ascending): 0.0002581234 seconds\n",
            "\n",
            "Original list: [6, 77, 59, 87, 61, 91, 71, 3, 55, 70, 25, 35, 16, 78, 88, 28, 52, 45, 90, 1, 17, 84, 26, 56, 5, 97, 14, 46, 9, 66, 81, 43, 24, 21, 68, 57, 27, 83, 89, 80, 74, 54, 11, 33, 12, 72, 51, 38, 100, 37, 58, 29, 69, 94, 49, 2, 60, 23, 30, 34, 7, 79, 65, 53, 50, 19, 15, 36, 20, 98, 40, 96, 86, 95, 92, 8, 63, 41, 99, 18, 93, 48, 47, 64, 73, 44, 22, 39, 42, 76, 82, 10, 13, 31, 67, 75, 4, 62, 85, 32]\n",
            "Sorted list using Quick Sort (descending): [100, 99, 98, 97, 96, 95, 94, 93, 92, 91, 90, 89, 88, 87, 86, 85, 84, 83, 82, 81, 80, 79, 78, 77, 76, 75, 74, 73, 72, 71, 70, 69, 68, 67, 66, 65, 64, 63, 62, 61, 60, 59, 58, 57, 56, 55, 54, 53, 52, 51, 50, 49, 48, 47, 46, 45, 44, 43, 42, 41, 40, 39, 38, 37, 36, 35, 34, 33, 32, 31, 30, 29, 28, 27, 26, 25, 24, 23, 22, 21, 20, 19, 18, 17, 16, 15, 14, 13, 12, 11, 10, 9, 8, 7, 6, 5, 4, 3, 2, 1]\n",
            "Time taken by Quick Sort (descending): 0.0002581234 seconds\n",
            "\n"
          ]
        },
        {
          "data": {
            "image/png": "[encoded data removed]",
            "text/plain": [
              "<Figure size 1000x600 with 1 Axes>"
            ]
          },
          "metadata": {},
          "output_type": "display_data"
        },
        {
          "data": {
            "image/png": "[encoded data removed]",
            "text/plain": [
              "<Figure size 1000x600 with 1 Axes>"
            ]
          },
          "metadata": {},
          "output_type": "display_data"
        }
      ],
      "source": [
        "import timeit\n",
        "import random\n",
        "from bubble_sort import bubble_sort\n",
        "from insertion_sort import insertion_sort\n",
        "from merge_sort import merge_sort   \n",
        "from quick_sort import quick_sort\n",
        "\n",
        "input_list = random.sample(range(1, 101), 100)\n",
        "print(f\"Liste aléatoire générée : {input_list}\")\n",
        "\n",
        "sort_functions = [bubble_sort, insertion_sort, merge_sort, quick_sort]\n",
        "sort_names = [\"Bubble Sort\", \"Insertion Sort\", \"Merge Sort\", \"Quick Sort\"]\n",
        "\n",
        "execution_times_ascending = []\n",
        "execution_times_descending = []\n",
        "\n",
        "for func, name in zip(sort_functions, sort_names):\n",
        "\n",
        "    timer = timeit.Timer(lambda: func(input_list.copy(), reverse=False))\n",
        "    elapsed_time = timer.timeit(number=10000) / 10000 \n",
        "    execution_times_ascending.append(elapsed_time)\n",
        "\n",
        "    timer = timeit.Timer(lambda: func(input_list.copy(), reverse=True))\n",
        "    elapsed_time = timer.timeit(number=10000) / 10000 \n",
        "    execution_times_descending.append(elapsed_time)\n",
        "\n",
        "    sorted_list_ascending = func(input_list.copy(), reverse=False)\n",
        "    sorted_list_descending = func(input_list.copy(), reverse=True)\n",
        "    \n",
        "    print(f\"Original list: {input_list}\")\n",
        "    print(f\"Sorted list using {name} (ascending): {sorted_list_ascending}\")\n",
        "    print(f\"Time taken by {name} (ascending): {elapsed_time:.10f} seconds\\n\")\n",
        "    \n",
        "    print(f\"Original list (reversed): {input_list[::-1]}\")\n",
        "    print(f\"Sorted list using {name} (descending): {sorted_list_descending}\")\n",
        "    print(f\"Time taken by {name} (descending): {elapsed_time:.10f} seconds\\n\")\n",
        "\n",
        "plt.figure(figsize=(10, 6))\n",
        "plt.bar(sort_names, execution_times_ascending, color=['blue', 'green', 'red', 'purple'])\n",
        "plt.title(\"Temps d'exécution des algorithmes de tri pour une liste aléatoire de 100 entiers natuels de 1 à 100 (croissant)\")\n",
        "plt.xlabel(\"Algorithmes de Tri\")\n",
        "plt.ylabel(\"Temps d'exécution moyen en secondes sur 10000 itérations\")\n",
        "plt.show()\n",
        "\n",
        "plt.figure(figsize=(10, 6))\n",
        "plt.bar(sort_names, execution_times_descending, color=['blue', 'green', 'red', 'purple'])\n",
        "plt.title(\"Temps d'exécution des algorithmes de tri pour une liste aléatoire de 100 entiers natuels de 1 à 100 (décroissant)\")\n",
        "plt.xlabel(\"Algorithmes de Tri\")\n",
        "plt.ylabel(\"Temps d'exécution moyen en secondes sur 10000 itérations\")\n",
        "plt.show()"
      ]
    }
  ],
  "metadata": {
    "colab": {
      "include_colab_link": true,
      "provenance": [],
      "toc_visible": true
    },
    "kernelspec": {
      "display_name": "Python 3",
      "name": "python3"
    },
    "language_info": {
      "codemirror_mode": {
        "name": "ipython",
        "version": 3
      },
      "file_extension": ".py",
      "mimetype": "text/x-python",
      "name": "python",
      "nbconvert_exporter": "python",
      "pygments_lexer": "ipython3",
      "version": "3.12.0b2"
    }
  },
  "nbformat": 4,
  "nbformat_minor": 0
}
